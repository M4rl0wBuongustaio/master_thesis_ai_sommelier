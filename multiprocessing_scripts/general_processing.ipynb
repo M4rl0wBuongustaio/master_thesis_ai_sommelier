{
 "cells": [
  {
   "cell_type": "code",
   "execution_count": 9,
   "metadata": {
    "collapsed": true
   },
   "outputs": [],
   "source": [
    "from multiprocessing_scripts import sentiment_analysis, emoji_count, emoji_index\n",
    "import pandas as pd\n",
    "import numpy as np\n",
    "import sqlite3\n",
    "import emoji"
   ]
  },
  {
   "cell_type": "markdown",
   "source": [
    "### Removing NAs and Duplicates REVIEW"
   ],
   "metadata": {
    "collapsed": false
   }
  },
  {
   "cell_type": "code",
   "execution_count": 2,
   "outputs": [],
   "source": [
    "con_rev = sqlite3.connect('../database/review.db')\n",
    "df_rev = pd.read_sql_query(\"SELECT * from review\", con_rev)"
   ],
   "metadata": {
    "collapsed": false
   }
  },
  {
   "cell_type": "code",
   "execution_count": null,
   "outputs": [],
   "source": [
    "df_rev['note_length'] = df_rev.apply(lambda row: len(str(row.note).split()), axis=1)"
   ],
   "metadata": {
    "collapsed": false
   }
  },
  {
   "cell_type": "code",
   "execution_count": 11,
   "outputs": [
    {
     "name": "stdout",
     "output_type": "stream",
     "text": [
      "8518578\n",
      "8518578\n"
     ]
    }
   ],
   "source": [
    "print(len(df_rev))\n",
    "df_rev.dropna(how='any', inplace=True)\n",
    "df_rev.note.dropna(how='any', inplace=True)\n",
    "# Remove ratings with empty notes\n",
    "df_rev = df_rev[df_rev.note_length > 0]\n",
    "df_rev.id.drop_duplicates(inplace=True)\n",
    "print(len(df_rev))"
   ],
   "metadata": {
    "collapsed": false
   }
  },
  {
   "cell_type": "code",
   "execution_count": 7,
   "outputs": [],
   "source": [
    "df_rev.note = df_rev.note.str.lower()\n",
    "df_rev.note = df_rev.note.str.replace('vivino', '')\n",
    "df_rev.note = df_rev.note.str.replace('\\n', '')"
   ],
   "metadata": {
    "collapsed": false
   }
  },
  {
   "cell_type": "code",
   "execution_count": 8,
   "outputs": [
    {
     "data": {
      "text/plain": "8518578"
     },
     "execution_count": 8,
     "metadata": {},
     "output_type": "execute_result"
    }
   ],
   "source": [
    "df_rev.sort_values(by='id', inplace=True)\n",
    "if 'index' in df_rev.columns:\n",
    "    df_rev.drop(columns='index', inplace=True)\n",
    "df_rev.to_sql('review', con=con_rev, if_exists='replace')"
   ],
   "metadata": {
    "collapsed": false
   }
  },
  {
   "cell_type": "markdown",
   "source": [
    "### Transform Emojis to CLDR short name"
   ],
   "metadata": {
    "collapsed": false
   }
  },
  {
   "cell_type": "code",
   "execution_count": 3,
   "outputs": [],
   "source": [
    "con_rev = sqlite3.connect('../database/review.db')\n",
    "df_rev = pd.read_sql_query(\"SELECT * from review\", con_rev)"
   ],
   "metadata": {
    "collapsed": false
   }
  },
  {
   "cell_type": "code",
   "execution_count": 5,
   "outputs": [],
   "source": [
    "emoji_list = list(emoji.EMOJI_DATA.keys())\n",
    "emoji_list = '|'.join(emoji_list)\n",
    "# *-symbol causes an error with regex -> remove\n",
    "emoji_list = emoji_list.replace('*', '')"
   ],
   "metadata": {
    "collapsed": false
   }
  },
  {
   "cell_type": "code",
   "execution_count": 6,
   "outputs": [],
   "source": [
    "emoji_indexes = emoji_index.process(df=df_rev, emoji_list=emoji_list)"
   ],
   "metadata": {
    "collapsed": false
   }
  },
  {
   "cell_type": "code",
   "execution_count": 3,
   "outputs": [],
   "source": [
    "def replace_emojis(df: pd.DataFrame, indexes):\n",
    "    for index in indexes:\n",
    "        note: str = df.loc[index, 'note']\n",
    "        emojis = emoji.distinct_emoji_list(note)\n",
    "        for var_emoji in emojis:\n",
    "            emoji_name = emoji.demojize(var_emoji).replace(':', '').replace('_', ' ')\n",
    "            note = note.replace(var_emoji, emoji_name + ' ')\n",
    "        df.loc[index, 'note'] = note\n",
    "    return df"
   ],
   "metadata": {
    "collapsed": false
   }
  },
  {
   "cell_type": "code",
   "execution_count": 8,
   "outputs": [],
   "source": [
    "df_rev_no_emoji = replace_emojis(df=df_rev, indexes=emoji_indexes)"
   ],
   "metadata": {
    "collapsed": false
   }
  },
  {
   "cell_type": "code",
   "execution_count": 63,
   "outputs": [
    {
     "data": {
      "text/plain": "8518578"
     },
     "execution_count": 63,
     "metadata": {},
     "output_type": "execute_result"
    }
   ],
   "source": [
    "con_rev_no_emojis = sqlite3.connect('../database/review_no_emojis.db')\n",
    "df_rev_no_emoji.sort_values(by='id', inplace=True)\n",
    "if 'index' in df_rev_no_emoji.columns:\n",
    "    df_rev_no_emoji.drop(columns='index', inplace=True)\n",
    "df_rev_no_emoji.to_sql('review_no_emojis', con=con_rev_no_emojis, if_exists='replace')"
   ],
   "metadata": {
    "collapsed": false
   }
  },
  {
   "cell_type": "markdown",
   "source": [
    "### Spelling correction REVIEW-NO-EMOJIS"
   ],
   "metadata": {
    "collapsed": false
   }
  },
  {
   "cell_type": "code",
   "execution_count": 2,
   "outputs": [
    {
     "data": {
      "text/plain": "     id                        note\n0  3975  excellent full bodied wine",
      "text/html": "<div>\n<style scoped>\n    .dataframe tbody tr th:only-of-type {\n        vertical-align: middle;\n    }\n\n    .dataframe tbody tr th {\n        vertical-align: top;\n    }\n\n    .dataframe thead th {\n        text-align: right;\n    }\n</style>\n<table border=\"1\" class=\"dataframe\">\n  <thead>\n    <tr style=\"text-align: right;\">\n      <th></th>\n      <th>id</th>\n      <th>note</th>\n    </tr>\n  </thead>\n  <tbody>\n    <tr>\n      <th>0</th>\n      <td>3975</td>\n      <td>excellent full bodied wine</td>\n    </tr>\n  </tbody>\n</table>\n</div>"
     },
     "execution_count": 2,
     "metadata": {},
     "output_type": "execute_result"
    }
   ],
   "source": [
    "con_rev_sentiment = sqlite3.connect('../database/review_en_sentiment.db')\n",
    "df_rev_sentiment = pd.read_sql_query(\"SELECT id, note FROM review_en_sentiment\", con_rev_sentiment)\n",
    "con_rev_sentiment.close()\n",
    "df_rev_sentiment.head(n=1)"
   ],
   "metadata": {
    "collapsed": false
   }
  },
  {
   "cell_type": "code",
   "execution_count": null,
   "outputs": [],
   "source": [
    "from neuspell import BertChecker\n",
    "\n",
    "bc = BertChecker()\n",
    "bc.from_pretrained()"
   ],
   "metadata": {
    "collapsed": false,
    "pycharm": {
     "is_executing": true
    }
   }
  },
  {
   "cell_type": "code",
   "execution_count": 8,
   "outputs": [
    {
     "name": "stdout",
     "output_type": "stream",
     "text": [
      "Original: my 1st white burgundy.  i liked it but nothing too special.  it reminded me of a lighter sauvignon blanc.\n",
      "Corrected: my 1st white burgundy . i liked it but nothing too special . it reminded me of a lighter sauvignon blanc .\n",
      "\n",
      "Original: (4.0)100% romorantin (probably cross of pn&gouais, exclusively in cour-cheverny aoc). biodynamic.med intense nose, very fresh and lively, mix of acacia, green vegetables, citrus fruits and minerals.light+ bodied, dry, very mineral, vigorous, flavors of silex, green herbs, some lime and honey.great finish, long, highly zippy with grapefruit zest.reportedly close to chablis, but that one with more fruity impact. \n",
      "Corrected: ( 4 . 0 ) 100 % romorantin ( probably cross of pink & gouais , exclusively in four - cheverny acid ) . biodynamic . med intense nose , very fresh and lively , mix of acacia , green vegetables , citrus fruits and minerals . light + bodied , dry , very mineral , vigorous , flavors of sales , green herbs , some lime and honey . great finish , long , highly zippy with grapefruit zest . reportedly close to chablis , but that one with more fruity impact .\n",
      "\n",
      "Original: very good \n",
      "Corrected: very good\n",
      "\n",
      "Original: lighter color due to its relative higher altitudesour cherry, blackberry blackcurrant raspberry red fruit floral leather hawthorn mushroom oak game white pepperdry medium+ acidity body medium smooth tannins alcohol medium + intensity and lengthintense on the nose\n",
      "Corrected: lighter color due to its relative higher altitudesour cherry , blackberry blackcurrant raspberry red fruit floral leather hawthorn mushroom oak game white pepperdry medium + acidity body medium smooth tanning alcohol medium + intensity and lengthintense on the nose\n",
      "\n",
      "Original: almost perefect! a bit more complexity and body, a bit cheaper and i would drunk it every day!!\n",
      "Corrected: almost perfect ! a bit more complexity and body , a bit cheaper and I would drunk it every day ! !\n",
      "\n",
      "Original: dark, garnet color. very rich with dark berry flavors. opens up beautifully.\n",
      "Corrected: dark , garnet color . very rich with dark berry flavors . opens up beautifully .\n",
      "\n",
      "Original: nice wine. a little light.\n",
      "Corrected: nice wine . a little light .\n",
      "\n",
      "Original: lovely well balanced champagne from deutz, france. great way to start the weekend!clinking glasses  appearance pale intensity, lemon, clear, medium(+) fizzy. on the nose clean, medium intensity aroma of red apples, toast, lemon. palate with medium(+) acid, dry with some sweetness, medium body, abv medium, flavours intensity medium(+), finish long. flavours red apples, toast, lemon, wet stone and a whiff of grapefruit in the finish. \n",
      "Corrected: lovely well balanced champagne from deutz , france . great way to start the weekend ! clinking glasses appearance pale intensity , lemon , clear , medium ( + ) fizzy . on the nose clean , medium intensity aroma of red apples , toast , lemon . palate with medium ( + ) acid , dry with some sweetness , medium body , abv medium , flavours intensity medium ( + ) , finish long . flavoured red apples , toast , lemon , wet stone and a whiff of grapefruit in the finish .\n",
      "\n",
      "Original: easy to drink\n",
      "Corrected: easy to drink\n",
      "\n",
      "Original: we all know what to expect from this winery. it’s another consistent example of what they do. however, we shouldn’t hold this vintage at least based on what we’ve tasted. \n",
      "Corrected: we all know what to expect from this winery . it ' as another consistent example of what they do . however , we should ' to hold this vintage at least based on what we have and tasted .\n",
      "\n",
      "Original: everything that makes brunello unique. bright fruit, integrated tannins, smoke, leather, earth. wish i had another bottle.  excellent. \n",
      "Corrected: everything that makes brunello unique . bright fruit , integrated tannins , smoke , leather , earth . wish i had another bottle . excellent .\n",
      "\n",
      "Original: fine combination of green tree fruits and citrus flavors. intense aromas get your attention   dry and smoothed with honey and delicious till the finish \n",
      "Corrected: fine combination of green tree fruits and citrus flavors . intense aromas get your attention dry and smoothed with honey and delicious till the finish\n",
      "\n",
      "Original: good qpr brunello\n",
      "Corrected: good qpr brunello\n",
      "\n",
      "Original: supper\n",
      "Corrected: supper\n",
      "\n",
      "Original: a little too dry for me. super mineral\n",
      "Corrected: a little too dry for me . super mineral\n",
      "\n",
      "Original: instant and deep aroma of passion fruit. notorious legs, brilliant golden color. young elixir paired with ceviche, chicharrón and tiradito. high acidity.\n",
      "Corrected: instant and deep aroma of passion fruit . notorious legs , brilliant golden color . young elixir paired with ceviche , chicharrón and tiradito . high acidity .\n",
      "\n",
      "Original: great for enjoying without any food\n",
      "Corrected: great for enjoying without any food\n",
      "\n",
      "Original: secondary aromas predominate on the nose - oak, vanilla followed by ripe peach, apple, banana & ripe lemon. long finish. really lovely\n",
      "Corrected: secondary aromas predominate on the nose - oak , vanilla followed by ripe peach , apple , banana & ripe lemon . long finish . really lovely\n",
      "\n",
      "Original: fruity, almost desert wine.\n",
      "Corrected: fruity , almost desert wine .\n",
      "\n",
      "Original: anniversary \n",
      "Corrected: anniversary\n",
      "\n"
     ]
    }
   ],
   "source": [
    "note_sample = df_rev_sentiment.note.sample(n=20)\n",
    "\n",
    "for note in note_sample:\n",
    "    print(\n",
    "        'Original: ' + note + '\\n' +\n",
    "        'Corrected: ' + bc.correct(note) + '\\n'\n",
    "    )"
   ],
   "metadata": {
    "collapsed": false
   }
  },
  {
   "cell_type": "code",
   "execution_count": 4,
   "outputs": [
    {
     "name": "stdout",
     "output_type": "stream",
     "text": [
      "loading vocab from path:/Users/leonbecker/neuspell/neuspell/../data/checkpoints/subwordbert-probwordnoise/vocab.pkl\n",
      "initializing model\n"
     ]
    },
    {
     "name": "stderr",
     "output_type": "stream",
     "text": [
      "Some weights of the model checkpoint at bert-base-cased were not used when initializing BertModel: ['cls.predictions.transform.LayerNorm.bias', 'cls.seq_relationship.weight', 'cls.predictions.bias', 'cls.predictions.decoder.weight', 'cls.predictions.transform.dense.weight', 'cls.seq_relationship.bias', 'cls.predictions.transform.LayerNorm.weight', 'cls.predictions.transform.dense.bias']\n",
      "- This IS expected if you are initializing BertModel from the checkpoint of a model trained on another task or with another architecture (e.g. initializing a BertForSequenceClassification model from a BertForPreTraining model).\n",
      "- This IS NOT expected if you are initializing BertModel from the checkpoint of a model that you expect to be exactly identical (initializing a BertForSequenceClassification model from a BertForSequenceClassification model).\n"
     ]
    },
    {
     "name": "stdout",
     "output_type": "stream",
     "text": [
      "Number of parameters in the model: 185211810\n",
      "Loading model params from checkpoint dir: /Users/leonbecker/neuspell/neuspell/../data/checkpoints/subwordbert-probwordnoise\n"
     ]
    },
    {
     "name": "stderr",
     "output_type": "stream",
     "text": [
      "100%|██████████| 3976851/3976851 [66:48:20<00:00, 16.54it/s]    \n"
     ]
    },
    {
     "name": "stdout",
     "output_type": "stream",
     "text": [
      "2 days, 18:48:20.852025\n"
     ]
    },
    {
     "data": {
      "text/plain": "3976851"
     },
     "execution_count": 4,
     "metadata": {},
     "output_type": "execute_result"
    }
   ],
   "source": [
    "from tqdm import tqdm\n",
    "from datetime import datetime\n",
    "\n",
    "\n",
    "df = df_rev_sentiment\n",
    "start = datetime.now()\n",
    "\n",
    "for i in tqdm(df.index):\n",
    "    df.loc[i, 'note'] = bc.correct(df.loc[i, 'note']).lower()\n",
    "\n",
    "print(datetime.now()- start)\n",
    "\n",
    "con_rev_sentiment_sc = sqlite3.connect('../database/review_en_sentiment_sc.db')\n",
    "df.to_sql('review_en_sentiment_sc', con=con_rev_sentiment_sc, if_exists='replace')"
   ],
   "metadata": {
    "collapsed": false
   }
  },
  {
   "cell_type": "code",
   "execution_count": 6,
   "outputs": [
    {
     "data": {
      "text/plain": "   index    id  wine_id  rating                        note  \\\n0      0  3975  1101258     4.0  excellent full bodied wine   \n\n                 created_at  likes_count  comments_count  \\\n0  2011-07-19T21:21:22.000Z          2.0             1.0   \n\n                                scan_image_path  user_id  note_length  \\\n0  images.vivino.com/labels/1309631550_2382.jpg    32547            4   \n\n  len_code  sentiment  \n0       en   0.938549  ",
      "text/html": "<div>\n<style scoped>\n    .dataframe tbody tr th:only-of-type {\n        vertical-align: middle;\n    }\n\n    .dataframe tbody tr th {\n        vertical-align: top;\n    }\n\n    .dataframe thead th {\n        text-align: right;\n    }\n</style>\n<table border=\"1\" class=\"dataframe\">\n  <thead>\n    <tr style=\"text-align: right;\">\n      <th></th>\n      <th>index</th>\n      <th>id</th>\n      <th>wine_id</th>\n      <th>rating</th>\n      <th>note</th>\n      <th>created_at</th>\n      <th>likes_count</th>\n      <th>comments_count</th>\n      <th>scan_image_path</th>\n      <th>user_id</th>\n      <th>note_length</th>\n      <th>len_code</th>\n      <th>sentiment</th>\n    </tr>\n  </thead>\n  <tbody>\n    <tr>\n      <th>0</th>\n      <td>0</td>\n      <td>3975</td>\n      <td>1101258</td>\n      <td>4.0</td>\n      <td>excellent full bodied wine</td>\n      <td>2011-07-19T21:21:22.000Z</td>\n      <td>2.0</td>\n      <td>1.0</td>\n      <td>images.vivino.com/labels/1309631550_2382.jpg</td>\n      <td>32547</td>\n      <td>4</td>\n      <td>en</td>\n      <td>0.938549</td>\n    </tr>\n  </tbody>\n</table>\n</div>"
     },
     "execution_count": 6,
     "metadata": {},
     "output_type": "execute_result"
    }
   ],
   "source": [
    "con_rev_sentiment = sqlite3.connect('../database/review_en_sentiment.db')\n",
    "df_rev_sentiment = pd.read_sql_query(\"SELECT * FROM review_en_sentiment\", con_rev_sentiment)\n",
    "con_rev_sentiment.close()\n",
    "df_rev_sentiment.head(n=1)"
   ],
   "metadata": {
    "collapsed": false
   }
  },
  {
   "cell_type": "code",
   "execution_count": 7,
   "outputs": [
    {
     "data": {
      "text/plain": "   index    id  wine_id  rating  \\\n0      0  3975  1101258     4.0   \n1      1  4202    76378     5.0   \n2      2  4261  1231210     5.0   \n3      3  4264  1178663     4.0   \n4      4  4354    17998     4.0   \n\n                                              note_x  \\\n0                         excellent full bodied wine   \n1  the real price at phillipson is around 1299 dk...   \n2  clean, crisp and full of nuance and elegance, ...   \n3  crisp and clean champagne, a certain fave amon...   \n4  it is not a champagne type wine! it is a red w...   \n\n                 created_at  likes_count  comments_count  \\\n0  2011-07-19T21:21:22.000Z          2.0             1.0   \n1  2011-08-06T20:52:53.000Z          0.0             1.0   \n2  2011-08-11T08:06:39.000Z          3.0             1.0   \n3  2011-08-11T09:28:07.000Z         25.0             2.0   \n4  2011-08-12T16:53:19.000Z          0.0             1.0   \n\n                                scan_image_path  user_id  note_length  \\\n0  images.vivino.com/labels/1309631550_2382.jpg    32547            4   \n1  images.vivino.com/labels/1311959128_1819.jpg    48500           39   \n2  images.vivino.com/labels/1312622458_6592.jpg    53601           17   \n3  images.vivino.com/labels/1312966707_6129.jpg    53601           22   \n4  images.vivino.com/labels/1311842730_8268.jpg    47873           12   \n\n  len_code  sentiment                                             note_y  \n0       en   0.938549                         excellent full bodied wine  \n1       en   0.576068  the real price at phillipson is around 1299 dk...  \n2       en   0.982237  clean , crisp and full of nuance and elegance ...  \n3       en   0.576195  crisp and clean champagne , a certain face amo...  \n4       en   0.736812  it is not a champagne type wine ! it is a red ...  ",
      "text/html": "<div>\n<style scoped>\n    .dataframe tbody tr th:only-of-type {\n        vertical-align: middle;\n    }\n\n    .dataframe tbody tr th {\n        vertical-align: top;\n    }\n\n    .dataframe thead th {\n        text-align: right;\n    }\n</style>\n<table border=\"1\" class=\"dataframe\">\n  <thead>\n    <tr style=\"text-align: right;\">\n      <th></th>\n      <th>index</th>\n      <th>id</th>\n      <th>wine_id</th>\n      <th>rating</th>\n      <th>note_x</th>\n      <th>created_at</th>\n      <th>likes_count</th>\n      <th>comments_count</th>\n      <th>scan_image_path</th>\n      <th>user_id</th>\n      <th>note_length</th>\n      <th>len_code</th>\n      <th>sentiment</th>\n      <th>note_y</th>\n    </tr>\n  </thead>\n  <tbody>\n    <tr>\n      <th>0</th>\n      <td>0</td>\n      <td>3975</td>\n      <td>1101258</td>\n      <td>4.0</td>\n      <td>excellent full bodied wine</td>\n      <td>2011-07-19T21:21:22.000Z</td>\n      <td>2.0</td>\n      <td>1.0</td>\n      <td>images.vivino.com/labels/1309631550_2382.jpg</td>\n      <td>32547</td>\n      <td>4</td>\n      <td>en</td>\n      <td>0.938549</td>\n      <td>excellent full bodied wine</td>\n    </tr>\n    <tr>\n      <th>1</th>\n      <td>1</td>\n      <td>4202</td>\n      <td>76378</td>\n      <td>5.0</td>\n      <td>the real price at phillipson is around 1299 dk...</td>\n      <td>2011-08-06T20:52:53.000Z</td>\n      <td>0.0</td>\n      <td>1.0</td>\n      <td>images.vivino.com/labels/1311959128_1819.jpg</td>\n      <td>48500</td>\n      <td>39</td>\n      <td>en</td>\n      <td>0.576068</td>\n      <td>the real price at phillipson is around 1299 dk...</td>\n    </tr>\n    <tr>\n      <th>2</th>\n      <td>2</td>\n      <td>4261</td>\n      <td>1231210</td>\n      <td>5.0</td>\n      <td>clean, crisp and full of nuance and elegance, ...</td>\n      <td>2011-08-11T08:06:39.000Z</td>\n      <td>3.0</td>\n      <td>1.0</td>\n      <td>images.vivino.com/labels/1312622458_6592.jpg</td>\n      <td>53601</td>\n      <td>17</td>\n      <td>en</td>\n      <td>0.982237</td>\n      <td>clean , crisp and full of nuance and elegance ...</td>\n    </tr>\n    <tr>\n      <th>3</th>\n      <td>3</td>\n      <td>4264</td>\n      <td>1178663</td>\n      <td>4.0</td>\n      <td>crisp and clean champagne, a certain fave amon...</td>\n      <td>2011-08-11T09:28:07.000Z</td>\n      <td>25.0</td>\n      <td>2.0</td>\n      <td>images.vivino.com/labels/1312966707_6129.jpg</td>\n      <td>53601</td>\n      <td>22</td>\n      <td>en</td>\n      <td>0.576195</td>\n      <td>crisp and clean champagne , a certain face amo...</td>\n    </tr>\n    <tr>\n      <th>4</th>\n      <td>4</td>\n      <td>4354</td>\n      <td>17998</td>\n      <td>4.0</td>\n      <td>it is not a champagne type wine! it is a red w...</td>\n      <td>2011-08-12T16:53:19.000Z</td>\n      <td>0.0</td>\n      <td>1.0</td>\n      <td>images.vivino.com/labels/1311842730_8268.jpg</td>\n      <td>47873</td>\n      <td>12</td>\n      <td>en</td>\n      <td>0.736812</td>\n      <td>it is not a champagne type wine ! it is a red ...</td>\n    </tr>\n  </tbody>\n</table>\n</div>"
     },
     "execution_count": 7,
     "metadata": {},
     "output_type": "execute_result"
    }
   ],
   "source": [
    "df_sc = pd.merge(df_rev_sentiment, df, on='id')\n",
    "df_sc.head()"
   ],
   "metadata": {
    "collapsed": false
   }
  },
  {
   "cell_type": "code",
   "execution_count": 14,
   "outputs": [
    {
     "data": {
      "text/plain": "   index    id  wine_id  rating                created_at  likes_count  \\\n0      0  3975  1101258     4.0  2011-07-19T21:21:22.000Z          2.0   \n1      1  4202    76378     5.0  2011-08-06T20:52:53.000Z          0.0   \n2      2  4261  1231210     5.0  2011-08-11T08:06:39.000Z          3.0   \n3      3  4264  1178663     4.0  2011-08-11T09:28:07.000Z         25.0   \n4      4  4354    17998     4.0  2011-08-12T16:53:19.000Z          0.0   \n\n   comments_count                               scan_image_path  user_id  \\\n0             1.0  images.vivino.com/labels/1309631550_2382.jpg    32547   \n1             1.0  images.vivino.com/labels/1311959128_1819.jpg    48500   \n2             1.0  images.vivino.com/labels/1312622458_6592.jpg    53601   \n3             2.0  images.vivino.com/labels/1312966707_6129.jpg    53601   \n4             1.0  images.vivino.com/labels/1311842730_8268.jpg    47873   \n\n   note_length len_code  sentiment  \\\n0            4       en   0.938549   \n1           39       en   0.576068   \n2           17       en   0.982237   \n3           22       en   0.576195   \n4           12       en   0.736812   \n\n                                                note  \n0                         excellent full bodied wine  \n1  the real price at phillipson is around 1299 dk...  \n2  clean , crisp and full of nuance and elegance ...  \n3  crisp and clean champagne , a certain face amo...  \n4  it is not a champagne type wine ! it is a red ...  ",
      "text/html": "<div>\n<style scoped>\n    .dataframe tbody tr th:only-of-type {\n        vertical-align: middle;\n    }\n\n    .dataframe tbody tr th {\n        vertical-align: top;\n    }\n\n    .dataframe thead th {\n        text-align: right;\n    }\n</style>\n<table border=\"1\" class=\"dataframe\">\n  <thead>\n    <tr style=\"text-align: right;\">\n      <th></th>\n      <th>index</th>\n      <th>id</th>\n      <th>wine_id</th>\n      <th>rating</th>\n      <th>created_at</th>\n      <th>likes_count</th>\n      <th>comments_count</th>\n      <th>scan_image_path</th>\n      <th>user_id</th>\n      <th>note_length</th>\n      <th>len_code</th>\n      <th>sentiment</th>\n      <th>note</th>\n    </tr>\n  </thead>\n  <tbody>\n    <tr>\n      <th>0</th>\n      <td>0</td>\n      <td>3975</td>\n      <td>1101258</td>\n      <td>4.0</td>\n      <td>2011-07-19T21:21:22.000Z</td>\n      <td>2.0</td>\n      <td>1.0</td>\n      <td>images.vivino.com/labels/1309631550_2382.jpg</td>\n      <td>32547</td>\n      <td>4</td>\n      <td>en</td>\n      <td>0.938549</td>\n      <td>excellent full bodied wine</td>\n    </tr>\n    <tr>\n      <th>1</th>\n      <td>1</td>\n      <td>4202</td>\n      <td>76378</td>\n      <td>5.0</td>\n      <td>2011-08-06T20:52:53.000Z</td>\n      <td>0.0</td>\n      <td>1.0</td>\n      <td>images.vivino.com/labels/1311959128_1819.jpg</td>\n      <td>48500</td>\n      <td>39</td>\n      <td>en</td>\n      <td>0.576068</td>\n      <td>the real price at phillipson is around 1299 dk...</td>\n    </tr>\n    <tr>\n      <th>2</th>\n      <td>2</td>\n      <td>4261</td>\n      <td>1231210</td>\n      <td>5.0</td>\n      <td>2011-08-11T08:06:39.000Z</td>\n      <td>3.0</td>\n      <td>1.0</td>\n      <td>images.vivino.com/labels/1312622458_6592.jpg</td>\n      <td>53601</td>\n      <td>17</td>\n      <td>en</td>\n      <td>0.982237</td>\n      <td>clean , crisp and full of nuance and elegance ...</td>\n    </tr>\n    <tr>\n      <th>3</th>\n      <td>3</td>\n      <td>4264</td>\n      <td>1178663</td>\n      <td>4.0</td>\n      <td>2011-08-11T09:28:07.000Z</td>\n      <td>25.0</td>\n      <td>2.0</td>\n      <td>images.vivino.com/labels/1312966707_6129.jpg</td>\n      <td>53601</td>\n      <td>22</td>\n      <td>en</td>\n      <td>0.576195</td>\n      <td>crisp and clean champagne , a certain face amo...</td>\n    </tr>\n    <tr>\n      <th>4</th>\n      <td>4</td>\n      <td>4354</td>\n      <td>17998</td>\n      <td>4.0</td>\n      <td>2011-08-12T16:53:19.000Z</td>\n      <td>0.0</td>\n      <td>1.0</td>\n      <td>images.vivino.com/labels/1311842730_8268.jpg</td>\n      <td>47873</td>\n      <td>12</td>\n      <td>en</td>\n      <td>0.736812</td>\n      <td>it is not a champagne type wine ! it is a red ...</td>\n    </tr>\n  </tbody>\n</table>\n</div>"
     },
     "execution_count": 14,
     "metadata": {},
     "output_type": "execute_result"
    }
   ],
   "source": [
    "df_sc.drop(columns=['note_x'], inplace=True)\n",
    "df_sc.rename(columns={'note_y': 'note'}, inplace=True)\n",
    "df_sc.head()"
   ],
   "metadata": {
    "collapsed": false
   }
  },
  {
   "cell_type": "code",
   "execution_count": 25,
   "outputs": [
    {
     "data": {
      "text/plain": "3976746"
     },
     "execution_count": 25,
     "metadata": {},
     "output_type": "execute_result"
    }
   ],
   "source": [
    "con_rev_sentiment_sc = sqlite3.connect('../database/review_en_sentiment_sc.db')\n",
    "if 'index' in df_sc.columns:\n",
    "    df_sc.drop(columns='index', inplace=True)\n",
    "df_sc.drop_duplicates(subset='id', inplace=True)\n",
    "df_sc.to_sql('review_en_sentiment_sc', con=con_rev_sentiment_sc, if_exists='replace')"
   ],
   "metadata": {
    "collapsed": false
   }
  },
  {
   "cell_type": "markdown",
   "source": [
    "### Sentiment analysis"
   ],
   "metadata": {
    "collapsed": false
   }
  },
  {
   "cell_type": "code",
   "execution_count": null,
   "outputs": [],
   "source": [
    "con_rev = sqlite3.connect('../database/review_en.db')\n",
    "df_rev = pd.read_sql_query(\"SELECT id, note from review_en\", con_rev)\n",
    "results = sentiment_analysis.process(df_rev)\n",
    "df_results = pd.concat(results)\n",
    "del df_rev\n",
    "con_reviews = sqlite3.connect('../database/review_en.db')\n",
    "df_reviews = pd.read_sql_query(\"SELECT * from review_en\", con_reviews)\n",
    "df_reviews.drop(columns=['index'], inplace=True)\n",
    "df_final = pd.merge(df_reviews, df_results, on='id')\n",
    "\n",
    "con_rev_en_sent = sqlite3.connect('../database/review_en_sentiment.db')\n",
    "cur_rev_en_sent = con_rev_en_sent.cursor()\n",
    "cur_rev_en_sent.execute('CREATE TABLE IF NOT EXISTS review_en_sentiment('\n",
    "                        'id, wine_id, rating, note, created_at, likes_count, comments_count, scan_image_path, user_id, note_length, len_code, sentiment)')\n",
    "df_final.to_sql('review_en_sentiment', con=con_rev_en_sent, if_exists='replace')"
   ],
   "metadata": {
    "collapsed": false
   }
  },
  {
   "cell_type": "code",
   "execution_count": 4,
   "outputs": [
    {
     "data": {
      "text/plain": "                                                note\n0                         excellent full bodied wine\n1  the real price at phillipson is around 1299 dk...\n2  clean, crisp and full of nuance and elegance, ...\n3  crisp and clean champagne, a certain fave amon...\n4  it is not a champagne type wine! it is a red w...",
      "text/html": "<div>\n<style scoped>\n    .dataframe tbody tr th:only-of-type {\n        vertical-align: middle;\n    }\n\n    .dataframe tbody tr th {\n        vertical-align: top;\n    }\n\n    .dataframe thead th {\n        text-align: right;\n    }\n</style>\n<table border=\"1\" class=\"dataframe\">\n  <thead>\n    <tr style=\"text-align: right;\">\n      <th></th>\n      <th>note</th>\n    </tr>\n  </thead>\n  <tbody>\n    <tr>\n      <th>0</th>\n      <td>excellent full bodied wine</td>\n    </tr>\n    <tr>\n      <th>1</th>\n      <td>the real price at phillipson is around 1299 dk...</td>\n    </tr>\n    <tr>\n      <th>2</th>\n      <td>clean, crisp and full of nuance and elegance, ...</td>\n    </tr>\n    <tr>\n      <th>3</th>\n      <td>crisp and clean champagne, a certain fave amon...</td>\n    </tr>\n    <tr>\n      <th>4</th>\n      <td>it is not a champagne type wine! it is a red w...</td>\n    </tr>\n  </tbody>\n</table>\n</div>"
     },
     "execution_count": 4,
     "metadata": {},
     "output_type": "execute_result"
    }
   ],
   "source": [
    "con_rev_en = sqlite3.connect('../database/review_en.db')\n",
    "df_rev_en = pd.read_sql_query(\"SELECT note from review_en\", con_rev_en)\n",
    "df_rev_en.head()"
   ],
   "metadata": {
    "collapsed": false
   }
  },
  {
   "cell_type": "markdown",
   "source": [
    "### Emoji count REVIEW"
   ],
   "metadata": {
    "collapsed": false
   }
  },
  {
   "cell_type": "code",
   "execution_count": 3,
   "outputs": [],
   "source": [
    "emoji_list = list(emoji.EMOJI_DATA.keys())\n",
    "emoji_list = '|'.join(emoji_list)\n",
    "# *-symbol causes an error with regex -> remove\n",
    "emoji_list = emoji_list.replace('*', '')\n",
    "emoji_count = emoji_count.process(df_rev, emoji_list)"
   ],
   "metadata": {
    "collapsed": false
   }
  },
  {
   "cell_type": "code",
   "execution_count": 6,
   "outputs": [
    {
     "data": {
      "text/plain": "4.602235255696431"
     },
     "execution_count": 6,
     "metadata": {},
     "output_type": "execute_result"
    }
   ],
   "source": [
    "(emoji_count / len(df_rev)) * 100"
   ],
   "metadata": {
    "collapsed": false
   }
  },
  {
   "cell_type": "markdown",
   "source": [
    "### Emoji count REVIEW_EN"
   ],
   "metadata": {
    "collapsed": false
   }
  },
  {
   "cell_type": "code",
   "execution_count": 5,
   "outputs": [
    {
     "data": {
      "text/plain": "4.18031568748694"
     },
     "execution_count": 5,
     "metadata": {},
     "output_type": "execute_result"
    }
   ],
   "source": [
    "emoji_list = list(emoji.EMOJI_DATA.keys())\n",
    "emoji_list = '|'.join(emoji_list)\n",
    "# *-symbol causes an error with regex -> remove\n",
    "emoji_list = emoji_list.replace('*', '')\n",
    "emoji_count_en = emoji_count.process(\n",
    "    df=df_rev_en,\n",
    "    emoji_list=emoji_list\n",
    ")\n",
    "(emoji_count_en / len(df_rev_en)) * 100"
   ],
   "metadata": {
    "collapsed": false
   }
  },
  {
   "cell_type": "markdown",
   "source": [
    "### Training, Test & Validation Dataset"
   ],
   "metadata": {
    "collapsed": false
   }
  },
  {
   "cell_type": "code",
   "execution_count": 2,
   "outputs": [
    {
     "data": {
      "text/plain": "   index    id  wine_id  rating  \\\n0      0  3975  1101258     4.0   \n1      1  4202    76378     5.0   \n\n                                                note  \\\n0                         excellent full bodied wine   \n1  the real price at phillipson is around 1299 dk...   \n\n                 created_at  likes_count  comments_count  \\\n0  2011-07-19T21:21:22.000Z          2.0             1.0   \n1  2011-08-06T20:52:53.000Z          0.0             1.0   \n\n                                scan_image_path  user_id  note_length  \\\n0  images.vivino.com/labels/1309631550_2382.jpg    32547            4   \n1  images.vivino.com/labels/1311959128_1819.jpg    48500           39   \n\n  len_code  sentiment  \n0       en   0.938549  \n1       en   0.576068  ",
      "text/html": "<div>\n<style scoped>\n    .dataframe tbody tr th:only-of-type {\n        vertical-align: middle;\n    }\n\n    .dataframe tbody tr th {\n        vertical-align: top;\n    }\n\n    .dataframe thead th {\n        text-align: right;\n    }\n</style>\n<table border=\"1\" class=\"dataframe\">\n  <thead>\n    <tr style=\"text-align: right;\">\n      <th></th>\n      <th>index</th>\n      <th>id</th>\n      <th>wine_id</th>\n      <th>rating</th>\n      <th>note</th>\n      <th>created_at</th>\n      <th>likes_count</th>\n      <th>comments_count</th>\n      <th>scan_image_path</th>\n      <th>user_id</th>\n      <th>note_length</th>\n      <th>len_code</th>\n      <th>sentiment</th>\n    </tr>\n  </thead>\n  <tbody>\n    <tr>\n      <th>0</th>\n      <td>0</td>\n      <td>3975</td>\n      <td>1101258</td>\n      <td>4.0</td>\n      <td>excellent full bodied wine</td>\n      <td>2011-07-19T21:21:22.000Z</td>\n      <td>2.0</td>\n      <td>1.0</td>\n      <td>images.vivino.com/labels/1309631550_2382.jpg</td>\n      <td>32547</td>\n      <td>4</td>\n      <td>en</td>\n      <td>0.938549</td>\n    </tr>\n    <tr>\n      <th>1</th>\n      <td>1</td>\n      <td>4202</td>\n      <td>76378</td>\n      <td>5.0</td>\n      <td>the real price at phillipson is around 1299 dk...</td>\n      <td>2011-08-06T20:52:53.000Z</td>\n      <td>0.0</td>\n      <td>1.0</td>\n      <td>images.vivino.com/labels/1311959128_1819.jpg</td>\n      <td>48500</td>\n      <td>39</td>\n      <td>en</td>\n      <td>0.576068</td>\n    </tr>\n  </tbody>\n</table>\n</div>"
     },
     "execution_count": 2,
     "metadata": {},
     "output_type": "execute_result"
    }
   ],
   "source": [
    "from sklearn.model_selection import train_test_split\n",
    "\n",
    "con_rev_en_sent = sqlite3.connect('../database/review_en_sentiment.db')\n",
    "df_rev_en_sent = pd.read_sql_query(\"SELECT * from review_en_sentiment\", con_rev_en_sent)\n",
    "df_rev_en_sent.head(n=2)"
   ],
   "metadata": {
    "collapsed": false
   }
  },
  {
   "cell_type": "code",
   "execution_count": 18,
   "outputs": [
    {
     "name": "stdout",
     "output_type": "stream",
     "text": [
      "train ratio: 0.7999997988358125\n",
      "val ratio: 0.09999997485447656\n",
      "test ratio: 0.10000022630971088\n",
      "\n"
     ]
    }
   ],
   "source": [
    "train, validation, test = \\\n",
    "              np.split(df_rev_en_sent.sample(frac=1, random_state=26),\n",
    "                                [int(0.8*len(df_rev_en_sent)), int(0.9*len(df_rev_en_sent))])\n",
    "print(\n",
    "    'train ratio: ' +  str(len(train)/len(df_rev_en_sent))      + '\\n' +\n",
    "    'val ratio: ' +    str(len(validation)/len(df_rev_en_sent))   + '\\n' +\n",
    "    'test ratio: ' +   str(len(test)/len(df_rev_en_sent))       + '\\n'\n",
    ")"
   ],
   "metadata": {
    "collapsed": false
   }
  },
  {
   "cell_type": "code",
   "execution_count": 19,
   "outputs": [],
   "source": [
    "con_rev_en_train = sqlite3.connect('../finetuing_datasets/review_en_train.db')\n",
    "if 'index' in train.columns:\n",
    "    train.drop(columns='index', inplace=True)\n",
    "train.to_sql('review_en_train', con=con_rev_en_train, if_exists='replace')\n",
    "con_rev_en_train.close()\n",
    "\n",
    "con_rev_en_test = sqlite3.connect('../finetuing_datasets/review_en_test.db')\n",
    "if 'index' in test.columns:\n",
    "    test.drop(columns='index', inplace=True)\n",
    "test.to_sql('review_en_test', con=con_rev_en_test, if_exists='replace')\n",
    "con_rev_en_test.close()\n",
    "\n",
    "con_rev_en_val = sqlite3.connect('../finetuing_datasets/review_en_validation.db')\n",
    "if 'index' in validation.columns:\n",
    "    validation.drop(columns='index', inplace=True)\n",
    "validation.to_sql('review_en_validation', con=con_rev_en_val, if_exists='replace')\n",
    "con_rev_en_val.close()"
   ],
   "metadata": {
    "collapsed": false
   }
  }
 ],
 "metadata": {
  "kernelspec": {
   "display_name": "Python 3",
   "language": "python",
   "name": "python3"
  },
  "language_info": {
   "codemirror_mode": {
    "name": "ipython",
    "version": 2
   },
   "file_extension": ".py",
   "mimetype": "text/x-python",
   "name": "python",
   "nbconvert_exporter": "python",
   "pygments_lexer": "ipython2",
   "version": "2.7.6"
  }
 },
 "nbformat": 4,
 "nbformat_minor": 0
}
