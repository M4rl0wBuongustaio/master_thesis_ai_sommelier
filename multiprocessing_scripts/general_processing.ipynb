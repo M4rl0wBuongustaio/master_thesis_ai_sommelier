{
 "cells": [
  {
   "cell_type": "code",
   "execution_count": 1,
   "metadata": {
    "collapsed": true
   },
   "outputs": [],
   "source": [
    "from multiprocessing_scripts import sentiment_analysis, emoji_count, emoji_index\n",
    "from sklearn.model_selection import train_test_split\n",
    "import pandas as pd\n",
    "import sqlite3\n",
    "import emoji"
   ]
  },
  {
   "cell_type": "markdown",
   "source": [
    "#### Utilities"
   ],
   "metadata": {
    "collapsed": false
   }
  },
  {
   "cell_type": "code",
   "execution_count": 2,
   "outputs": [],
   "source": [
    "def load_from_database(\n",
    "        db: str,\n",
    "        table: str,\n",
    "        columns: str,\n",
    "):\n",
    "    connection = sqlite3.connect('../database/' + db + '.db')\n",
    "    df = pd.read_sql_query(\n",
    "        str('SELECT ' + columns + ' FROM ' + table), con=connection)\n",
    "    connection.close()\n",
    "    return df\n",
    "\n",
    "\n",
    "def save_to_database(\n",
    "        db: str,\n",
    "        table: str,\n",
    "        df: pd.DataFrame\n",
    "):\n",
    "    connection = sqlite3.connect('../database/' + db + '.db')\n",
    "    try:\n",
    "        df.to_sql(name=table, con=connection, if_exists='replace')\n",
    "    except Exception as e:\n",
    "        raise e\n",
    "    print('DataFrame has been saved successfully to: ' + db)"
   ],
   "metadata": {
    "collapsed": false
   }
  },
  {
   "cell_type": "markdown",
   "source": [
    "### Removing NAs and Duplicates REVIEW"
   ],
   "metadata": {
    "collapsed": false
   }
  },
  {
   "cell_type": "code",
   "execution_count": 2,
   "outputs": [],
   "source": [
    "con_rev = sqlite3.connect('../database/review.db')\n",
    "df_rev = pd.read_sql_query(\"SELECT * from review\", con_rev)"
   ],
   "metadata": {
    "collapsed": false
   }
  },
  {
   "cell_type": "code",
   "execution_count": null,
   "outputs": [],
   "source": [
    "df_rev['note_length'] = df_rev.apply(lambda row: len(str(row.note).split()), axis=1)"
   ],
   "metadata": {
    "collapsed": false
   }
  },
  {
   "cell_type": "code",
   "execution_count": 11,
   "outputs": [
    {
     "name": "stdout",
     "output_type": "stream",
     "text": [
      "8518578\n",
      "8518578\n"
     ]
    }
   ],
   "source": [
    "print(len(df_rev))\n",
    "df_rev.dropna(how='any', inplace=True)\n",
    "df_rev.note.dropna(how='any', inplace=True)\n",
    "# Remove ratings with empty notes\n",
    "df_rev = df_rev[df_rev.note_length > 0]\n",
    "df_rev.id.drop_duplicates(inplace=True)\n",
    "print(len(df_rev))"
   ],
   "metadata": {
    "collapsed": false
   }
  },
  {
   "cell_type": "code",
   "execution_count": 7,
   "outputs": [],
   "source": [
    "df_rev.note = df_rev.note.str.lower()\n",
    "df_rev.note = df_rev.note.str.replace('vivino', '')\n",
    "df_rev.note = df_rev.note.str.replace('\\n', '')"
   ],
   "metadata": {
    "collapsed": false
   }
  },
  {
   "cell_type": "code",
   "execution_count": 8,
   "outputs": [
    {
     "data": {
      "text/plain": "8518578"
     },
     "execution_count": 8,
     "metadata": {},
     "output_type": "execute_result"
    }
   ],
   "source": [
    "df_rev.sort_values(by='id', inplace=True)\n",
    "if 'index' in df_rev.columns:\n",
    "    df_rev.drop(columns='index', inplace=True)\n",
    "df_rev.to_sql('review', con=con_rev, if_exists='replace')"
   ],
   "metadata": {
    "collapsed": false
   }
  },
  {
   "cell_type": "markdown",
   "source": [
    "### Transform Emojis to CLDR short name"
   ],
   "metadata": {
    "collapsed": false
   }
  },
  {
   "cell_type": "code",
   "execution_count": 3,
   "outputs": [],
   "source": [
    "con_rev = sqlite3.connect('../database/review.db')\n",
    "df_rev = pd.read_sql_query(\"SELECT * from review\", con_rev)"
   ],
   "metadata": {
    "collapsed": false
   }
  },
  {
   "cell_type": "code",
   "execution_count": 5,
   "outputs": [],
   "source": [
    "emoji_list = list(emoji.EMOJI_DATA.keys())\n",
    "emoji_list = '|'.join(emoji_list)\n",
    "# *-symbol causes an error with regex -> remove\n",
    "emoji_list = emoji_list.replace('*', '')"
   ],
   "metadata": {
    "collapsed": false
   }
  },
  {
   "cell_type": "code",
   "execution_count": 6,
   "outputs": [],
   "source": [
    "emoji_indexes = emoji_index.process(df=df_rev, emoji_list=emoji_list)"
   ],
   "metadata": {
    "collapsed": false
   }
  },
  {
   "cell_type": "code",
   "execution_count": 3,
   "outputs": [],
   "source": [
    "def replace_emojis(df: pd.DataFrame, indexes):\n",
    "    for index in indexes:\n",
    "        note: str = df.loc[index, 'note']\n",
    "        emojis = emoji.distinct_emoji_list(note)\n",
    "        for var_emoji in emojis:\n",
    "            emoji_name = emoji.demojize(var_emoji).replace(':', '').replace('_', ' ')\n",
    "            note = note.replace(var_emoji, emoji_name + ' ')\n",
    "        df.loc[index, 'note'] = note\n",
    "    return df"
   ],
   "metadata": {
    "collapsed": false
   }
  },
  {
   "cell_type": "code",
   "execution_count": 8,
   "outputs": [],
   "source": [
    "df_rev_no_emoji = replace_emojis(df=df_rev, indexes=emoji_indexes)"
   ],
   "metadata": {
    "collapsed": false
   }
  },
  {
   "cell_type": "code",
   "execution_count": 63,
   "outputs": [
    {
     "data": {
      "text/plain": "8518578"
     },
     "execution_count": 63,
     "metadata": {},
     "output_type": "execute_result"
    }
   ],
   "source": [
    "con_rev_no_emojis = sqlite3.connect('../database/review_no_emojis.db')\n",
    "df_rev_no_emoji.sort_values(by='id', inplace=True)\n",
    "if 'index' in df_rev_no_emoji.columns:\n",
    "    df_rev_no_emoji.drop(columns='index', inplace=True)\n",
    "df_rev_no_emoji.to_sql('review_no_emojis', con=con_rev_no_emojis, if_exists='replace')"
   ],
   "metadata": {
    "collapsed": false
   }
  },
  {
   "cell_type": "markdown",
   "source": [
    "### Spelling correction REVIEW-NO-EMOJIS"
   ],
   "metadata": {
    "collapsed": false
   }
  },
  {
   "cell_type": "code",
   "execution_count": 2,
   "outputs": [
    {
     "data": {
      "text/plain": "     id                        note\n0  3975  excellent full bodied wine",
      "text/html": "<div>\n<style scoped>\n    .dataframe tbody tr th:only-of-type {\n        vertical-align: middle;\n    }\n\n    .dataframe tbody tr th {\n        vertical-align: top;\n    }\n\n    .dataframe thead th {\n        text-align: right;\n    }\n</style>\n<table border=\"1\" class=\"dataframe\">\n  <thead>\n    <tr style=\"text-align: right;\">\n      <th></th>\n      <th>id</th>\n      <th>note</th>\n    </tr>\n  </thead>\n  <tbody>\n    <tr>\n      <th>0</th>\n      <td>3975</td>\n      <td>excellent full bodied wine</td>\n    </tr>\n  </tbody>\n</table>\n</div>"
     },
     "execution_count": 2,
     "metadata": {},
     "output_type": "execute_result"
    }
   ],
   "source": [
    "con_rev_sentiment = sqlite3.connect('../database/review_en_sentiment.db')\n",
    "df_rev_sentiment = pd.read_sql_query(\"SELECT id, note FROM review_en_sentiment\", con_rev_sentiment)\n",
    "con_rev_sentiment.close()\n",
    "df_rev_sentiment.head(n=1)"
   ],
   "metadata": {
    "collapsed": false
   }
  },
  {
   "cell_type": "code",
   "execution_count": null,
   "outputs": [],
   "source": [
    "from neuspell import BertChecker\n",
    "\n",
    "bc = BertChecker()\n",
    "bc.from_pretrained()"
   ],
   "metadata": {
    "collapsed": false
   }
  },
  {
   "cell_type": "code",
   "execution_count": 8,
   "outputs": [
    {
     "name": "stdout",
     "output_type": "stream",
     "text": [
      "Original: my 1st white burgundy.  i liked it but nothing too special.  it reminded me of a lighter sauvignon blanc.\n",
      "Corrected: my 1st white burgundy . i liked it but nothing too special . it reminded me of a lighter sauvignon blanc .\n",
      "\n",
      "Original: (4.0)100% romorantin (probably cross of pn&gouais, exclusively in cour-cheverny aoc). biodynamic.med intense nose, very fresh and lively, mix of acacia, green vegetables, citrus fruits and minerals.light+ bodied, dry, very mineral, vigorous, flavors of silex, green herbs, some lime and honey.great finish, long, highly zippy with grapefruit zest.reportedly close to chablis, but that one with more fruity impact. \n",
      "Corrected: ( 4 . 0 ) 100 % romorantin ( probably cross of pink & gouais , exclusively in four - cheverny acid ) . biodynamic . med intense nose , very fresh and lively , mix of acacia , green vegetables , citrus fruits and minerals . light + bodied , dry , very mineral , vigorous , flavors of sales , green herbs , some lime and honey . great finish , long , highly zippy with grapefruit zest . reportedly close to chablis , but that one with more fruity impact .\n",
      "\n",
      "Original: very good \n",
      "Corrected: very good\n",
      "\n",
      "Original: lighter color due to its relative higher altitudesour cherry, blackberry blackcurrant raspberry red fruit floral leather hawthorn mushroom oak game white pepperdry medium+ acidity body medium smooth tannins alcohol medium + intensity and lengthintense on the nose\n",
      "Corrected: lighter color due to its relative higher altitudesour cherry , blackberry blackcurrant raspberry red fruit floral leather hawthorn mushroom oak game white pepperdry medium + acidity body medium smooth tanning alcohol medium + intensity and lengthintense on the nose\n",
      "\n",
      "Original: almost perefect! a bit more complexity and body, a bit cheaper and i would drunk it every day!!\n",
      "Corrected: almost perfect ! a bit more complexity and body , a bit cheaper and I would drunk it every day ! !\n",
      "\n",
      "Original: dark, garnet color. very rich with dark berry flavors. opens up beautifully.\n",
      "Corrected: dark , garnet color . very rich with dark berry flavors . opens up beautifully .\n",
      "\n",
      "Original: nice wine. a little light.\n",
      "Corrected: nice wine . a little light .\n",
      "\n",
      "Original: lovely well balanced champagne from deutz, france. great way to start the weekend!clinking glasses  appearance pale intensity, lemon, clear, medium(+) fizzy. on the nose clean, medium intensity aroma of red apples, toast, lemon. palate with medium(+) acid, dry with some sweetness, medium body, abv medium, flavours intensity medium(+), finish long. flavours red apples, toast, lemon, wet stone and a whiff of grapefruit in the finish. \n",
      "Corrected: lovely well balanced champagne from deutz , france . great way to start the weekend ! clinking glasses appearance pale intensity , lemon , clear , medium ( + ) fizzy . on the nose clean , medium intensity aroma of red apples , toast , lemon . palate with medium ( + ) acid , dry with some sweetness , medium body , abv medium , flavours intensity medium ( + ) , finish long . flavoured red apples , toast , lemon , wet stone and a whiff of grapefruit in the finish .\n",
      "\n",
      "Original: easy to drink\n",
      "Corrected: easy to drink\n",
      "\n",
      "Original: we all know what to expect from this winery. it’s another consistent example of what they do. however, we shouldn’t hold this vintage at least based on what we’ve tasted. \n",
      "Corrected: we all know what to expect from this winery . it ' as another consistent example of what they do . however , we should ' to hold this vintage at least based on what we have and tasted .\n",
      "\n",
      "Original: everything that makes brunello unique. bright fruit, integrated tannins, smoke, leather, earth. wish i had another bottle.  excellent. \n",
      "Corrected: everything that makes brunello unique . bright fruit , integrated tannins , smoke , leather , earth . wish i had another bottle . excellent .\n",
      "\n",
      "Original: fine combination of green tree fruits and citrus flavors. intense aromas get your attention   dry and smoothed with honey and delicious till the finish \n",
      "Corrected: fine combination of green tree fruits and citrus flavors . intense aromas get your attention dry and smoothed with honey and delicious till the finish\n",
      "\n",
      "Original: good qpr brunello\n",
      "Corrected: good qpr brunello\n",
      "\n",
      "Original: supper\n",
      "Corrected: supper\n",
      "\n",
      "Original: a little too dry for me. super mineral\n",
      "Corrected: a little too dry for me . super mineral\n",
      "\n",
      "Original: instant and deep aroma of passion fruit. notorious legs, brilliant golden color. young elixir paired with ceviche, chicharrón and tiradito. high acidity.\n",
      "Corrected: instant and deep aroma of passion fruit . notorious legs , brilliant golden color . young elixir paired with ceviche , chicharrón and tiradito . high acidity .\n",
      "\n",
      "Original: great for enjoying without any food\n",
      "Corrected: great for enjoying without any food\n",
      "\n",
      "Original: secondary aromas predominate on the nose - oak, vanilla followed by ripe peach, apple, banana & ripe lemon. long finish. really lovely\n",
      "Corrected: secondary aromas predominate on the nose - oak , vanilla followed by ripe peach , apple , banana & ripe lemon . long finish . really lovely\n",
      "\n",
      "Original: fruity, almost desert wine.\n",
      "Corrected: fruity , almost desert wine .\n",
      "\n",
      "Original: anniversary \n",
      "Corrected: anniversary\n",
      "\n"
     ]
    }
   ],
   "source": [
    "note_sample = df_rev_sentiment.note.sample(n=20)\n",
    "\n",
    "for note in note_sample:\n",
    "    print(\n",
    "        'Original: ' + note + '\\n' +\n",
    "        'Corrected: ' + bc.correct(note) + '\\n'\n",
    "    )"
   ],
   "metadata": {
    "collapsed": false
   }
  },
  {
   "cell_type": "code",
   "execution_count": 4,
   "outputs": [
    {
     "name": "stdout",
     "output_type": "stream",
     "text": [
      "loading vocab from path:/Users/leonbecker/neuspell/neuspell/../data/checkpoints/subwordbert-probwordnoise/vocab.pkl\n",
      "initializing model\n"
     ]
    },
    {
     "name": "stderr",
     "output_type": "stream",
     "text": [
      "Some weights of the model checkpoint at bert-base-cased were not used when initializing BertModel: ['cls.predictions.transform.LayerNorm.bias', 'cls.seq_relationship.weight', 'cls.predictions.bias', 'cls.predictions.decoder.weight', 'cls.predictions.transform.dense.weight', 'cls.seq_relationship.bias', 'cls.predictions.transform.LayerNorm.weight', 'cls.predictions.transform.dense.bias']\n",
      "- This IS expected if you are initializing BertModel from the checkpoint of a model trained on another task or with another architecture (e.g. initializing a BertForSequenceClassification model from a BertForPreTraining model).\n",
      "- This IS NOT expected if you are initializing BertModel from the checkpoint of a model that you expect to be exactly identical (initializing a BertForSequenceClassification model from a BertForSequenceClassification model).\n"
     ]
    },
    {
     "name": "stdout",
     "output_type": "stream",
     "text": [
      "Number of parameters in the model: 185211810\n",
      "Loading model params from checkpoint dir: /Users/leonbecker/neuspell/neuspell/../data/checkpoints/subwordbert-probwordnoise\n"
     ]
    },
    {
     "name": "stderr",
     "output_type": "stream",
     "text": [
      "100%|██████████| 3976851/3976851 [66:48:20<00:00, 16.54it/s]    \n"
     ]
    },
    {
     "name": "stdout",
     "output_type": "stream",
     "text": [
      "2 days, 18:48:20.852025\n"
     ]
    },
    {
     "data": {
      "text/plain": "3976851"
     },
     "execution_count": 4,
     "metadata": {},
     "output_type": "execute_result"
    }
   ],
   "source": [
    "from tqdm import tqdm\n",
    "from datetime import datetime\n",
    "\n",
    "df = df_rev_sentiment\n",
    "start = datetime.now()\n",
    "\n",
    "for i in tqdm(df.index):\n",
    "    df.loc[i, 'note'] = bc.correct(df.loc[i, 'note']).lower()\n",
    "\n",
    "print(datetime.now() - start)\n",
    "\n",
    "con_rev_sentiment_sc = sqlite3.connect('../database/review_en_sentiment_sc.db')\n",
    "df.to_sql('review_en_sentiment_sc', con=con_rev_sentiment_sc, if_exists='replace')"
   ],
   "metadata": {
    "collapsed": false
   }
  },
  {
   "cell_type": "code",
   "execution_count": 6,
   "outputs": [
    {
     "data": {
      "text/plain": "   index    id  wine_id  rating                        note  \\\n0      0  3975  1101258     4.0  excellent full bodied wine   \n\n                 created_at  likes_count  comments_count  \\\n0  2011-07-19T21:21:22.000Z          2.0             1.0   \n\n                                scan_image_path  user_id  note_length  \\\n0  images.vivino.com/labels/1309631550_2382.jpg    32547            4   \n\n  len_code  sentiment  \n0       en   0.938549  ",
      "text/html": "<div>\n<style scoped>\n    .dataframe tbody tr th:only-of-type {\n        vertical-align: middle;\n    }\n\n    .dataframe tbody tr th {\n        vertical-align: top;\n    }\n\n    .dataframe thead th {\n        text-align: right;\n    }\n</style>\n<table border=\"1\" class=\"dataframe\">\n  <thead>\n    <tr style=\"text-align: right;\">\n      <th></th>\n      <th>index</th>\n      <th>id</th>\n      <th>wine_id</th>\n      <th>rating</th>\n      <th>note</th>\n      <th>created_at</th>\n      <th>likes_count</th>\n      <th>comments_count</th>\n      <th>scan_image_path</th>\n      <th>user_id</th>\n      <th>note_length</th>\n      <th>len_code</th>\n      <th>sentiment</th>\n    </tr>\n  </thead>\n  <tbody>\n    <tr>\n      <th>0</th>\n      <td>0</td>\n      <td>3975</td>\n      <td>1101258</td>\n      <td>4.0</td>\n      <td>excellent full bodied wine</td>\n      <td>2011-07-19T21:21:22.000Z</td>\n      <td>2.0</td>\n      <td>1.0</td>\n      <td>images.vivino.com/labels/1309631550_2382.jpg</td>\n      <td>32547</td>\n      <td>4</td>\n      <td>en</td>\n      <td>0.938549</td>\n    </tr>\n  </tbody>\n</table>\n</div>"
     },
     "execution_count": 6,
     "metadata": {},
     "output_type": "execute_result"
    }
   ],
   "source": [
    "con_rev_sentiment = sqlite3.connect('../database/review_en_sentiment.db')\n",
    "df_rev_sentiment = pd.read_sql_query(\"SELECT * FROM review_en_sentiment\", con_rev_sentiment)\n",
    "con_rev_sentiment.close()\n",
    "df_rev_sentiment.head(n=1)"
   ],
   "metadata": {
    "collapsed": false
   }
  },
  {
   "cell_type": "code",
   "execution_count": 7,
   "outputs": [
    {
     "data": {
      "text/plain": "   index    id  wine_id  rating  \\\n0      0  3975  1101258     4.0   \n1      1  4202    76378     5.0   \n2      2  4261  1231210     5.0   \n3      3  4264  1178663     4.0   \n4      4  4354    17998     4.0   \n\n                                              note_x  \\\n0                         excellent full bodied wine   \n1  the real price at phillipson is around 1299 dk...   \n2  clean, crisp and full of nuance and elegance, ...   \n3  crisp and clean champagne, a certain fave amon...   \n4  it is not a champagne type wine! it is a red w...   \n\n                 created_at  likes_count  comments_count  \\\n0  2011-07-19T21:21:22.000Z          2.0             1.0   \n1  2011-08-06T20:52:53.000Z          0.0             1.0   \n2  2011-08-11T08:06:39.000Z          3.0             1.0   \n3  2011-08-11T09:28:07.000Z         25.0             2.0   \n4  2011-08-12T16:53:19.000Z          0.0             1.0   \n\n                                scan_image_path  user_id  note_length  \\\n0  images.vivino.com/labels/1309631550_2382.jpg    32547            4   \n1  images.vivino.com/labels/1311959128_1819.jpg    48500           39   \n2  images.vivino.com/labels/1312622458_6592.jpg    53601           17   \n3  images.vivino.com/labels/1312966707_6129.jpg    53601           22   \n4  images.vivino.com/labels/1311842730_8268.jpg    47873           12   \n\n  len_code  sentiment                                             note_y  \n0       en   0.938549                         excellent full bodied wine  \n1       en   0.576068  the real price at phillipson is around 1299 dk...  \n2       en   0.982237  clean , crisp and full of nuance and elegance ...  \n3       en   0.576195  crisp and clean champagne , a certain face amo...  \n4       en   0.736812  it is not a champagne type wine ! it is a red ...  ",
      "text/html": "<div>\n<style scoped>\n    .dataframe tbody tr th:only-of-type {\n        vertical-align: middle;\n    }\n\n    .dataframe tbody tr th {\n        vertical-align: top;\n    }\n\n    .dataframe thead th {\n        text-align: right;\n    }\n</style>\n<table border=\"1\" class=\"dataframe\">\n  <thead>\n    <tr style=\"text-align: right;\">\n      <th></th>\n      <th>index</th>\n      <th>id</th>\n      <th>wine_id</th>\n      <th>rating</th>\n      <th>note_x</th>\n      <th>created_at</th>\n      <th>likes_count</th>\n      <th>comments_count</th>\n      <th>scan_image_path</th>\n      <th>user_id</th>\n      <th>note_length</th>\n      <th>len_code</th>\n      <th>sentiment</th>\n      <th>note_y</th>\n    </tr>\n  </thead>\n  <tbody>\n    <tr>\n      <th>0</th>\n      <td>0</td>\n      <td>3975</td>\n      <td>1101258</td>\n      <td>4.0</td>\n      <td>excellent full bodied wine</td>\n      <td>2011-07-19T21:21:22.000Z</td>\n      <td>2.0</td>\n      <td>1.0</td>\n      <td>images.vivino.com/labels/1309631550_2382.jpg</td>\n      <td>32547</td>\n      <td>4</td>\n      <td>en</td>\n      <td>0.938549</td>\n      <td>excellent full bodied wine</td>\n    </tr>\n    <tr>\n      <th>1</th>\n      <td>1</td>\n      <td>4202</td>\n      <td>76378</td>\n      <td>5.0</td>\n      <td>the real price at phillipson is around 1299 dk...</td>\n      <td>2011-08-06T20:52:53.000Z</td>\n      <td>0.0</td>\n      <td>1.0</td>\n      <td>images.vivino.com/labels/1311959128_1819.jpg</td>\n      <td>48500</td>\n      <td>39</td>\n      <td>en</td>\n      <td>0.576068</td>\n      <td>the real price at phillipson is around 1299 dk...</td>\n    </tr>\n    <tr>\n      <th>2</th>\n      <td>2</td>\n      <td>4261</td>\n      <td>1231210</td>\n      <td>5.0</td>\n      <td>clean, crisp and full of nuance and elegance, ...</td>\n      <td>2011-08-11T08:06:39.000Z</td>\n      <td>3.0</td>\n      <td>1.0</td>\n      <td>images.vivino.com/labels/1312622458_6592.jpg</td>\n      <td>53601</td>\n      <td>17</td>\n      <td>en</td>\n      <td>0.982237</td>\n      <td>clean , crisp and full of nuance and elegance ...</td>\n    </tr>\n    <tr>\n      <th>3</th>\n      <td>3</td>\n      <td>4264</td>\n      <td>1178663</td>\n      <td>4.0</td>\n      <td>crisp and clean champagne, a certain fave amon...</td>\n      <td>2011-08-11T09:28:07.000Z</td>\n      <td>25.0</td>\n      <td>2.0</td>\n      <td>images.vivino.com/labels/1312966707_6129.jpg</td>\n      <td>53601</td>\n      <td>22</td>\n      <td>en</td>\n      <td>0.576195</td>\n      <td>crisp and clean champagne , a certain face amo...</td>\n    </tr>\n    <tr>\n      <th>4</th>\n      <td>4</td>\n      <td>4354</td>\n      <td>17998</td>\n      <td>4.0</td>\n      <td>it is not a champagne type wine! it is a red w...</td>\n      <td>2011-08-12T16:53:19.000Z</td>\n      <td>0.0</td>\n      <td>1.0</td>\n      <td>images.vivino.com/labels/1311842730_8268.jpg</td>\n      <td>47873</td>\n      <td>12</td>\n      <td>en</td>\n      <td>0.736812</td>\n      <td>it is not a champagne type wine ! it is a red ...</td>\n    </tr>\n  </tbody>\n</table>\n</div>"
     },
     "execution_count": 7,
     "metadata": {},
     "output_type": "execute_result"
    }
   ],
   "source": [
    "df_sc = pd.merge(df_rev_sentiment, df, on='id')\n",
    "df_sc.head()"
   ],
   "metadata": {
    "collapsed": false
   }
  },
  {
   "cell_type": "code",
   "execution_count": 14,
   "outputs": [
    {
     "data": {
      "text/plain": "   index    id  wine_id  rating                created_at  likes_count  \\\n0      0  3975  1101258     4.0  2011-07-19T21:21:22.000Z          2.0   \n1      1  4202    76378     5.0  2011-08-06T20:52:53.000Z          0.0   \n2      2  4261  1231210     5.0  2011-08-11T08:06:39.000Z          3.0   \n3      3  4264  1178663     4.0  2011-08-11T09:28:07.000Z         25.0   \n4      4  4354    17998     4.0  2011-08-12T16:53:19.000Z          0.0   \n\n   comments_count                               scan_image_path  user_id  \\\n0             1.0  images.vivino.com/labels/1309631550_2382.jpg    32547   \n1             1.0  images.vivino.com/labels/1311959128_1819.jpg    48500   \n2             1.0  images.vivino.com/labels/1312622458_6592.jpg    53601   \n3             2.0  images.vivino.com/labels/1312966707_6129.jpg    53601   \n4             1.0  images.vivino.com/labels/1311842730_8268.jpg    47873   \n\n   note_length len_code  sentiment  \\\n0            4       en   0.938549   \n1           39       en   0.576068   \n2           17       en   0.982237   \n3           22       en   0.576195   \n4           12       en   0.736812   \n\n                                                note  \n0                         excellent full bodied wine  \n1  the real price at phillipson is around 1299 dk...  \n2  clean , crisp and full of nuance and elegance ...  \n3  crisp and clean champagne , a certain face amo...  \n4  it is not a champagne type wine ! it is a red ...  ",
      "text/html": "<div>\n<style scoped>\n    .dataframe tbody tr th:only-of-type {\n        vertical-align: middle;\n    }\n\n    .dataframe tbody tr th {\n        vertical-align: top;\n    }\n\n    .dataframe thead th {\n        text-align: right;\n    }\n</style>\n<table border=\"1\" class=\"dataframe\">\n  <thead>\n    <tr style=\"text-align: right;\">\n      <th></th>\n      <th>index</th>\n      <th>id</th>\n      <th>wine_id</th>\n      <th>rating</th>\n      <th>created_at</th>\n      <th>likes_count</th>\n      <th>comments_count</th>\n      <th>scan_image_path</th>\n      <th>user_id</th>\n      <th>note_length</th>\n      <th>len_code</th>\n      <th>sentiment</th>\n      <th>note</th>\n    </tr>\n  </thead>\n  <tbody>\n    <tr>\n      <th>0</th>\n      <td>0</td>\n      <td>3975</td>\n      <td>1101258</td>\n      <td>4.0</td>\n      <td>2011-07-19T21:21:22.000Z</td>\n      <td>2.0</td>\n      <td>1.0</td>\n      <td>images.vivino.com/labels/1309631550_2382.jpg</td>\n      <td>32547</td>\n      <td>4</td>\n      <td>en</td>\n      <td>0.938549</td>\n      <td>excellent full bodied wine</td>\n    </tr>\n    <tr>\n      <th>1</th>\n      <td>1</td>\n      <td>4202</td>\n      <td>76378</td>\n      <td>5.0</td>\n      <td>2011-08-06T20:52:53.000Z</td>\n      <td>0.0</td>\n      <td>1.0</td>\n      <td>images.vivino.com/labels/1311959128_1819.jpg</td>\n      <td>48500</td>\n      <td>39</td>\n      <td>en</td>\n      <td>0.576068</td>\n      <td>the real price at phillipson is around 1299 dk...</td>\n    </tr>\n    <tr>\n      <th>2</th>\n      <td>2</td>\n      <td>4261</td>\n      <td>1231210</td>\n      <td>5.0</td>\n      <td>2011-08-11T08:06:39.000Z</td>\n      <td>3.0</td>\n      <td>1.0</td>\n      <td>images.vivino.com/labels/1312622458_6592.jpg</td>\n      <td>53601</td>\n      <td>17</td>\n      <td>en</td>\n      <td>0.982237</td>\n      <td>clean , crisp and full of nuance and elegance ...</td>\n    </tr>\n    <tr>\n      <th>3</th>\n      <td>3</td>\n      <td>4264</td>\n      <td>1178663</td>\n      <td>4.0</td>\n      <td>2011-08-11T09:28:07.000Z</td>\n      <td>25.0</td>\n      <td>2.0</td>\n      <td>images.vivino.com/labels/1312966707_6129.jpg</td>\n      <td>53601</td>\n      <td>22</td>\n      <td>en</td>\n      <td>0.576195</td>\n      <td>crisp and clean champagne , a certain face amo...</td>\n    </tr>\n    <tr>\n      <th>4</th>\n      <td>4</td>\n      <td>4354</td>\n      <td>17998</td>\n      <td>4.0</td>\n      <td>2011-08-12T16:53:19.000Z</td>\n      <td>0.0</td>\n      <td>1.0</td>\n      <td>images.vivino.com/labels/1311842730_8268.jpg</td>\n      <td>47873</td>\n      <td>12</td>\n      <td>en</td>\n      <td>0.736812</td>\n      <td>it is not a champagne type wine ! it is a red ...</td>\n    </tr>\n  </tbody>\n</table>\n</div>"
     },
     "execution_count": 14,
     "metadata": {},
     "output_type": "execute_result"
    }
   ],
   "source": [
    "df_sc.drop(columns=['note_x'], inplace=True)\n",
    "df_sc.rename(columns={'note_y': 'note'}, inplace=True)\n",
    "df_sc.head()"
   ],
   "metadata": {
    "collapsed": false
   }
  },
  {
   "cell_type": "code",
   "execution_count": 25,
   "outputs": [
    {
     "data": {
      "text/plain": "3976746"
     },
     "execution_count": 25,
     "metadata": {},
     "output_type": "execute_result"
    }
   ],
   "source": [
    "con_rev_sentiment_sc = sqlite3.connect('../database/review_en_sentiment_sc.db')\n",
    "if 'index' in df_sc.columns:\n",
    "    df_sc.drop(columns='index', inplace=True)\n",
    "df_sc.drop_duplicates(subset='id', inplace=True)\n",
    "df_sc.to_sql('review_en_sentiment_sc', con=con_rev_sentiment_sc, if_exists='replace')"
   ],
   "metadata": {
    "collapsed": false
   }
  },
  {
   "cell_type": "markdown",
   "source": [
    "### Sentiment analysis"
   ],
   "metadata": {
    "collapsed": false
   }
  },
  {
   "cell_type": "code",
   "execution_count": null,
   "outputs": [],
   "source": [
    "con_rev = sqlite3.connect('../database/review_en.db')\n",
    "df_rev = pd.read_sql_query(\"SELECT id, note from review_en\", con_rev)\n",
    "results = sentiment_analysis.process(df_rev)\n",
    "df_results = pd.concat(results)\n",
    "del df_rev\n",
    "con_reviews = sqlite3.connect('../database/review_en.db')\n",
    "df_reviews = pd.read_sql_query(\"SELECT * from review_en\", con_reviews)\n",
    "df_reviews.drop(columns=['index'], inplace=True)\n",
    "df_final = pd.merge(df_reviews, df_results, on='id')\n",
    "\n",
    "con_rev_en_sent = sqlite3.connect('../database/review_en_sentiment.db')\n",
    "cur_rev_en_sent = con_rev_en_sent.cursor()\n",
    "cur_rev_en_sent.execute('CREATE TABLE IF NOT EXISTS review_en_sentiment('\n",
    "                        'id, wine_id, rating, note, created_at, likes_count, comments_count, scan_image_path, user_id, note_length, len_code, sentiment)')\n",
    "df_final.to_sql('review_en_sentiment', con=con_rev_en_sent, if_exists='replace')"
   ],
   "metadata": {
    "collapsed": false
   }
  },
  {
   "cell_type": "code",
   "execution_count": 4,
   "outputs": [
    {
     "data": {
      "text/plain": "                                                note\n0                         excellent full bodied wine\n1  the real price at phillipson is around 1299 dk...\n2  clean, crisp and full of nuance and elegance, ...\n3  crisp and clean champagne, a certain fave amon...\n4  it is not a champagne type wine! it is a red w...",
      "text/html": "<div>\n<style scoped>\n    .dataframe tbody tr th:only-of-type {\n        vertical-align: middle;\n    }\n\n    .dataframe tbody tr th {\n        vertical-align: top;\n    }\n\n    .dataframe thead th {\n        text-align: right;\n    }\n</style>\n<table border=\"1\" class=\"dataframe\">\n  <thead>\n    <tr style=\"text-align: right;\">\n      <th></th>\n      <th>note</th>\n    </tr>\n  </thead>\n  <tbody>\n    <tr>\n      <th>0</th>\n      <td>excellent full bodied wine</td>\n    </tr>\n    <tr>\n      <th>1</th>\n      <td>the real price at phillipson is around 1299 dk...</td>\n    </tr>\n    <tr>\n      <th>2</th>\n      <td>clean, crisp and full of nuance and elegance, ...</td>\n    </tr>\n    <tr>\n      <th>3</th>\n      <td>crisp and clean champagne, a certain fave amon...</td>\n    </tr>\n    <tr>\n      <th>4</th>\n      <td>it is not a champagne type wine! it is a red w...</td>\n    </tr>\n  </tbody>\n</table>\n</div>"
     },
     "execution_count": 4,
     "metadata": {},
     "output_type": "execute_result"
    }
   ],
   "source": [
    "con_rev_en = sqlite3.connect('../database/review_en.db')\n",
    "df_rev_en = pd.read_sql_query(\"SELECT note from review_en\", con_rev_en)\n",
    "df_rev_en.head()"
   ],
   "metadata": {
    "collapsed": false
   }
  },
  {
   "cell_type": "markdown",
   "source": [
    "### Emoji count REVIEW"
   ],
   "metadata": {
    "collapsed": false
   }
  },
  {
   "cell_type": "code",
   "execution_count": 3,
   "outputs": [],
   "source": [
    "emoji_list = list(emoji.EMOJI_DATA.keys())\n",
    "emoji_list = '|'.join(emoji_list)\n",
    "# *-symbol causes an error with regex -> remove\n",
    "emoji_list = emoji_list.replace('*', '')\n",
    "emoji_count = emoji_count.process(df_rev, emoji_list)"
   ],
   "metadata": {
    "collapsed": false
   }
  },
  {
   "cell_type": "code",
   "execution_count": 6,
   "outputs": [
    {
     "data": {
      "text/plain": "4.602235255696431"
     },
     "execution_count": 6,
     "metadata": {},
     "output_type": "execute_result"
    }
   ],
   "source": [
    "(emoji_count / len(df_rev)) * 100"
   ],
   "metadata": {
    "collapsed": false
   }
  },
  {
   "cell_type": "markdown",
   "source": [
    "### Emoji count REVIEW_EN"
   ],
   "metadata": {
    "collapsed": false
   }
  },
  {
   "cell_type": "code",
   "execution_count": 5,
   "outputs": [
    {
     "data": {
      "text/plain": "4.18031568748694"
     },
     "execution_count": 5,
     "metadata": {},
     "output_type": "execute_result"
    }
   ],
   "source": [
    "emoji_list = list(emoji.EMOJI_DATA.keys())\n",
    "emoji_list = '|'.join(emoji_list)\n",
    "# *-symbol causes an error with regex -> remove\n",
    "emoji_list = emoji_list.replace('*', '')\n",
    "emoji_count_en = emoji_count.process(\n",
    "    df=df_rev_en,\n",
    "    emoji_list=emoji_list\n",
    ")\n",
    "(emoji_count_en / len(df_rev_en)) * 100"
   ],
   "metadata": {
    "collapsed": false
   }
  },
  {
   "cell_type": "markdown",
   "source": [
    "### Create datasets containing Wine and User IDs with at least 5 occurrences"
   ],
   "metadata": {
    "collapsed": false
   }
  },
  {
   "cell_type": "code",
   "execution_count": 4,
   "outputs": [],
   "source": [
    "df_rev_en_sent = load_from_database(db='review_en_sentiment', table='review_en_sentiment', columns='user_id, wine_id')"
   ],
   "metadata": {
    "collapsed": false
   }
  },
  {
   "cell_type": "code",
   "execution_count": 5,
   "outputs": [],
   "source": [
    "var_min = 5\n",
    "var_max = 1000\n",
    "five_to_x_user = df_rev_en_sent[df_rev_en_sent['wine_id'].isin(df_rev_en_sent['wine_id'].value_counts()[\n",
    "                                                     (df_rev_en_sent['wine_id'].value_counts() >= var_min)  &\n",
    "                                                     (df_rev_en_sent['wine_id'].value_counts() <= var_max)\n",
    "                                                 ].index)]['wine_id']\n",
    "df_temp = df_rev_en_sent[df_rev_en_sent['wine_id'].isin(five_to_x_user)]\n",
    "minimum_5_wines = df_temp[df_temp['wine_id'].isin(df_temp['wine_id'].value_counts()[df_temp['wine_id'].value_counts() >= var_min].index)]['wine_id']"
   ],
   "metadata": {
    "collapsed": false
   }
  },
  {
   "cell_type": "code",
   "execution_count": 6,
   "outputs": [
    {
     "name": "stderr",
     "output_type": "stream",
     "text": [
      "/var/folders/0w/wzymnpfd4rjdkg4k8khhk6dc0000gn/T/ipykernel_57284/3331734359.py:1: SettingWithCopyWarning: \n",
      "A value is trying to be set on a copy of a slice from a DataFrame\n",
      "\n",
      "See the caveats in the documentation: https://pandas.pydata.org/pandas-docs/stable/user_guide/indexing.html#returning-a-view-versus-a-copy\n",
      "  five_to_x_user.drop_duplicates(inplace=True)\n"
     ]
    }
   ],
   "source": [
    "five_to_x_user.drop_duplicates(inplace=True)\n",
    "minimum_5_wines.drop_duplicates( inplace=True)"
   ],
   "metadata": {
    "collapsed": false
   }
  },
  {
   "cell_type": "code",
   "execution_count": 6,
   "outputs": [
    {
     "name": "stdout",
     "output_type": "stream",
     "text": [
      "DataFrame has been saved successfully to: five_to_100\n",
      "DataFrame has been saved successfully to: five_to_100\n"
     ]
    }
   ],
   "source": [
    "save_to_database(db='five_to_100', table='user', df=five_to_x_user)\n",
    "save_to_database(db='five_to_100', table='wine', df=minimum_5_wines)"
   ],
   "metadata": {
    "collapsed": false
   }
  },
  {
   "cell_type": "markdown",
   "source": [
    "### Training, Test & Validation Dataset"
   ],
   "metadata": {
    "collapsed": false
   }
  },
  {
   "cell_type": "markdown",
   "source": [
    "#### REVIEW_EN (no spelling correction)"
   ],
   "metadata": {
    "collapsed": false
   }
  },
  {
   "cell_type": "code",
   "execution_count": 11,
   "outputs": [
    {
     "data": {
      "text/plain": "   index    id  wine_id  rating  \\\n0      0  3975  1101258     4.0   \n1      1  4202    76378     5.0   \n\n                                                note  \\\n0                         excellent full bodied wine   \n1  the real price at phillipson is around 1299 dk...   \n\n                 created_at  likes_count  comments_count  \\\n0  2011-07-19T21:21:22.000Z          2.0             1.0   \n1  2011-08-06T20:52:53.000Z          0.0             1.0   \n\n                                scan_image_path  user_id  note_length  \\\n0  images.vivino.com/labels/1309631550_2382.jpg    32547            4   \n1  images.vivino.com/labels/1311959128_1819.jpg    48500           39   \n\n  len_code  sentiment  \n0       en   0.938549  \n1       en   0.576068  ",
      "text/html": "<div>\n<style scoped>\n    .dataframe tbody tr th:only-of-type {\n        vertical-align: middle;\n    }\n\n    .dataframe tbody tr th {\n        vertical-align: top;\n    }\n\n    .dataframe thead th {\n        text-align: right;\n    }\n</style>\n<table border=\"1\" class=\"dataframe\">\n  <thead>\n    <tr style=\"text-align: right;\">\n      <th></th>\n      <th>index</th>\n      <th>id</th>\n      <th>wine_id</th>\n      <th>rating</th>\n      <th>note</th>\n      <th>created_at</th>\n      <th>likes_count</th>\n      <th>comments_count</th>\n      <th>scan_image_path</th>\n      <th>user_id</th>\n      <th>note_length</th>\n      <th>len_code</th>\n      <th>sentiment</th>\n    </tr>\n  </thead>\n  <tbody>\n    <tr>\n      <th>0</th>\n      <td>0</td>\n      <td>3975</td>\n      <td>1101258</td>\n      <td>4.0</td>\n      <td>excellent full bodied wine</td>\n      <td>2011-07-19T21:21:22.000Z</td>\n      <td>2.0</td>\n      <td>1.0</td>\n      <td>images.vivino.com/labels/1309631550_2382.jpg</td>\n      <td>32547</td>\n      <td>4</td>\n      <td>en</td>\n      <td>0.938549</td>\n    </tr>\n    <tr>\n      <th>1</th>\n      <td>1</td>\n      <td>4202</td>\n      <td>76378</td>\n      <td>5.0</td>\n      <td>the real price at phillipson is around 1299 dk...</td>\n      <td>2011-08-06T20:52:53.000Z</td>\n      <td>0.0</td>\n      <td>1.0</td>\n      <td>images.vivino.com/labels/1311959128_1819.jpg</td>\n      <td>48500</td>\n      <td>39</td>\n      <td>en</td>\n      <td>0.576068</td>\n    </tr>\n  </tbody>\n</table>\n</div>"
     },
     "execution_count": 11,
     "metadata": {},
     "output_type": "execute_result"
    }
   ],
   "source": [
    "df_rev_en_sent = load_from_database(db='review_en_sentiment', table='review_en_sentiment', columns='*')\n",
    "df_rev_en_sent.head(n=2)"
   ],
   "metadata": {
    "collapsed": false
   }
  },
  {
   "cell_type": "code",
   "execution_count": 8,
   "outputs": [],
   "source": [
    "# five_to_100_user = load_from_database(db='five_to_100', table='user', columns='*')\n",
    "# minimum_5_wines = load_from_database(db='five_to_100', table='wine', columns='*')"
   ],
   "metadata": {
    "collapsed": false
   }
  },
  {
   "cell_type": "code",
   "execution_count": 12,
   "outputs": [],
   "source": [
    "df_rev_en_sent = df_rev_en_sent[\n",
    "    (df_rev_en_sent['wine_id'].isin(five_to_x_user)) &\n",
    "    (df_rev_en_sent['wine_id'].isin(minimum_5_wines))\n",
    "    ]"
   ],
   "metadata": {
    "collapsed": false
   }
  },
  {
   "cell_type": "code",
   "execution_count": 18,
   "outputs": [
    {
     "data": {
      "text/plain": "           index         id  wine_id  rating  \\\n0              0       3975  1101258     4.0   \n1              1       4202    76378     5.0   \n2              2       4261  1231210     5.0   \n4              4       4354    17998     4.0   \n6              6       4393     1213     5.0   \n...          ...        ...      ...     ...   \n3976844  3976844  257812082  1523914     4.4   \n3976847  3976847  257819303  1665120     3.8   \n3976848  3976848  257820106  1841279     3.0   \n3976849  3976849  257821363  2374586     4.4   \n3976850  3976850  257823144  1893855     4.0   \n\n                                                      note  likes_count  \\\n0                               excellent full bodied wine          2.0   \n1        the real price at phillipson is around 1299 dk...          0.0   \n2        clean, crisp and full of nuance and elegance, ...          3.0   \n4        it is not a champagne type wine! it is a red w...          0.0   \n6        nothing to do with wine, nothing to do with vi...          3.0   \n...                                                    ...          ...   \n3976844                                 nez rond, gourmand          0.0   \n3976847  i did not aerate the wine, but allowed the aro...          0.0   \n3976848  on the sweeter side for a chenin blanc with no...          0.0   \n3976849  grand cru.  well made.  bright, delightful, wi...          2.0   \n3976850  nice perfume, roses and white blossoms, young ...          0.0   \n\n         comments_count   user_id  note_length len_code  sentiment  \n0                   1.0     32547            4       en   0.938549  \n1                   1.0     48500           39       en   0.576068  \n2                   1.0     53601           17       en   0.982237  \n4                   1.0     47873           12       en   0.736812  \n6                   1.0     53601           43       en   0.771274  \n...                 ...       ...          ...      ...        ...  \n3976844             0.0   4787537            3       en   0.790421  \n3976847             0.0  32988909           81       en   0.822034  \n3976848             0.0  36708473           14       en   0.843707  \n3976849             1.0   1967368           23       en   0.977111  \n3976850             0.0  59128310           25       en   0.968692  \n\n[1871040 rows x 11 columns]",
      "text/html": "<div>\n<style scoped>\n    .dataframe tbody tr th:only-of-type {\n        vertical-align: middle;\n    }\n\n    .dataframe tbody tr th {\n        vertical-align: top;\n    }\n\n    .dataframe thead th {\n        text-align: right;\n    }\n</style>\n<table border=\"1\" class=\"dataframe\">\n  <thead>\n    <tr style=\"text-align: right;\">\n      <th></th>\n      <th>index</th>\n      <th>id</th>\n      <th>wine_id</th>\n      <th>rating</th>\n      <th>note</th>\n      <th>likes_count</th>\n      <th>comments_count</th>\n      <th>user_id</th>\n      <th>note_length</th>\n      <th>len_code</th>\n      <th>sentiment</th>\n    </tr>\n  </thead>\n  <tbody>\n    <tr>\n      <th>0</th>\n      <td>0</td>\n      <td>3975</td>\n      <td>1101258</td>\n      <td>4.0</td>\n      <td>excellent full bodied wine</td>\n      <td>2.0</td>\n      <td>1.0</td>\n      <td>32547</td>\n      <td>4</td>\n      <td>en</td>\n      <td>0.938549</td>\n    </tr>\n    <tr>\n      <th>1</th>\n      <td>1</td>\n      <td>4202</td>\n      <td>76378</td>\n      <td>5.0</td>\n      <td>the real price at phillipson is around 1299 dk...</td>\n      <td>0.0</td>\n      <td>1.0</td>\n      <td>48500</td>\n      <td>39</td>\n      <td>en</td>\n      <td>0.576068</td>\n    </tr>\n    <tr>\n      <th>2</th>\n      <td>2</td>\n      <td>4261</td>\n      <td>1231210</td>\n      <td>5.0</td>\n      <td>clean, crisp and full of nuance and elegance, ...</td>\n      <td>3.0</td>\n      <td>1.0</td>\n      <td>53601</td>\n      <td>17</td>\n      <td>en</td>\n      <td>0.982237</td>\n    </tr>\n    <tr>\n      <th>4</th>\n      <td>4</td>\n      <td>4354</td>\n      <td>17998</td>\n      <td>4.0</td>\n      <td>it is not a champagne type wine! it is a red w...</td>\n      <td>0.0</td>\n      <td>1.0</td>\n      <td>47873</td>\n      <td>12</td>\n      <td>en</td>\n      <td>0.736812</td>\n    </tr>\n    <tr>\n      <th>6</th>\n      <td>6</td>\n      <td>4393</td>\n      <td>1213</td>\n      <td>5.0</td>\n      <td>nothing to do with wine, nothing to do with vi...</td>\n      <td>3.0</td>\n      <td>1.0</td>\n      <td>53601</td>\n      <td>43</td>\n      <td>en</td>\n      <td>0.771274</td>\n    </tr>\n    <tr>\n      <th>...</th>\n      <td>...</td>\n      <td>...</td>\n      <td>...</td>\n      <td>...</td>\n      <td>...</td>\n      <td>...</td>\n      <td>...</td>\n      <td>...</td>\n      <td>...</td>\n      <td>...</td>\n      <td>...</td>\n    </tr>\n    <tr>\n      <th>3976844</th>\n      <td>3976844</td>\n      <td>257812082</td>\n      <td>1523914</td>\n      <td>4.4</td>\n      <td>nez rond, gourmand</td>\n      <td>0.0</td>\n      <td>0.0</td>\n      <td>4787537</td>\n      <td>3</td>\n      <td>en</td>\n      <td>0.790421</td>\n    </tr>\n    <tr>\n      <th>3976847</th>\n      <td>3976847</td>\n      <td>257819303</td>\n      <td>1665120</td>\n      <td>3.8</td>\n      <td>i did not aerate the wine, but allowed the aro...</td>\n      <td>0.0</td>\n      <td>0.0</td>\n      <td>32988909</td>\n      <td>81</td>\n      <td>en</td>\n      <td>0.822034</td>\n    </tr>\n    <tr>\n      <th>3976848</th>\n      <td>3976848</td>\n      <td>257820106</td>\n      <td>1841279</td>\n      <td>3.0</td>\n      <td>on the sweeter side for a chenin blanc with no...</td>\n      <td>0.0</td>\n      <td>0.0</td>\n      <td>36708473</td>\n      <td>14</td>\n      <td>en</td>\n      <td>0.843707</td>\n    </tr>\n    <tr>\n      <th>3976849</th>\n      <td>3976849</td>\n      <td>257821363</td>\n      <td>2374586</td>\n      <td>4.4</td>\n      <td>grand cru.  well made.  bright, delightful, wi...</td>\n      <td>2.0</td>\n      <td>1.0</td>\n      <td>1967368</td>\n      <td>23</td>\n      <td>en</td>\n      <td>0.977111</td>\n    </tr>\n    <tr>\n      <th>3976850</th>\n      <td>3976850</td>\n      <td>257823144</td>\n      <td>1893855</td>\n      <td>4.0</td>\n      <td>nice perfume, roses and white blossoms, young ...</td>\n      <td>0.0</td>\n      <td>0.0</td>\n      <td>59128310</td>\n      <td>25</td>\n      <td>en</td>\n      <td>0.968692</td>\n    </tr>\n  </tbody>\n</table>\n<p>1871040 rows × 11 columns</p>\n</div>"
     },
     "execution_count": 18,
     "metadata": {},
     "output_type": "execute_result"
    }
   ],
   "source": [
    "df_rev_en_sent"
   ],
   "metadata": {
    "collapsed": false
   }
  },
  {
   "cell_type": "code",
   "execution_count": 14,
   "outputs": [],
   "source": [
    "df_rev_en_sent.drop(columns=['created_at', 'scan_image_path'], inplace=True)"
   ],
   "metadata": {
    "collapsed": false
   }
  },
  {
   "cell_type": "code",
   "execution_count": 15,
   "outputs": [
    {
     "data": {
      "text/plain": "   index    id  wine_id  rating  \\\n0      0  3975  1101258     4.0   \n1      1  4202    76378     5.0   \n2      2  4261  1231210     5.0   \n4      4  4354    17998     4.0   \n6      6  4393     1213     5.0   \n\n                                                note  likes_count  \\\n0                         excellent full bodied wine          2.0   \n1  the real price at phillipson is around 1299 dk...          0.0   \n2  clean, crisp and full of nuance and elegance, ...          3.0   \n4  it is not a champagne type wine! it is a red w...          0.0   \n6  nothing to do with wine, nothing to do with vi...          3.0   \n\n   comments_count  user_id  note_length len_code  sentiment  \n0             1.0    32547            4       en   0.938549  \n1             1.0    48500           39       en   0.576068  \n2             1.0    53601           17       en   0.982237  \n4             1.0    47873           12       en   0.736812  \n6             1.0    53601           43       en   0.771274  ",
      "text/html": "<div>\n<style scoped>\n    .dataframe tbody tr th:only-of-type {\n        vertical-align: middle;\n    }\n\n    .dataframe tbody tr th {\n        vertical-align: top;\n    }\n\n    .dataframe thead th {\n        text-align: right;\n    }\n</style>\n<table border=\"1\" class=\"dataframe\">\n  <thead>\n    <tr style=\"text-align: right;\">\n      <th></th>\n      <th>index</th>\n      <th>id</th>\n      <th>wine_id</th>\n      <th>rating</th>\n      <th>note</th>\n      <th>likes_count</th>\n      <th>comments_count</th>\n      <th>user_id</th>\n      <th>note_length</th>\n      <th>len_code</th>\n      <th>sentiment</th>\n    </tr>\n  </thead>\n  <tbody>\n    <tr>\n      <th>0</th>\n      <td>0</td>\n      <td>3975</td>\n      <td>1101258</td>\n      <td>4.0</td>\n      <td>excellent full bodied wine</td>\n      <td>2.0</td>\n      <td>1.0</td>\n      <td>32547</td>\n      <td>4</td>\n      <td>en</td>\n      <td>0.938549</td>\n    </tr>\n    <tr>\n      <th>1</th>\n      <td>1</td>\n      <td>4202</td>\n      <td>76378</td>\n      <td>5.0</td>\n      <td>the real price at phillipson is around 1299 dk...</td>\n      <td>0.0</td>\n      <td>1.0</td>\n      <td>48500</td>\n      <td>39</td>\n      <td>en</td>\n      <td>0.576068</td>\n    </tr>\n    <tr>\n      <th>2</th>\n      <td>2</td>\n      <td>4261</td>\n      <td>1231210</td>\n      <td>5.0</td>\n      <td>clean, crisp and full of nuance and elegance, ...</td>\n      <td>3.0</td>\n      <td>1.0</td>\n      <td>53601</td>\n      <td>17</td>\n      <td>en</td>\n      <td>0.982237</td>\n    </tr>\n    <tr>\n      <th>4</th>\n      <td>4</td>\n      <td>4354</td>\n      <td>17998</td>\n      <td>4.0</td>\n      <td>it is not a champagne type wine! it is a red w...</td>\n      <td>0.0</td>\n      <td>1.0</td>\n      <td>47873</td>\n      <td>12</td>\n      <td>en</td>\n      <td>0.736812</td>\n    </tr>\n    <tr>\n      <th>6</th>\n      <td>6</td>\n      <td>4393</td>\n      <td>1213</td>\n      <td>5.0</td>\n      <td>nothing to do with wine, nothing to do with vi...</td>\n      <td>3.0</td>\n      <td>1.0</td>\n      <td>53601</td>\n      <td>43</td>\n      <td>en</td>\n      <td>0.771274</td>\n    </tr>\n  </tbody>\n</table>\n</div>"
     },
     "execution_count": 15,
     "metadata": {},
     "output_type": "execute_result"
    }
   ],
   "source": [
    "df_rev_en_sent.head()"
   ],
   "metadata": {
    "collapsed": false
   }
  },
  {
   "cell_type": "code",
   "execution_count": 16,
   "outputs": [],
   "source": [
    "test, train = train_test_split(df_rev_en_sent, test_size=0.8, random_state=26)"
   ],
   "metadata": {
    "collapsed": false
   }
  },
  {
   "cell_type": "code",
   "execution_count": 17,
   "outputs": [
    {
     "name": "stdout",
     "output_type": "stream",
     "text": [
      "DataFrame has been saved successfully to: review_en_train\n",
      "DataFrame has been saved successfully to: review_en_test\n"
     ]
    }
   ],
   "source": [
    "save_to_database(db='review_en_train', table='review_en_train', df=train)\n",
    "save_to_database(db='review_en_test', table='review_en_test', df=test)"
   ],
   "metadata": {
    "collapsed": false
   }
  },
  {
   "cell_type": "markdown",
   "source": [
    "#### REVIEW_EN_SC (with spelling correction)"
   ],
   "metadata": {
    "collapsed": false
   }
  },
  {
   "cell_type": "code",
   "execution_count": 11,
   "outputs": [
    {
     "data": {
      "text/plain": "   index    id  wine_id  rating                created_at  likes_count  \\\n0      0  3975  1101258     4.0  2011-07-19T21:21:22.000Z          2.0   \n1      1  4202    76378     5.0  2011-08-06T20:52:53.000Z          0.0   \n\n   comments_count                               scan_image_path  user_id  \\\n0             1.0  images.vivino.com/labels/1309631550_2382.jpg    32547   \n1             1.0  images.vivino.com/labels/1311959128_1819.jpg    48500   \n\n   note_length len_code  sentiment  \\\n0            4       en   0.938549   \n1           39       en   0.576068   \n\n                                                note  \n0                         excellent full bodied wine  \n1  the real price at phillipson is around 1299 dk...  ",
      "text/html": "<div>\n<style scoped>\n    .dataframe tbody tr th:only-of-type {\n        vertical-align: middle;\n    }\n\n    .dataframe tbody tr th {\n        vertical-align: top;\n    }\n\n    .dataframe thead th {\n        text-align: right;\n    }\n</style>\n<table border=\"1\" class=\"dataframe\">\n  <thead>\n    <tr style=\"text-align: right;\">\n      <th></th>\n      <th>index</th>\n      <th>id</th>\n      <th>wine_id</th>\n      <th>rating</th>\n      <th>created_at</th>\n      <th>likes_count</th>\n      <th>comments_count</th>\n      <th>scan_image_path</th>\n      <th>user_id</th>\n      <th>note_length</th>\n      <th>len_code</th>\n      <th>sentiment</th>\n      <th>note</th>\n    </tr>\n  </thead>\n  <tbody>\n    <tr>\n      <th>0</th>\n      <td>0</td>\n      <td>3975</td>\n      <td>1101258</td>\n      <td>4.0</td>\n      <td>2011-07-19T21:21:22.000Z</td>\n      <td>2.0</td>\n      <td>1.0</td>\n      <td>images.vivino.com/labels/1309631550_2382.jpg</td>\n      <td>32547</td>\n      <td>4</td>\n      <td>en</td>\n      <td>0.938549</td>\n      <td>excellent full bodied wine</td>\n    </tr>\n    <tr>\n      <th>1</th>\n      <td>1</td>\n      <td>4202</td>\n      <td>76378</td>\n      <td>5.0</td>\n      <td>2011-08-06T20:52:53.000Z</td>\n      <td>0.0</td>\n      <td>1.0</td>\n      <td>images.vivino.com/labels/1311959128_1819.jpg</td>\n      <td>48500</td>\n      <td>39</td>\n      <td>en</td>\n      <td>0.576068</td>\n      <td>the real price at phillipson is around 1299 dk...</td>\n    </tr>\n  </tbody>\n</table>\n</div>"
     },
     "execution_count": 11,
     "metadata": {},
     "output_type": "execute_result"
    }
   ],
   "source": [
    "df_rev_en_sent_sc = load_from_database(db='review_en_sentiment_sc', table='review_en_sentiment_sc', columns='*')\n",
    "df_rev_en_sent_sc.head(n=2)"
   ],
   "metadata": {
    "collapsed": false
   }
  },
  {
   "cell_type": "code",
   "execution_count": 12,
   "outputs": [],
   "source": [
    "df_rev_en_sent_sc = df_rev_en_sent_sc[df_rev_en_sent_sc['wine_id'].isin(five_to_x_user)]"
   ],
   "metadata": {
    "collapsed": false
   }
  },
  {
   "cell_type": "code",
   "execution_count": 13,
   "outputs": [
    {
     "data": {
      "text/plain": "           index         id  wine_id  rating                created_at  \\\n0              0       3975  1101258     4.0  2011-07-19T21:21:22.000Z   \n1              1       4202    76378     5.0  2011-08-06T20:52:53.000Z   \n2              2       4261  1231210     5.0  2011-08-11T08:06:39.000Z   \n4              4       4354    17998     4.0  2011-08-12T16:53:19.000Z   \n6              6       4393     1213     5.0  2011-08-13T17:51:31.000Z   \n...          ...        ...      ...     ...                       ...   \n3976739  3977264  257812082  1523914     4.4  2022-10-18T19:25:15.000Z   \n3976742  3977267  257819303  1665120     3.8  2022-10-18T21:00:39.000Z   \n3976743  3977268  257820106  1841279     3.0  2022-10-18T21:16:24.000Z   \n3976744  3977269  257821363  2374586     4.4  2022-10-18T21:43:26.000Z   \n3976745  3977270  257823144  1893855     4.0  2022-10-18T22:22:01.000Z   \n\n         likes_count  comments_count  \\\n0                2.0             1.0   \n1                0.0             1.0   \n2                3.0             1.0   \n4                0.0             1.0   \n6                3.0             1.0   \n...              ...             ...   \n3976739          0.0             0.0   \n3976742          0.0             0.0   \n3976743          0.0             0.0   \n3976744          2.0             1.0   \n3976745          0.0             0.0   \n\n                                           scan_image_path   user_id  \\\n0             images.vivino.com/labels/1309631550_2382.jpg     32547   \n1             images.vivino.com/labels/1311959128_1819.jpg     48500   \n2             images.vivino.com/labels/1312622458_6592.jpg     53601   \n4             images.vivino.com/labels/1311842730_8268.jpg     47873   \n6             images.vivino.com/labels/1312976199_3560.jpg     53601   \n...                                                    ...       ...   \n3976739  images.vivino.com/labels/J6_8eKx1TdqLh_wVjSiLV...   4787537   \n3976742  images.vivino.com/labels/mtFOflgRROaBV0c_g7db2...  32988909   \n3976743  images.vivino.com/thumbs/SMjVOSwnQP-UdzNW5ARg2...  36708473   \n3976744  images.vivino.com/labels/jr6Ktb2gStGMQjxhrsf2c...   1967368   \n3976745  images.vivino.com/labels/IJCc6bfJTYi9naxdME78s...  59128310   \n\n         note_length len_code  sentiment  \\\n0                  4       en   0.938549   \n1                 39       en   0.576068   \n2                 17       en   0.982237   \n4                 12       en   0.736812   \n6                 43       en   0.771274   \n...              ...      ...        ...   \n3976739            3       en   0.790421   \n3976742           81       en   0.822034   \n3976743           14       en   0.843707   \n3976744           23       en   0.977111   \n3976745           25       en   0.968692   \n\n                                                      note  \n0                               excellent full bodied wine  \n1        the real price at phillipson is around 1299 dk...  \n2        clean , crisp and full of nuance and elegance ...  \n4        it is not a champagne type wine ! it is a red ...  \n6        nothing to do with wine , nothing to do with v...  \n...                                                    ...  \n3976739                              next round , gourmand  \n3976742  I did not aerate the wine , but allowed the ar...  \n3976743  on the sweeter side of a chenin blanc with not...  \n3976744  grand cru . well made . bright , delightful , ...  \n3976745  nice perfume , roses and white blossoms , youn...  \n\n[1871037 rows x 13 columns]",
      "text/html": "<div>\n<style scoped>\n    .dataframe tbody tr th:only-of-type {\n        vertical-align: middle;\n    }\n\n    .dataframe tbody tr th {\n        vertical-align: top;\n    }\n\n    .dataframe thead th {\n        text-align: right;\n    }\n</style>\n<table border=\"1\" class=\"dataframe\">\n  <thead>\n    <tr style=\"text-align: right;\">\n      <th></th>\n      <th>index</th>\n      <th>id</th>\n      <th>wine_id</th>\n      <th>rating</th>\n      <th>created_at</th>\n      <th>likes_count</th>\n      <th>comments_count</th>\n      <th>scan_image_path</th>\n      <th>user_id</th>\n      <th>note_length</th>\n      <th>len_code</th>\n      <th>sentiment</th>\n      <th>note</th>\n    </tr>\n  </thead>\n  <tbody>\n    <tr>\n      <th>0</th>\n      <td>0</td>\n      <td>3975</td>\n      <td>1101258</td>\n      <td>4.0</td>\n      <td>2011-07-19T21:21:22.000Z</td>\n      <td>2.0</td>\n      <td>1.0</td>\n      <td>images.vivino.com/labels/1309631550_2382.jpg</td>\n      <td>32547</td>\n      <td>4</td>\n      <td>en</td>\n      <td>0.938549</td>\n      <td>excellent full bodied wine</td>\n    </tr>\n    <tr>\n      <th>1</th>\n      <td>1</td>\n      <td>4202</td>\n      <td>76378</td>\n      <td>5.0</td>\n      <td>2011-08-06T20:52:53.000Z</td>\n      <td>0.0</td>\n      <td>1.0</td>\n      <td>images.vivino.com/labels/1311959128_1819.jpg</td>\n      <td>48500</td>\n      <td>39</td>\n      <td>en</td>\n      <td>0.576068</td>\n      <td>the real price at phillipson is around 1299 dk...</td>\n    </tr>\n    <tr>\n      <th>2</th>\n      <td>2</td>\n      <td>4261</td>\n      <td>1231210</td>\n      <td>5.0</td>\n      <td>2011-08-11T08:06:39.000Z</td>\n      <td>3.0</td>\n      <td>1.0</td>\n      <td>images.vivino.com/labels/1312622458_6592.jpg</td>\n      <td>53601</td>\n      <td>17</td>\n      <td>en</td>\n      <td>0.982237</td>\n      <td>clean , crisp and full of nuance and elegance ...</td>\n    </tr>\n    <tr>\n      <th>4</th>\n      <td>4</td>\n      <td>4354</td>\n      <td>17998</td>\n      <td>4.0</td>\n      <td>2011-08-12T16:53:19.000Z</td>\n      <td>0.0</td>\n      <td>1.0</td>\n      <td>images.vivino.com/labels/1311842730_8268.jpg</td>\n      <td>47873</td>\n      <td>12</td>\n      <td>en</td>\n      <td>0.736812</td>\n      <td>it is not a champagne type wine ! it is a red ...</td>\n    </tr>\n    <tr>\n      <th>6</th>\n      <td>6</td>\n      <td>4393</td>\n      <td>1213</td>\n      <td>5.0</td>\n      <td>2011-08-13T17:51:31.000Z</td>\n      <td>3.0</td>\n      <td>1.0</td>\n      <td>images.vivino.com/labels/1312976199_3560.jpg</td>\n      <td>53601</td>\n      <td>43</td>\n      <td>en</td>\n      <td>0.771274</td>\n      <td>nothing to do with wine , nothing to do with v...</td>\n    </tr>\n    <tr>\n      <th>...</th>\n      <td>...</td>\n      <td>...</td>\n      <td>...</td>\n      <td>...</td>\n      <td>...</td>\n      <td>...</td>\n      <td>...</td>\n      <td>...</td>\n      <td>...</td>\n      <td>...</td>\n      <td>...</td>\n      <td>...</td>\n      <td>...</td>\n    </tr>\n    <tr>\n      <th>3976739</th>\n      <td>3977264</td>\n      <td>257812082</td>\n      <td>1523914</td>\n      <td>4.4</td>\n      <td>2022-10-18T19:25:15.000Z</td>\n      <td>0.0</td>\n      <td>0.0</td>\n      <td>images.vivino.com/labels/J6_8eKx1TdqLh_wVjSiLV...</td>\n      <td>4787537</td>\n      <td>3</td>\n      <td>en</td>\n      <td>0.790421</td>\n      <td>next round , gourmand</td>\n    </tr>\n    <tr>\n      <th>3976742</th>\n      <td>3977267</td>\n      <td>257819303</td>\n      <td>1665120</td>\n      <td>3.8</td>\n      <td>2022-10-18T21:00:39.000Z</td>\n      <td>0.0</td>\n      <td>0.0</td>\n      <td>images.vivino.com/labels/mtFOflgRROaBV0c_g7db2...</td>\n      <td>32988909</td>\n      <td>81</td>\n      <td>en</td>\n      <td>0.822034</td>\n      <td>I did not aerate the wine , but allowed the ar...</td>\n    </tr>\n    <tr>\n      <th>3976743</th>\n      <td>3977268</td>\n      <td>257820106</td>\n      <td>1841279</td>\n      <td>3.0</td>\n      <td>2022-10-18T21:16:24.000Z</td>\n      <td>0.0</td>\n      <td>0.0</td>\n      <td>images.vivino.com/thumbs/SMjVOSwnQP-UdzNW5ARg2...</td>\n      <td>36708473</td>\n      <td>14</td>\n      <td>en</td>\n      <td>0.843707</td>\n      <td>on the sweeter side of a chenin blanc with not...</td>\n    </tr>\n    <tr>\n      <th>3976744</th>\n      <td>3977269</td>\n      <td>257821363</td>\n      <td>2374586</td>\n      <td>4.4</td>\n      <td>2022-10-18T21:43:26.000Z</td>\n      <td>2.0</td>\n      <td>1.0</td>\n      <td>images.vivino.com/labels/jr6Ktb2gStGMQjxhrsf2c...</td>\n      <td>1967368</td>\n      <td>23</td>\n      <td>en</td>\n      <td>0.977111</td>\n      <td>grand cru . well made . bright , delightful , ...</td>\n    </tr>\n    <tr>\n      <th>3976745</th>\n      <td>3977270</td>\n      <td>257823144</td>\n      <td>1893855</td>\n      <td>4.0</td>\n      <td>2022-10-18T22:22:01.000Z</td>\n      <td>0.0</td>\n      <td>0.0</td>\n      <td>images.vivino.com/labels/IJCc6bfJTYi9naxdME78s...</td>\n      <td>59128310</td>\n      <td>25</td>\n      <td>en</td>\n      <td>0.968692</td>\n      <td>nice perfume , roses and white blossoms , youn...</td>\n    </tr>\n  </tbody>\n</table>\n<p>1871037 rows × 13 columns</p>\n</div>"
     },
     "execution_count": 13,
     "metadata": {},
     "output_type": "execute_result"
    }
   ],
   "source": [
    "df_rev_en_sent_sc"
   ],
   "metadata": {
    "collapsed": false
   }
  },
  {
   "cell_type": "code",
   "execution_count": 14,
   "outputs": [],
   "source": [
    "df_rev_en_sent_sc.drop(columns=['scan_image_path', 'created_at'], inplace=True)"
   ],
   "metadata": {
    "collapsed": false
   }
  },
  {
   "cell_type": "code",
   "execution_count": 15,
   "outputs": [
    {
     "data": {
      "text/plain": "3117515     1000\n1174700      999\n4388933      998\n82690        998\n1128250      997\n            ... \n6878339        5\n3631406        5\n9824165        5\n7166672        5\n10831702       5\nName: wine_id, Length: 10177, dtype: int64"
     },
     "execution_count": 15,
     "metadata": {},
     "output_type": "execute_result"
    }
   ],
   "source": [
    "df_rev_en_sent_sc['wine_id'].value_counts()"
   ],
   "metadata": {
    "collapsed": false
   }
  },
  {
   "cell_type": "markdown",
   "source": [
    "### Cold start data set"
   ],
   "metadata": {
    "collapsed": false
   }
  },
  {
   "cell_type": "code",
   "execution_count": 8,
   "outputs": [],
   "source": [
    "df_rev_en_sent = load_from_database(db='review_en_sentiment', table='review_en_sentiment', columns='*')\n",
    "test, train = train_test_split(df_rev_en_sent, test_size=0.8, random_state=26)\n",
    "del df_rev_en_sent"
   ],
   "metadata": {
    "collapsed": false
   }
  },
  {
   "cell_type": "code",
   "execution_count": 9,
   "outputs": [
    {
     "name": "stderr",
     "output_type": "stream",
     "text": [
      "/var/folders/0w/wzymnpfd4rjdkg4k8khhk6dc0000gn/T/ipykernel_24270/2124204373.py:7: SettingWithCopyWarning: \n",
      "A value is trying to be set on a copy of a slice from a DataFrame\n",
      "\n",
      "See the caveats in the documentation: https://pandas.pydata.org/pandas-docs/stable/user_guide/indexing.html#returning-a-view-versus-a-copy\n",
      "  five_to_x.drop_duplicates(inplace=True)\n"
     ]
    }
   ],
   "source": [
    "_min = 1\n",
    "_max = 5\n",
    "five_to_x = train[train['user_id'].isin(train['user_id'].value_counts()[\n",
    "                                            (train['user_id'].value_counts() >= _min) &\n",
    "                                            (train['user_id'].value_counts() <= _max)\n",
    "                                            ].index)]['user_id']\n",
    "five_to_x.drop_duplicates(inplace=True)"
   ],
   "metadata": {
    "collapsed": false
   }
  },
  {
   "cell_type": "code",
   "execution_count": 10,
   "outputs": [],
   "source": [
    "train = train[train['user_id'].isin(five_to_x)]"
   ],
   "metadata": {
    "collapsed": false
   }
  },
  {
   "cell_type": "code",
   "execution_count": 12,
   "outputs": [],
   "source": [
    "train.drop(columns=['created_at', 'scan_image_path', 'index'], inplace=True)\n",
    "print(len(train))\n",
    "train.head()"
   ],
   "metadata": {
    "collapsed": false
   }
  },
  {
   "cell_type": "code",
   "execution_count": 15,
   "outputs": [
    {
     "name": "stdout",
     "output_type": "stream",
     "text": [
      "DataFrame has been saved successfully to: review_en_train_cold\n"
     ]
    }
   ],
   "source": [
    "save_to_database(db='review_en_train_cold', table='review_en_train_cold', df=test)"
   ],
   "metadata": {
    "collapsed": false
   }
  },
  {
   "cell_type": "markdown",
   "source": [
    "### Word count"
   ],
   "metadata": {
    "collapsed": false
   }
  },
  {
   "cell_type": "code",
   "execution_count": 3,
   "outputs": [],
   "source": [
    "df_rev_en_train = load_from_database(db='review_en_train', table='review_en_train', columns='*')\n",
    "df_rev_en_test = load_from_database(db='review_en_test', table='review_en_test', columns='*')"
   ],
   "metadata": {
    "collapsed": false
   }
  },
  {
   "cell_type": "code",
   "execution_count": 27,
   "outputs": [],
   "source": [
    "high_word_train = df_rev_en_train['note_length'].quantile(q=0.6)\n",
    "high_word_test = df_rev_en_test['note_length'].quantile(q=0.6)"
   ],
   "metadata": {
    "collapsed": false
   }
  },
  {
   "cell_type": "code",
   "execution_count": 28,
   "outputs": [],
   "source": [
    "df_rev_en_train_high_word = df_rev_en_train[df_rev_en_train['note_length'] >= high_word_train]\n",
    "df_rev_en_test_high_word = df_rev_en_test[df_rev_en_test['note_length'] >= high_word_test]"
   ],
   "metadata": {
    "collapsed": false
   }
  },
  {
   "cell_type": "code",
   "execution_count": 29,
   "outputs": [
    {
     "data": {
      "text/plain": "39964"
     },
     "execution_count": 29,
     "metadata": {},
     "output_type": "execute_result"
    }
   ],
   "source": [
    "len(list(set(df_rev_en_test_high_word['user_id']) & set(df_rev_en_train_high_word['user_id'])))"
   ],
   "metadata": {
    "collapsed": false
   }
  },
  {
   "cell_type": "code",
   "execution_count": 30,
   "outputs": [
    {
     "name": "stdout",
     "output_type": "stream",
     "text": [
      "DataFrame has been saved successfully to: review_en_train_high_word\n",
      "DataFrame has been saved successfully to: review_en_test_high_word\n"
     ]
    }
   ],
   "source": [
    "save_to_database(db='review_en_train_high_word', table='review_en_train_high_word', df=df_rev_en_train_high_word)\n",
    "save_to_database(db='review_en_test_high_word', table='review_en_test_high_word', df=df_rev_en_test_high_word)"
   ],
   "metadata": {
    "collapsed": false
   }
  },
  {
   "cell_type": "code",
   "execution_count": 31,
   "outputs": [],
   "source": [
    "low_word_train = df_rev_en_train['note_length'].quantile(q=0.4)\n",
    "low_word_test = df_rev_en_test['note_length'].quantile(q=0.4)"
   ],
   "metadata": {
    "collapsed": false
   }
  },
  {
   "cell_type": "code",
   "execution_count": 34,
   "outputs": [],
   "source": [
    "df_rev_en_train_low_word = df_rev_en_train[df_rev_en_train['note_length'] <= low_word_train]\n",
    "df_rev_en_test_low_word = df_rev_en_test[df_rev_en_test['note_length'] <= low_word_test]"
   ],
   "metadata": {
    "collapsed": false
   }
  },
  {
   "cell_type": "code",
   "execution_count": 35,
   "outputs": [
    {
     "data": {
      "text/plain": "52232"
     },
     "execution_count": 35,
     "metadata": {},
     "output_type": "execute_result"
    }
   ],
   "source": [
    "len(list(set(df_rev_en_train_low_word['user_id']) & set(df_rev_en_test_low_word['user_id'])))"
   ],
   "metadata": {
    "collapsed": false
   }
  },
  {
   "cell_type": "code",
   "execution_count": 36,
   "outputs": [
    {
     "name": "stdout",
     "output_type": "stream",
     "text": [
      "DataFrame has been saved successfully to: review_en_train_low_word\n",
      "DataFrame has been saved successfully to: review_en_test_low_word\n"
     ]
    }
   ],
   "source": [
    "save_to_database(db='review_en_train_low_word', table='review_en_train_low_word', df=df_rev_en_train_low_word)\n",
    "save_to_database(db='review_en_test_low_word', table='review_en_test_low_word', df=df_rev_en_test_low_word)"
   ],
   "metadata": {
    "collapsed": false
   }
  }
 ],
 "metadata": {
  "kernelspec": {
   "display_name": "Python 3",
   "language": "python",
   "name": "python3"
  },
  "language_info": {
   "codemirror_mode": {
    "name": "ipython",
    "version": 2
   },
   "file_extension": ".py",
   "mimetype": "text/x-python",
   "name": "python",
   "nbconvert_exporter": "python",
   "pygments_lexer": "ipython2",
   "version": "2.7.6"
  }
 },
 "nbformat": 4,
 "nbformat_minor": 0
}
