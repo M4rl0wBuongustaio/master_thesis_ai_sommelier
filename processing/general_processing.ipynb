{
 "cells": [
  {
   "cell_type": "code",
   "execution_count": null,
   "metadata": {
    "collapsed": true
   },
   "outputs": [],
   "source": [
    "import sentiment_multiprocessing\n",
    "from datetime import datetime\n",
    "import pandas as pd\n",
    "import sqlite3"
   ]
  },
  {
   "cell_type": "markdown",
   "source": [
    "### Calculation note length"
   ],
   "metadata": {
    "collapsed": false
   }
  },
  {
   "cell_type": "code",
   "execution_count": null,
   "outputs": [],
   "source": [
    "con_rev = sqlite3.connect('../database/review.db')\n",
    "df_rev = pd.read_sql_query(\"SELECT * from review\", con_rev)\n",
    "df_rev.head()"
   ],
   "metadata": {
    "collapsed": false
   }
  },
  {
   "cell_type": "code",
   "execution_count": null,
   "outputs": [],
   "source": [
    "df_rev['note_length'] = df_rev.apply(lambda row: len(str(row.note).split()), axis=1)"
   ],
   "metadata": {
    "collapsed": false
   }
  },
  {
   "cell_type": "code",
   "execution_count": null,
   "outputs": [],
   "source": [
    "df_rev.drop(columns='index', inplace=True)\n",
    "df_rev.sort_values(by='id', inplace=True)\n",
    "df_rev.to_sql('review', con=con_rev, if_exists='replace')"
   ],
   "metadata": {
    "collapsed": false
   }
  },
  {
   "cell_type": "markdown",
   "source": [
    "### Sentiment analysis"
   ],
   "metadata": {
    "collapsed": false
   }
  },
  {
   "cell_type": "code",
   "execution_count": null,
   "outputs": [],
   "source": [
    "con_rev = sqlite3.connect('../database/review_en.db')\n",
    "df_rev = pd.read_sql_query(\"SELECT id, note from review_en\", con_rev)\n",
    "df_rev.head()"
   ],
   "metadata": {
    "collapsed": false
   }
  },
  {
   "cell_type": "code",
   "execution_count": null,
   "outputs": [],
   "source": [
    "con_rev = sqlite3.connect('../database/review_en.db')\n",
    "df_rev = pd.read_sql_query(\"SELECT id, note from review_en\", con_rev)\n",
    "results = sentiment_multiprocessing.process(df_rev)\n",
    "df_results = pd.concat(results)\n",
    "del df_rev\n",
    "con_reviews = sqlite3.connect('../database/review_en.db')\n",
    "df_reviews = pd.read_sql_query(\"SELECT * from review_en\", con_reviews)\n",
    "df_reviews.drop(columns=['index'], inplace=True)\n",
    "df_final = pd.merge(df_reviews, df_results, on='id')\n",
    "\n",
    "con_rev_en_sent = sqlite3.connect('../database/review_en_sentiment.db')\n",
    "cur_rev_en_sent = con_rev_en_sent.cursor()\n",
    "cur_rev_en_sent.execute('CREATE TABLE IF NOT EXISTS review_en_sentiment('\n",
    "                        'id, wine_id, rating, note, created_at, likes_count, comments_count, scan_image_path, user_id, note_length, len_code, sentiment)')\n",
    "df_final.to_sql('review_en_sentiment', con=con_rev_en_sent, if_exists='replace')"
   ],
   "metadata": {
    "collapsed": false,
    "pycharm": {
     "is_executing": true
    }
   }
  }
 ],
 "metadata": {
  "kernelspec": {
   "display_name": "Python 3",
   "language": "python",
   "name": "python3"
  },
  "language_info": {
   "codemirror_mode": {
    "name": "ipython",
    "version": 2
   },
   "file_extension": ".py",
   "mimetype": "text/x-python",
   "name": "python",
   "nbconvert_exporter": "python",
   "pygments_lexer": "ipython2",
   "version": "2.7.6"
  }
 },
 "nbformat": 4,
 "nbformat_minor": 0
}
