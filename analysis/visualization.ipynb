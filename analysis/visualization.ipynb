{
 "cells": [
  {
   "cell_type": "code",
   "execution_count": null,
   "metadata": {
    "collapsed": true
   },
   "outputs": [],
   "source": [
    "import sqlite3\n",
    "import numpy as np\n",
    "import pandas as pd\n",
    "# import seaborn as sb\n",
    "import matplotlib.pyplot as plt"
   ]
  },
  {
   "cell_type": "code",
   "execution_count": null,
   "outputs": [],
   "source": [
    "plt.rcParams['font.family'] = 'Palatino'\n",
    "fig_path = r'/Users/leonbecker/Library/CloudStorage/OneDrive-UniversitätWürzburg/Universität Würzburg/Master Information-Systems/Thesis/LaTex/graphics'"
   ],
   "metadata": {
    "collapsed": false
   }
  },
  {
   "cell_type": "code",
   "execution_count": null,
   "outputs": [],
   "source": [
    "wine_type_ids = {\n",
    "    1: 'red',\n",
    "    2: 'white',\n",
    "    3: 'sparkling_wine',\n",
    "    4: 'rose',\n",
    "    24: 'liqueur_wine',\n",
    "    7: 'dessert_wine'\n",
    "}"
   ],
   "metadata": {
    "collapsed": false
   }
  },
  {
   "cell_type": "code",
   "execution_count": null,
   "outputs": [],
   "source": [
    "con = sqlite3.connect('wine_distinct.db')\n",
    "cur = con.cursor()\n",
    "df_wine = pd.read_sql_query(\"SELECT * from wine_distinct\", con)\n",
    "df_wine.head()"
   ],
   "metadata": {
    "collapsed": false
   }
  },
  {
   "cell_type": "code",
   "execution_count": null,
   "outputs": [],
   "source": [
    "for index in df_wine.index:\n",
    "    df_wine.at[index, 'type_name'] = wine_type_ids[df_wine.loc[index, 'type_id']]"
   ],
   "metadata": {
    "collapsed": false
   }
  },
  {
   "cell_type": "code",
   "execution_count": null,
   "outputs": [],
   "source": [
    "ax = df_wine.country.value_counts().head(n=10).plot(\n",
    "    kind='bar',\n",
    "    color='black',\n",
    "    zorder=3\n",
    ")\n",
    "plt.grid(zorder=0, axis='y')\n",
    "plt.xticks(rotation=45)\n",
    "plt.tight_layout()\n",
    "ax.spines['right'].set_visible(False)\n",
    "ax.spines['top'].set_visible(False)\n",
    "plt.savefig(fig_path + '/top_10_producer_countries.pdf')"
   ],
   "metadata": {
    "collapsed": false
   }
  },
  {
   "cell_type": "code",
   "execution_count": null,
   "outputs": [],
   "source": [
    "ax = df_wine.type_name.value_counts().plot(\n",
    "    kind='bar',\n",
    "    color='black',\n",
    "    zorder=3\n",
    ")\n",
    "plt.grid(zorder=0, axis='y')\n",
    "plt.xticks(rotation=0)\n",
    "plt.tight_layout()\n",
    "ax.spines['right'].set_visible(False)\n",
    "ax.spines['top'].set_visible(False)\n",
    "plt.savefig(fig_path + '/wine_type_distribution.pdf')"
   ],
   "metadata": {
    "collapsed": false
   }
  },
  {
   "cell_type": "code",
   "execution_count": null,
   "outputs": [],
   "source": [
    "ax = df_wine.average_rating.plot(\n",
    "    kind='box'\n",
    ")\n",
    "plt.grid(axis='y')\n",
    "plt.tight_layout()\n",
    "plt.xticks(rotation=0)\n",
    "ax.spines['right'].set_visible(False)\n",
    "ax.spines['top'].set_visible(False)\n",
    "plt.savefig(fig_path + '/average_rating.pdf')"
   ],
   "metadata": {
    "collapsed": false
   }
  },
  {
   "cell_type": "code",
   "execution_count": null,
   "outputs": [],
   "source": [
    "ax = df_wine.boxplot(by='type_name', column='average_rating', rot=45)\n",
    "ax.set_title('')\n",
    "plt.suptitle('')\n",
    "ax.set_xlabel('')\n",
    "plt.tight_layout()\n",
    "ax.spines['right'].set_visible(False)\n",
    "ax.spines['top'].set_visible(False)\n",
    "plt.savefig(fig_path + '/average_rating_by_wine.pdf')"
   ],
   "metadata": {
    "collapsed": false
   }
  },
  {
   "cell_type": "code",
   "execution_count": null,
   "outputs": [],
   "source": [
    "top_10_countries = df_wine.country.value_counts().head(n=10).index"
   ],
   "metadata": {
    "collapsed": false
   }
  },
  {
   "cell_type": "code",
   "execution_count": null,
   "outputs": [],
   "source": [
    "plt.grid(zorder=0)\n",
    "ax = sb.violinplot(\n",
    "    data=df_wine[df_wine.country.isin(top_10_countries)],\n",
    "    y='average_rating',\n",
    "    x='country',\n",
    "    #palette=['w','w','w','w', 'w','w','w','w', 'w', 'w'],\n",
    "    zorder=3\n",
    ")\n",
    "# plt.grid(axis='y')\n",
    "plt.xticks(rotation=45)\n",
    "plt.ylabel(None)\n",
    "plt.xlabel(None)\n",
    "ax.spines['right'].set_visible(False)\n",
    "ax.spines['top'].set_visible(False)\n",
    "plt.tight_layout()\n",
    "plt.savefig(fig_path + '/top_10_ratings_for_countries.pdf')"
   ],
   "metadata": {
    "collapsed": false
   }
  },
  {
   "cell_type": "code",
   "execution_count": null,
   "outputs": [],
   "source": [
    "con_rev = sqlite3.connect('review.db')\n",
    "df_rev = pd.read_sql_query(\"SELECT * from review\", con_rev)\n",
    "df_rev.head()"
   ],
   "metadata": {
    "collapsed": false
   }
  },
  {
   "cell_type": "code",
   "execution_count": null,
   "outputs": [],
   "source": [
    "ax = df_rev.note_length.plot(\n",
    "    kind='box'\n",
    ")\n",
    "plt.grid(axis='y')\n",
    "plt.tight_layout()\n",
    "ax.spines['right'].set_visible(False)\n",
    "ax.spines['top'].set_visible(False)\n",
    "ax.set_xticks([])\n",
    "plt.savefig(fig_path + '/note_length.pdf')"
   ],
   "metadata": {
    "collapsed": false
   }
  },
  {
   "cell_type": "code",
   "execution_count": null,
   "outputs": [],
   "source": [
    "df_rev.note_length.plot(\n",
    "    kind='box'\n",
    ")\n",
    "plt.ylabel(None)\n",
    "plt.xlabel(None)\n",
    "ax.spines['right'].set_visible(False)\n",
    "ax.spines['top'].set_visible(False)\n",
    "plt.tight_layout()"
   ],
   "metadata": {
    "collapsed": false
   }
  },
  {
   "cell_type": "code",
   "execution_count": null,
   "outputs": [],
   "source": [
    "ax = df_rev.len_code.value_counts().head(n=10).plot(\n",
    "    kind='bar',\n",
    "    color='black',\n",
    "    zorder=3\n",
    ")\n",
    "plt.grid(axis='y')\n",
    "plt.tight_layout()\n",
    "ax.spines['right'].set_visible(False)\n",
    "ax.spines['top'].set_visible(False)\n",
    "plt.xticks(rotation=0)\n",
    "# ax.set_xticks([])\n",
    "plt.savefig(fig_path + '/language_distribution.pdf')"
   ],
   "metadata": {
    "collapsed": false
   }
  },
  {
   "cell_type": "code",
   "execution_count": null,
   "outputs": [],
   "source": [
    "con_rev_en = sqlite3.connect('review_en.db')\n",
    "df_rev_en = pd.read_sql_query(\"SELECT * from review_en\", con_rev_en)\n",
    "df_rev_en.head()"
   ],
   "metadata": {
    "collapsed": false
   }
  },
  {
   "cell_type": "code",
   "execution_count": null,
   "outputs": [],
   "source": [
    "ax = df_rev_en.note_length.plot(\n",
    "    kind='box',\n",
    "    # color='black',\n",
    "    #zorder=3\n",
    ")\n",
    "plt.grid(axis='y')\n",
    "plt.tight_layout()\n",
    "ax.spines['right'].set_visible(False)\n",
    "ax.spines['top'].set_visible(False)\n",
    "plt.xticks(rotation=0)\n",
    "ax.set_xticks([])\n",
    "plt.savefig(fig_path + '/note_length_en.pdf')"
   ],
   "metadata": {
    "collapsed": false
   }
  }
 ],
 "metadata": {
  "kernelspec": {
   "display_name": "Python 3",
   "language": "python",
   "name": "python3"
  },
  "language_info": {
   "codemirror_mode": {
    "name": "ipython",
    "version": 2
   },
   "file_extension": ".py",
   "mimetype": "text/x-python",
   "name": "python",
   "nbconvert_exporter": "python",
   "pygments_lexer": "ipython2",
   "version": "2.7.6"
  }
 },
 "nbformat": 4,
 "nbformat_minor": 0
}
