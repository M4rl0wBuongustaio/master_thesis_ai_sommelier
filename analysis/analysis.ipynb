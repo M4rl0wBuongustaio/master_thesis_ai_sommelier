{
 "cells": [
  {
   "cell_type": "code",
   "execution_count": 28,
   "metadata": {
    "collapsed": true
   },
   "outputs": [],
   "source": [
    "import sqlite3\n",
    "import pandas as pd\n",
    "from transformers import AutoTokenizer, AutoConfig, AutoModelForSequenceClassification\n",
    "import numpy as np\n",
    "from scipy.special import softmax\n",
    "from datetime import datetime"
   ]
  },
  {
   "cell_type": "code",
   "execution_count": 60,
   "outputs": [
    {
     "data": {
      "text/plain": "   index    id  wine_id  rating  \\\n0      0  3975  1101258     4.0   \n1      1  4202    76378     5.0   \n2      2  4261  1231210     5.0   \n3      3  4264  1178663     4.0   \n4      4  4354    17998     4.0   \n\n                                                note  \\\n0                         Excellent full bodied wine   \n1  The Real price at phillipson is around 1299 dk...   \n2  Clean, crisp and full of nuance and elegance, ...   \n3  Crisp and clean Champagne, a certain fave amon...   \n4  It is not a champagne type wine! It is a red w...   \n\n                 created_at  likes_count  comments_count  \\\n0  2011-07-19T21:21:22.000Z          2.0             1.0   \n1  2011-08-06T20:52:53.000Z          0.0             1.0   \n2  2011-08-11T08:06:39.000Z          3.0             1.0   \n3  2011-08-11T09:28:07.000Z         25.0             2.0   \n4  2011-08-12T16:53:19.000Z          0.0             1.0   \n\n                                scan_image_path  user_id  note_length len_code  \n0  images.vivino.com/labels/1309631550_2382.jpg    32547            4       en  \n1  images.vivino.com/labels/1311959128_1819.jpg    48500           39       en  \n2  images.vivino.com/labels/1312622458_6592.jpg    53601           17       en  \n3  images.vivino.com/labels/1312966707_6129.jpg    53601           22       en  \n4  images.vivino.com/labels/1311842730_8268.jpg    47873           12       en  ",
      "text/html": "<div>\n<style scoped>\n    .dataframe tbody tr th:only-of-type {\n        vertical-align: middle;\n    }\n\n    .dataframe tbody tr th {\n        vertical-align: top;\n    }\n\n    .dataframe thead th {\n        text-align: right;\n    }\n</style>\n<table border=\"1\" class=\"dataframe\">\n  <thead>\n    <tr style=\"text-align: right;\">\n      <th></th>\n      <th>index</th>\n      <th>id</th>\n      <th>wine_id</th>\n      <th>rating</th>\n      <th>note</th>\n      <th>created_at</th>\n      <th>likes_count</th>\n      <th>comments_count</th>\n      <th>scan_image_path</th>\n      <th>user_id</th>\n      <th>note_length</th>\n      <th>len_code</th>\n    </tr>\n  </thead>\n  <tbody>\n    <tr>\n      <th>0</th>\n      <td>0</td>\n      <td>3975</td>\n      <td>1101258</td>\n      <td>4.0</td>\n      <td>Excellent full bodied wine</td>\n      <td>2011-07-19T21:21:22.000Z</td>\n      <td>2.0</td>\n      <td>1.0</td>\n      <td>images.vivino.com/labels/1309631550_2382.jpg</td>\n      <td>32547</td>\n      <td>4</td>\n      <td>en</td>\n    </tr>\n    <tr>\n      <th>1</th>\n      <td>1</td>\n      <td>4202</td>\n      <td>76378</td>\n      <td>5.0</td>\n      <td>The Real price at phillipson is around 1299 dk...</td>\n      <td>2011-08-06T20:52:53.000Z</td>\n      <td>0.0</td>\n      <td>1.0</td>\n      <td>images.vivino.com/labels/1311959128_1819.jpg</td>\n      <td>48500</td>\n      <td>39</td>\n      <td>en</td>\n    </tr>\n    <tr>\n      <th>2</th>\n      <td>2</td>\n      <td>4261</td>\n      <td>1231210</td>\n      <td>5.0</td>\n      <td>Clean, crisp and full of nuance and elegance, ...</td>\n      <td>2011-08-11T08:06:39.000Z</td>\n      <td>3.0</td>\n      <td>1.0</td>\n      <td>images.vivino.com/labels/1312622458_6592.jpg</td>\n      <td>53601</td>\n      <td>17</td>\n      <td>en</td>\n    </tr>\n    <tr>\n      <th>3</th>\n      <td>3</td>\n      <td>4264</td>\n      <td>1178663</td>\n      <td>4.0</td>\n      <td>Crisp and clean Champagne, a certain fave amon...</td>\n      <td>2011-08-11T09:28:07.000Z</td>\n      <td>25.0</td>\n      <td>2.0</td>\n      <td>images.vivino.com/labels/1312966707_6129.jpg</td>\n      <td>53601</td>\n      <td>22</td>\n      <td>en</td>\n    </tr>\n    <tr>\n      <th>4</th>\n      <td>4</td>\n      <td>4354</td>\n      <td>17998</td>\n      <td>4.0</td>\n      <td>It is not a champagne type wine! It is a red w...</td>\n      <td>2011-08-12T16:53:19.000Z</td>\n      <td>0.0</td>\n      <td>1.0</td>\n      <td>images.vivino.com/labels/1311842730_8268.jpg</td>\n      <td>47873</td>\n      <td>12</td>\n      <td>en</td>\n    </tr>\n  </tbody>\n</table>\n</div>"
     },
     "execution_count": 60,
     "metadata": {},
     "output_type": "execute_result"
    }
   ],
   "source": [
    "con_rev = sqlite3.connect('../database/review_en.db')\n",
    "df_rev = pd.read_sql_query(\"SELECT * from review_en\", con_rev)\n",
    "df_rev.head()"
   ],
   "metadata": {
    "collapsed": false
   }
  },
  {
   "cell_type": "code",
   "execution_count": null,
   "outputs": [],
   "source": [
    "df_rev.created_at = df_rev.apply(lambda row: datetime.strptime(row.created_at, '%Y-%m-%dT%H:%M:%S.000Z'), axis=1, )"
   ],
   "metadata": {
    "collapsed": false
   }
  },
  {
   "cell_type": "code",
   "execution_count": null,
   "outputs": [],
   "source": [
    "greater_one = df_rev.groupby(by='user_id').filter(lambda x: x['rating'].count() > 5)"
   ],
   "metadata": {
    "collapsed": false
   }
  },
  {
   "cell_type": "markdown",
   "source": [
    "### Sentiment Analysis\n",
    "The following pre-processing pipeline and sentiment analysis has been taken from: <a href='https://huggingface.co/cardiffnlp/twitter-roberta-base-sentiment-latest?text=Covid+cases+are+increasing+fast%21'>Huggingface Sentiment Analysis</a>"
   ],
   "metadata": {
    "collapsed": false
   }
  },
  {
   "cell_type": "code",
   "execution_count": 30,
   "outputs": [
    {
     "name": "stderr",
     "output_type": "stream",
     "text": [
      "Some weights of the model checkpoint at cardiffnlp/twitter-roberta-base-sentiment-latest were not used when initializing RobertaForSequenceClassification: ['roberta.pooler.dense.weight', 'roberta.pooler.dense.bias']\n",
      "- This IS expected if you are initializing RobertaForSequenceClassification from the checkpoint of a model trained on another task or with another architecture (e.g. initializing a BertForSequenceClassification model from a BertForPreTraining model).\n",
      "- This IS NOT expected if you are initializing RobertaForSequenceClassification from the checkpoint of a model that you expect to be exactly identical (initializing a BertForSequenceClassification model from a BertForSequenceClassification model).\n"
     ]
    }
   ],
   "source": [
    "def preprocess(text):\n",
    "    new_text = []\n",
    "    for t in text.split(\" \"):\n",
    "        t = '@user' if t.startswith('@') and len(t) > 1 else t\n",
    "        t = 'http' if t.startswith('http') else t\n",
    "        new_text.append(t)\n",
    "    return \" \".join(new_text)\n",
    "\n",
    "\n",
    "MODEL = f\"cardiffnlp/twitter-roberta-base-sentiment-latest\"\n",
    "tokenizer = AutoTokenizer.from_pretrained(MODEL)\n",
    "config = AutoConfig.from_pretrained(MODEL)\n",
    "model = AutoModelForSequenceClassification.from_pretrained(MODEL)"
   ],
   "metadata": {
    "collapsed": false
   }
  },
  {
   "cell_type": "code",
   "execution_count": 62,
   "outputs": [
    {
     "name": "stdout",
     "output_type": "stream",
     "text": [
      "0:00:07.266468\n"
     ]
    }
   ],
   "source": [
    "start = datetime.now()\n",
    "for i in df_rev[df_rev.rating < 2].head(n=100).index:\n",
    "    sentiment = softmax(model(\n",
    "        **tokenizer(\n",
    "            preprocess(df_rev.loc[i]['note']), return_tensors='pt')\n",
    "    )[0][0].detach())\n",
    "    if np.where(sentiment == sentiment.max())[0][0] == 0:\n",
    "        df_rev.at[i, 'sentiment'] = sentiment.max() * -1\n",
    "    else:\n",
    "        df_rev.at[i, 'sentiment'] = sentiment.max()\n",
    "print(datetime.now() - start)"
   ],
   "metadata": {
    "collapsed": false
   }
  },
  {
   "cell_type": "code",
   "execution_count": 72,
   "outputs": [
    {
     "data": {
      "text/plain": "80.24028055555556"
     },
     "execution_count": 72,
     "metadata": {},
     "output_type": "execute_result"
    }
   ],
   "source": [
    "(((len(df_rev) / 100) * 7) / 60 ) / 60"
   ],
   "metadata": {
    "collapsed": false
   }
  },
  {
   "cell_type": "code",
   "execution_count": 59,
   "outputs": [
    {
     "data": {
      "text/plain": "           index         id  wine_id  rating  \\\n10            10       5580     2547     1.0   \n148          148      94108  1136300     1.0   \n182          182     116809     2693     1.0   \n185          185     120123     2547     1.0   \n201          201     135547  1130030     1.0   \n...          ...        ...      ...     ...   \n4126438  4126438  257730538    10247     1.5   \n4126477  4126477  257744562  3309775     1.5   \n4126504  4126504  257755600  6410715     1.5   \n4126626  4126626  257804077  5946114     1.5   \n4126636  4126636  257817767  1721646     1.0   \n\n                                                      note  \\\n10       My experience with this wine is...Unable to dr...   \n148          Disappointing. Does diserve cru classé rating   \n182      This is horrible, Baby Duck of Red wine! Save ...   \n185                             Worst wine I have tasted.    \n201      Almost not worth drinking. If you are making a...   \n...                                                    ...   \n4126438  Had at J/J with Danny. Came in last place of 3...   \n4126477               pietroso@[1|54354071|Samuele Biondi]   \n4126504                                      Not very good   \n4126626    not my favourite wine at all. somewhat bitter.    \n4126636                                                Nil   \n\n                       created_at  likes_count  comments_count  \\\n10       2011-11-06T20:11:54.000Z          1.0             0.0   \n148      2012-06-24T18:01:18.000Z          1.0             1.0   \n182      2012-07-13T00:51:15.000Z          0.0             1.0   \n185      2012-07-14T19:33:42.000Z          1.0             1.0   \n201      2012-07-19T12:29:35.000Z          0.0             0.0   \n...                           ...          ...             ...   \n4126438  2022-10-17T14:37:17.000Z          0.0             0.0   \n4126477  2022-10-17T18:08:17.000Z          0.0             0.0   \n4126504  2022-10-17T20:06:40.000Z          0.0             0.0   \n4126626  2022-10-18T18:02:50.000Z          NaN             NaN   \n4126636  2022-10-18T20:36:01.000Z          NaN             NaN   \n\n                                           scan_image_path   user_id  \\\n10       images.vivino.com/thumbs/fC6vyIS7TIOzF6dPKhiJV...     59314   \n148           images.vivino.com/labels/1340557624_9500.jpg    223344   \n182           images.vivino.com/labels/1342135341_1620.jpg    260618   \n185            images.vivino.com/labels/1333902709_551.jpg    161153   \n201           images.vivino.com/labels/1298144436_9963.jpg     13104   \n...                                                    ...       ...   \n4126438  images.vivino.com/labels/QcA_-hMzT5SbPJT2EFBRH...  30498966   \n4126477  images.vivino.com/thumbs/RCYVvwasRrSboD6oAuvhA...  54851792   \n4126504  images.vivino.com/labels/uK5qz91UQ0Gl7KXw7BMzN...  56906378   \n4126626  images.vivino.com/labels/TN96cLupTWmhJmIHhCvTw...  59067266   \n4126636  images.vivino.com/labels/C2ReQEh7TvaObGFqNX8kW...  10380483   \n\n         note_length len_code  sentiment  \n10                28       en  -0.954367  \n148                6       en  -0.906509  \n182               18       en  -0.933570  \n185                5       en  -0.947673  \n201               26       en  -0.731541  \n...              ...      ...        ...  \n4126438           14       en        NaN  \n4126477            2       en        NaN  \n4126504            3       en        NaN  \n4126626            8       en        NaN  \n4126636            1       en        NaN  \n\n[40841 rows x 13 columns]",
      "text/html": "<div>\n<style scoped>\n    .dataframe tbody tr th:only-of-type {\n        vertical-align: middle;\n    }\n\n    .dataframe tbody tr th {\n        vertical-align: top;\n    }\n\n    .dataframe thead th {\n        text-align: right;\n    }\n</style>\n<table border=\"1\" class=\"dataframe\">\n  <thead>\n    <tr style=\"text-align: right;\">\n      <th></th>\n      <th>index</th>\n      <th>id</th>\n      <th>wine_id</th>\n      <th>rating</th>\n      <th>note</th>\n      <th>created_at</th>\n      <th>likes_count</th>\n      <th>comments_count</th>\n      <th>scan_image_path</th>\n      <th>user_id</th>\n      <th>note_length</th>\n      <th>len_code</th>\n      <th>sentiment</th>\n    </tr>\n  </thead>\n  <tbody>\n    <tr>\n      <th>10</th>\n      <td>10</td>\n      <td>5580</td>\n      <td>2547</td>\n      <td>1.0</td>\n      <td>My experience with this wine is...Unable to dr...</td>\n      <td>2011-11-06T20:11:54.000Z</td>\n      <td>1.0</td>\n      <td>0.0</td>\n      <td>images.vivino.com/thumbs/fC6vyIS7TIOzF6dPKhiJV...</td>\n      <td>59314</td>\n      <td>28</td>\n      <td>en</td>\n      <td>-0.954367</td>\n    </tr>\n    <tr>\n      <th>148</th>\n      <td>148</td>\n      <td>94108</td>\n      <td>1136300</td>\n      <td>1.0</td>\n      <td>Disappointing. Does diserve cru classé rating</td>\n      <td>2012-06-24T18:01:18.000Z</td>\n      <td>1.0</td>\n      <td>1.0</td>\n      <td>images.vivino.com/labels/1340557624_9500.jpg</td>\n      <td>223344</td>\n      <td>6</td>\n      <td>en</td>\n      <td>-0.906509</td>\n    </tr>\n    <tr>\n      <th>182</th>\n      <td>182</td>\n      <td>116809</td>\n      <td>2693</td>\n      <td>1.0</td>\n      <td>This is horrible, Baby Duck of Red wine! Save ...</td>\n      <td>2012-07-13T00:51:15.000Z</td>\n      <td>0.0</td>\n      <td>1.0</td>\n      <td>images.vivino.com/labels/1342135341_1620.jpg</td>\n      <td>260618</td>\n      <td>18</td>\n      <td>en</td>\n      <td>-0.933570</td>\n    </tr>\n    <tr>\n      <th>185</th>\n      <td>185</td>\n      <td>120123</td>\n      <td>2547</td>\n      <td>1.0</td>\n      <td>Worst wine I have tasted.</td>\n      <td>2012-07-14T19:33:42.000Z</td>\n      <td>1.0</td>\n      <td>1.0</td>\n      <td>images.vivino.com/labels/1333902709_551.jpg</td>\n      <td>161153</td>\n      <td>5</td>\n      <td>en</td>\n      <td>-0.947673</td>\n    </tr>\n    <tr>\n      <th>201</th>\n      <td>201</td>\n      <td>135547</td>\n      <td>1130030</td>\n      <td>1.0</td>\n      <td>Almost not worth drinking. If you are making a...</td>\n      <td>2012-07-19T12:29:35.000Z</td>\n      <td>0.0</td>\n      <td>0.0</td>\n      <td>images.vivino.com/labels/1298144436_9963.jpg</td>\n      <td>13104</td>\n      <td>26</td>\n      <td>en</td>\n      <td>-0.731541</td>\n    </tr>\n    <tr>\n      <th>...</th>\n      <td>...</td>\n      <td>...</td>\n      <td>...</td>\n      <td>...</td>\n      <td>...</td>\n      <td>...</td>\n      <td>...</td>\n      <td>...</td>\n      <td>...</td>\n      <td>...</td>\n      <td>...</td>\n      <td>...</td>\n      <td>...</td>\n    </tr>\n    <tr>\n      <th>4126438</th>\n      <td>4126438</td>\n      <td>257730538</td>\n      <td>10247</td>\n      <td>1.5</td>\n      <td>Had at J/J with Danny. Came in last place of 3...</td>\n      <td>2022-10-17T14:37:17.000Z</td>\n      <td>0.0</td>\n      <td>0.0</td>\n      <td>images.vivino.com/labels/QcA_-hMzT5SbPJT2EFBRH...</td>\n      <td>30498966</td>\n      <td>14</td>\n      <td>en</td>\n      <td>NaN</td>\n    </tr>\n    <tr>\n      <th>4126477</th>\n      <td>4126477</td>\n      <td>257744562</td>\n      <td>3309775</td>\n      <td>1.5</td>\n      <td>pietroso@[1|54354071|Samuele Biondi]</td>\n      <td>2022-10-17T18:08:17.000Z</td>\n      <td>0.0</td>\n      <td>0.0</td>\n      <td>images.vivino.com/thumbs/RCYVvwasRrSboD6oAuvhA...</td>\n      <td>54851792</td>\n      <td>2</td>\n      <td>en</td>\n      <td>NaN</td>\n    </tr>\n    <tr>\n      <th>4126504</th>\n      <td>4126504</td>\n      <td>257755600</td>\n      <td>6410715</td>\n      <td>1.5</td>\n      <td>Not very good</td>\n      <td>2022-10-17T20:06:40.000Z</td>\n      <td>0.0</td>\n      <td>0.0</td>\n      <td>images.vivino.com/labels/uK5qz91UQ0Gl7KXw7BMzN...</td>\n      <td>56906378</td>\n      <td>3</td>\n      <td>en</td>\n      <td>NaN</td>\n    </tr>\n    <tr>\n      <th>4126626</th>\n      <td>4126626</td>\n      <td>257804077</td>\n      <td>5946114</td>\n      <td>1.5</td>\n      <td>not my favourite wine at all. somewhat bitter.</td>\n      <td>2022-10-18T18:02:50.000Z</td>\n      <td>NaN</td>\n      <td>NaN</td>\n      <td>images.vivino.com/labels/TN96cLupTWmhJmIHhCvTw...</td>\n      <td>59067266</td>\n      <td>8</td>\n      <td>en</td>\n      <td>NaN</td>\n    </tr>\n    <tr>\n      <th>4126636</th>\n      <td>4126636</td>\n      <td>257817767</td>\n      <td>1721646</td>\n      <td>1.0</td>\n      <td>Nil</td>\n      <td>2022-10-18T20:36:01.000Z</td>\n      <td>NaN</td>\n      <td>NaN</td>\n      <td>images.vivino.com/labels/C2ReQEh7TvaObGFqNX8kW...</td>\n      <td>10380483</td>\n      <td>1</td>\n      <td>en</td>\n      <td>NaN</td>\n    </tr>\n  </tbody>\n</table>\n<p>40841 rows × 13 columns</p>\n</div>"
     },
     "execution_count": 59,
     "metadata": {},
     "output_type": "execute_result"
    }
   ],
   "source": [
    "df_rev[df_rev.rating < 2]"
   ],
   "metadata": {
    "collapsed": false
   }
  }
 ],
 "metadata": {
  "kernelspec": {
   "display_name": "Python 3",
   "language": "python",
   "name": "python3"
  },
  "language_info": {
   "codemirror_mode": {
    "name": "ipython",
    "version": 2
   },
   "file_extension": ".py",
   "mimetype": "text/x-python",
   "name": "python",
   "nbconvert_exporter": "python",
   "pygments_lexer": "ipython2",
   "version": "2.7.6"
  }
 },
 "nbformat": 4,
 "nbformat_minor": 0
}
