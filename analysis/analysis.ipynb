{
 "cells": [
  {
   "cell_type": "code",
   "execution_count": 1,
   "metadata": {
    "collapsed": true
   },
   "outputs": [],
   "source": [
    "import sqlite3\n",
    "import pandas as pd"
   ]
  },
  {
   "cell_type": "markdown",
   "source": [
    "### REVIEW"
   ],
   "metadata": {
    "collapsed": false
   }
  },
  {
   "cell_type": "code",
   "execution_count": 4,
   "outputs": [
    {
     "data": {
      "text/plain": "   index    id  wine_id  rating  \\\n0      0    66  1154225     3.5   \n1      1  2996     1652     5.0   \n2      2  3975  1101258     4.0   \n3      3  4202    76378     5.0   \n4      4  4261  1231210     5.0   \n\n                                                note  \\\n0  Notevole differenza tra naso e palato. Con spi...   \n1  Toskaner auf absoluten Top-Niveau. Einer der b...   \n2                         Excellent full bodied wine   \n3  The Real price at phillipson is around 1299 dk...   \n4  Clean, crisp and full of nuance and elegance, ...   \n\n                 created_at  likes_count  comments_count  \\\n0  1969-12-31T23:00:01.000Z          1.0             0.0   \n1  2011-04-17T19:53:55.000Z          1.0             2.0   \n2  2011-07-19T21:21:22.000Z          2.0             1.0   \n3  2011-08-06T20:52:53.000Z          0.0             1.0   \n4  2011-08-11T08:06:39.000Z          3.0             1.0   \n\n                                     scan_image_path  user_id  note_length  \\\n0         images.vivino.com/labels/01dls5mm5nr12.jpg  4683161           18   \n1  images.vivino.com/thumbs/LtqnB-H2QFmN6ixL3FQcd...    24294           18   \n2       images.vivino.com/labels/1309631550_2382.jpg    32547            4   \n3       images.vivino.com/labels/1311959128_1819.jpg    48500           39   \n4       images.vivino.com/labels/1312622458_6592.jpg    53601           17   \n\n  len_code  \n0       it  \n1       de  \n2       en  \n3       en  \n4       en  ",
      "text/html": "<div>\n<style scoped>\n    .dataframe tbody tr th:only-of-type {\n        vertical-align: middle;\n    }\n\n    .dataframe tbody tr th {\n        vertical-align: top;\n    }\n\n    .dataframe thead th {\n        text-align: right;\n    }\n</style>\n<table border=\"1\" class=\"dataframe\">\n  <thead>\n    <tr style=\"text-align: right;\">\n      <th></th>\n      <th>index</th>\n      <th>id</th>\n      <th>wine_id</th>\n      <th>rating</th>\n      <th>note</th>\n      <th>created_at</th>\n      <th>likes_count</th>\n      <th>comments_count</th>\n      <th>scan_image_path</th>\n      <th>user_id</th>\n      <th>note_length</th>\n      <th>len_code</th>\n    </tr>\n  </thead>\n  <tbody>\n    <tr>\n      <th>0</th>\n      <td>0</td>\n      <td>66</td>\n      <td>1154225</td>\n      <td>3.5</td>\n      <td>Notevole differenza tra naso e palato. Con spi...</td>\n      <td>1969-12-31T23:00:01.000Z</td>\n      <td>1.0</td>\n      <td>0.0</td>\n      <td>images.vivino.com/labels/01dls5mm5nr12.jpg</td>\n      <td>4683161</td>\n      <td>18</td>\n      <td>it</td>\n    </tr>\n    <tr>\n      <th>1</th>\n      <td>1</td>\n      <td>2996</td>\n      <td>1652</td>\n      <td>5.0</td>\n      <td>Toskaner auf absoluten Top-Niveau. Einer der b...</td>\n      <td>2011-04-17T19:53:55.000Z</td>\n      <td>1.0</td>\n      <td>2.0</td>\n      <td>images.vivino.com/thumbs/LtqnB-H2QFmN6ixL3FQcd...</td>\n      <td>24294</td>\n      <td>18</td>\n      <td>de</td>\n    </tr>\n    <tr>\n      <th>2</th>\n      <td>2</td>\n      <td>3975</td>\n      <td>1101258</td>\n      <td>4.0</td>\n      <td>Excellent full bodied wine</td>\n      <td>2011-07-19T21:21:22.000Z</td>\n      <td>2.0</td>\n      <td>1.0</td>\n      <td>images.vivino.com/labels/1309631550_2382.jpg</td>\n      <td>32547</td>\n      <td>4</td>\n      <td>en</td>\n    </tr>\n    <tr>\n      <th>3</th>\n      <td>3</td>\n      <td>4202</td>\n      <td>76378</td>\n      <td>5.0</td>\n      <td>The Real price at phillipson is around 1299 dk...</td>\n      <td>2011-08-06T20:52:53.000Z</td>\n      <td>0.0</td>\n      <td>1.0</td>\n      <td>images.vivino.com/labels/1311959128_1819.jpg</td>\n      <td>48500</td>\n      <td>39</td>\n      <td>en</td>\n    </tr>\n    <tr>\n      <th>4</th>\n      <td>4</td>\n      <td>4261</td>\n      <td>1231210</td>\n      <td>5.0</td>\n      <td>Clean, crisp and full of nuance and elegance, ...</td>\n      <td>2011-08-11T08:06:39.000Z</td>\n      <td>3.0</td>\n      <td>1.0</td>\n      <td>images.vivino.com/labels/1312622458_6592.jpg</td>\n      <td>53601</td>\n      <td>17</td>\n      <td>en</td>\n    </tr>\n  </tbody>\n</table>\n</div>"
     },
     "execution_count": 4,
     "metadata": {},
     "output_type": "execute_result"
    }
   ],
   "source": [
    "con_rev = sqlite3.connect('../database/review.db')\n",
    "df_rev = pd.read_sql_query(\"SELECT * from review\", con_rev)\n",
    "df_rev.head()"
   ],
   "metadata": {
    "collapsed": false
   }
  },
  {
   "cell_type": "code",
   "execution_count": 5,
   "outputs": [
    {
     "name": "stdout",
     "output_type": "stream",
     "text": [
      "Durchscnitt: 13.804771524073619\n",
      "Modus: 1\n",
      "Max: 134\n",
      "Min: 1\n"
     ]
    }
   ],
   "source": [
    "print('Durchscnitt: ' + str(df_rev.note_length.mean()))\n",
    "print('Modus: ' + str(df_rev.note_length.mode()[0]))\n",
    "print('Max: ' + str(df_rev.note_length.max()))\n",
    "print('Min: ' + str(df_rev.note_length.min()))"
   ],
   "metadata": {
    "collapsed": false
   }
  },
  {
   "cell_type": "markdown",
   "source": [
    "### REVIEW_EN"
   ],
   "metadata": {
    "collapsed": false
   }
  },
  {
   "cell_type": "code",
   "execution_count": 2,
   "outputs": [
    {
     "data": {
      "text/plain": "   index    id  wine_id  rating  \\\n0      0  3975  1101258     4.0   \n1      1  4202    76378     5.0   \n2      2  4261  1231210     5.0   \n3      3  4264  1178663     4.0   \n4      4  4354    17998     4.0   \n\n                                                note  \\\n0                         Excellent full bodied wine   \n1  The Real price at phillipson is around 1299 dk...   \n2  Clean, crisp and full of nuance and elegance, ...   \n3  Crisp and clean Champagne, a certain fave amon...   \n4  It is not a champagne type wine! It is a red w...   \n\n                 created_at  likes_count  comments_count  \\\n0  2011-07-19T21:21:22.000Z          2.0             1.0   \n1  2011-08-06T20:52:53.000Z          0.0             1.0   \n2  2011-08-11T08:06:39.000Z          3.0             1.0   \n3  2011-08-11T09:28:07.000Z         25.0             2.0   \n4  2011-08-12T16:53:19.000Z          0.0             1.0   \n\n                                scan_image_path  user_id  note_length len_code  \n0  images.vivino.com/labels/1309631550_2382.jpg    32547            4       en  \n1  images.vivino.com/labels/1311959128_1819.jpg    48500           39       en  \n2  images.vivino.com/labels/1312622458_6592.jpg    53601           17       en  \n3  images.vivino.com/labels/1312966707_6129.jpg    53601           22       en  \n4  images.vivino.com/labels/1311842730_8268.jpg    47873           12       en  ",
      "text/html": "<div>\n<style scoped>\n    .dataframe tbody tr th:only-of-type {\n        vertical-align: middle;\n    }\n\n    .dataframe tbody tr th {\n        vertical-align: top;\n    }\n\n    .dataframe thead th {\n        text-align: right;\n    }\n</style>\n<table border=\"1\" class=\"dataframe\">\n  <thead>\n    <tr style=\"text-align: right;\">\n      <th></th>\n      <th>index</th>\n      <th>id</th>\n      <th>wine_id</th>\n      <th>rating</th>\n      <th>note</th>\n      <th>created_at</th>\n      <th>likes_count</th>\n      <th>comments_count</th>\n      <th>scan_image_path</th>\n      <th>user_id</th>\n      <th>note_length</th>\n      <th>len_code</th>\n    </tr>\n  </thead>\n  <tbody>\n    <tr>\n      <th>0</th>\n      <td>0</td>\n      <td>3975</td>\n      <td>1101258</td>\n      <td>4.0</td>\n      <td>Excellent full bodied wine</td>\n      <td>2011-07-19T21:21:22.000Z</td>\n      <td>2.0</td>\n      <td>1.0</td>\n      <td>images.vivino.com/labels/1309631550_2382.jpg</td>\n      <td>32547</td>\n      <td>4</td>\n      <td>en</td>\n    </tr>\n    <tr>\n      <th>1</th>\n      <td>1</td>\n      <td>4202</td>\n      <td>76378</td>\n      <td>5.0</td>\n      <td>The Real price at phillipson is around 1299 dk...</td>\n      <td>2011-08-06T20:52:53.000Z</td>\n      <td>0.0</td>\n      <td>1.0</td>\n      <td>images.vivino.com/labels/1311959128_1819.jpg</td>\n      <td>48500</td>\n      <td>39</td>\n      <td>en</td>\n    </tr>\n    <tr>\n      <th>2</th>\n      <td>2</td>\n      <td>4261</td>\n      <td>1231210</td>\n      <td>5.0</td>\n      <td>Clean, crisp and full of nuance and elegance, ...</td>\n      <td>2011-08-11T08:06:39.000Z</td>\n      <td>3.0</td>\n      <td>1.0</td>\n      <td>images.vivino.com/labels/1312622458_6592.jpg</td>\n      <td>53601</td>\n      <td>17</td>\n      <td>en</td>\n    </tr>\n    <tr>\n      <th>3</th>\n      <td>3</td>\n      <td>4264</td>\n      <td>1178663</td>\n      <td>4.0</td>\n      <td>Crisp and clean Champagne, a certain fave amon...</td>\n      <td>2011-08-11T09:28:07.000Z</td>\n      <td>25.0</td>\n      <td>2.0</td>\n      <td>images.vivino.com/labels/1312966707_6129.jpg</td>\n      <td>53601</td>\n      <td>22</td>\n      <td>en</td>\n    </tr>\n    <tr>\n      <th>4</th>\n      <td>4</td>\n      <td>4354</td>\n      <td>17998</td>\n      <td>4.0</td>\n      <td>It is not a champagne type wine! It is a red w...</td>\n      <td>2011-08-12T16:53:19.000Z</td>\n      <td>0.0</td>\n      <td>1.0</td>\n      <td>images.vivino.com/labels/1311842730_8268.jpg</td>\n      <td>47873</td>\n      <td>12</td>\n      <td>en</td>\n    </tr>\n  </tbody>\n</table>\n</div>"
     },
     "execution_count": 2,
     "metadata": {},
     "output_type": "execute_result"
    }
   ],
   "source": [
    "con_rev_en = sqlite3.connect('../database/review_en.db')\n",
    "df_rev_en = pd.read_sql_query(\"SELECT * from review_en\", con_rev_en)\n",
    "df_rev_en.head()"
   ],
   "metadata": {
    "collapsed": false
   }
  },
  {
   "cell_type": "code",
   "execution_count": 8,
   "outputs": [
    {
     "name": "stdout",
     "output_type": "stream",
     "text": [
      "Durchscnitt: 15.015858303487168\n",
      "Modus: 1\n",
      "Max: 121\n",
      "Min: 1\n"
     ]
    }
   ],
   "source": [
    "print('Durchscnitt: ' + str(df_rev_en.note_length.mean()))\n",
    "print('Modus: ' + str(df_rev_en.note_length.mode()[0]))\n",
    "print('Max: ' + str(df_rev_en.note_length.max()))\n",
    "print('Min: ' + str(df_rev_en.note_length.min()))"
   ],
   "metadata": {
    "collapsed": false
   }
  },
  {
   "cell_type": "code",
   "execution_count": 4,
   "outputs": [
    {
     "data": {
      "text/plain": "           index         id  wine_id  rating  \\\n16            16       6495    75318     5.0   \n347          347     184222    20647     4.0   \n1037        1039     514549     1654     4.0   \n1044        1046     518144    85758     3.0   \n4729        4747    1673144  1099392     5.0   \n...          ...        ...      ...     ...   \n3975675  4114983  257355928    97275     4.5   \n3976083  4115392  257512158  2332011     3.7   \n3976542  4115852  257702285      657     4.0   \n3976589  4115899  257718048  1133931     3.5   \n3976603  4115913  257724234    10915     3.7   \n\n                                                      note  \\\n16       really a 1993, but Vivino didnt give me the ch...   \n347      Vintage 1992. But Vivino does not handle real ...   \n1037           This is Not s champagne Vivino! Get a grip!   \n1044     Vivino, The ranking criteria was Bad. Now got ...   \n4729     Looking Forward To Taste This Port. Anyone @ V...   \n...                                                    ...   \n3975675  Outstanding wine at its peak!\\n\\n(again Vivino...   \n3976083  Actually very good Chardonnay. Definitely over...   \n3976542  Wrong, Vivino! I like this one, and for the pi...   \n3976589  Very very pineapple - complete with the prickl...   \n3976603  Under rated wine here on Vivino, it’s young an...   \n\n                       created_at  likes_count  comments_count  \\\n16       2011-12-19T21:51:02.000Z          1.0             1.0   \n347      2012-07-19T12:30:47.000Z          0.0             1.0   \n1037     2012-10-13T07:16:17.000Z          2.0             1.0   \n1044     2012-10-13T18:38:15.000Z          0.0             0.0   \n4729     2013-02-23T13:51:44.000Z         10.0             5.0   \n...                           ...          ...             ...   \n3975675  2022-10-14T11:14:59.000Z         78.0             7.0   \n3976083  2022-10-15T17:08:57.000Z          0.0             0.0   \n3976542  2022-10-17T00:15:46.000Z          1.0             0.0   \n3976589  2022-10-17T09:44:24.000Z          3.0             0.0   \n3976603  2022-10-17T12:06:46.000Z          0.0             0.0   \n\n                                           scan_image_path   user_id  \\\n16            images.vivino.com/labels/1324324258_7349.jpg    110863   \n347           images.vivino.com/labels/1319832551_2356.jpg      8968   \n1037          images.vivino.com/labels/1350112565_2893.jpg    388804   \n1044          images.vivino.com/labels/1350153482_9011.jpg    423501   \n4729          images.vivino.com/labels/1361627481_9583.jpg     16274   \n...                                                    ...       ...   \n3975675  images.vivino.com/labels/artCcov3REy8EQTHwMexH...  13475212   \n3976083  images.vivino.com/labels/ESoEe3uyRnOd8Cts6uMvy...  47083268   \n3976542  images.vivino.com/labels/zLUK4S7ORD6I5SONTEutq...  27676569   \n3976589  images.vivino.com/labels/IAiJm_X0RieFQjIiU-e31...   2920930   \n3976603  images.vivino.com/labels/K45Azy5GTWKHmrl4ZlFkv...  29118198   \n\n         note_length len_code  \n16                12       en  \n347               11       en  \n1037               9       en  \n1044              11       en  \n4729              18       en  \n...              ...      ...  \n3975675           11       en  \n3976083           22       en  \n3976542           19       en  \n3976589           52       en  \n3976603           33       en  \n\n[9099 rows x 12 columns]",
      "text/html": "<div>\n<style scoped>\n    .dataframe tbody tr th:only-of-type {\n        vertical-align: middle;\n    }\n\n    .dataframe tbody tr th {\n        vertical-align: top;\n    }\n\n    .dataframe thead th {\n        text-align: right;\n    }\n</style>\n<table border=\"1\" class=\"dataframe\">\n  <thead>\n    <tr style=\"text-align: right;\">\n      <th></th>\n      <th>index</th>\n      <th>id</th>\n      <th>wine_id</th>\n      <th>rating</th>\n      <th>note</th>\n      <th>created_at</th>\n      <th>likes_count</th>\n      <th>comments_count</th>\n      <th>scan_image_path</th>\n      <th>user_id</th>\n      <th>note_length</th>\n      <th>len_code</th>\n    </tr>\n  </thead>\n  <tbody>\n    <tr>\n      <th>16</th>\n      <td>16</td>\n      <td>6495</td>\n      <td>75318</td>\n      <td>5.0</td>\n      <td>really a 1993, but Vivino didnt give me the ch...</td>\n      <td>2011-12-19T21:51:02.000Z</td>\n      <td>1.0</td>\n      <td>1.0</td>\n      <td>images.vivino.com/labels/1324324258_7349.jpg</td>\n      <td>110863</td>\n      <td>12</td>\n      <td>en</td>\n    </tr>\n    <tr>\n      <th>347</th>\n      <td>347</td>\n      <td>184222</td>\n      <td>20647</td>\n      <td>4.0</td>\n      <td>Vintage 1992. But Vivino does not handle real ...</td>\n      <td>2012-07-19T12:30:47.000Z</td>\n      <td>0.0</td>\n      <td>1.0</td>\n      <td>images.vivino.com/labels/1319832551_2356.jpg</td>\n      <td>8968</td>\n      <td>11</td>\n      <td>en</td>\n    </tr>\n    <tr>\n      <th>1037</th>\n      <td>1039</td>\n      <td>514549</td>\n      <td>1654</td>\n      <td>4.0</td>\n      <td>This is Not s champagne Vivino! Get a grip!</td>\n      <td>2012-10-13T07:16:17.000Z</td>\n      <td>2.0</td>\n      <td>1.0</td>\n      <td>images.vivino.com/labels/1350112565_2893.jpg</td>\n      <td>388804</td>\n      <td>9</td>\n      <td>en</td>\n    </tr>\n    <tr>\n      <th>1044</th>\n      <td>1046</td>\n      <td>518144</td>\n      <td>85758</td>\n      <td>3.0</td>\n      <td>Vivino, The ranking criteria was Bad. Now got ...</td>\n      <td>2012-10-13T18:38:15.000Z</td>\n      <td>0.0</td>\n      <td>0.0</td>\n      <td>images.vivino.com/labels/1350153482_9011.jpg</td>\n      <td>423501</td>\n      <td>11</td>\n      <td>en</td>\n    </tr>\n    <tr>\n      <th>4729</th>\n      <td>4747</td>\n      <td>1673144</td>\n      <td>1099392</td>\n      <td>5.0</td>\n      <td>Looking Forward To Taste This Port. Anyone @ V...</td>\n      <td>2013-02-23T13:51:44.000Z</td>\n      <td>10.0</td>\n      <td>5.0</td>\n      <td>images.vivino.com/labels/1361627481_9583.jpg</td>\n      <td>16274</td>\n      <td>18</td>\n      <td>en</td>\n    </tr>\n    <tr>\n      <th>...</th>\n      <td>...</td>\n      <td>...</td>\n      <td>...</td>\n      <td>...</td>\n      <td>...</td>\n      <td>...</td>\n      <td>...</td>\n      <td>...</td>\n      <td>...</td>\n      <td>...</td>\n      <td>...</td>\n      <td>...</td>\n    </tr>\n    <tr>\n      <th>3975675</th>\n      <td>4114983</td>\n      <td>257355928</td>\n      <td>97275</td>\n      <td>4.5</td>\n      <td>Outstanding wine at its peak!\\n\\n(again Vivino...</td>\n      <td>2022-10-14T11:14:59.000Z</td>\n      <td>78.0</td>\n      <td>7.0</td>\n      <td>images.vivino.com/labels/artCcov3REy8EQTHwMexH...</td>\n      <td>13475212</td>\n      <td>11</td>\n      <td>en</td>\n    </tr>\n    <tr>\n      <th>3976083</th>\n      <td>4115392</td>\n      <td>257512158</td>\n      <td>2332011</td>\n      <td>3.7</td>\n      <td>Actually very good Chardonnay. Definitely over...</td>\n      <td>2022-10-15T17:08:57.000Z</td>\n      <td>0.0</td>\n      <td>0.0</td>\n      <td>images.vivino.com/labels/ESoEe3uyRnOd8Cts6uMvy...</td>\n      <td>47083268</td>\n      <td>22</td>\n      <td>en</td>\n    </tr>\n    <tr>\n      <th>3976542</th>\n      <td>4115852</td>\n      <td>257702285</td>\n      <td>657</td>\n      <td>4.0</td>\n      <td>Wrong, Vivino! I like this one, and for the pi...</td>\n      <td>2022-10-17T00:15:46.000Z</td>\n      <td>1.0</td>\n      <td>0.0</td>\n      <td>images.vivino.com/labels/zLUK4S7ORD6I5SONTEutq...</td>\n      <td>27676569</td>\n      <td>19</td>\n      <td>en</td>\n    </tr>\n    <tr>\n      <th>3976589</th>\n      <td>4115899</td>\n      <td>257718048</td>\n      <td>1133931</td>\n      <td>3.5</td>\n      <td>Very very pineapple - complete with the prickl...</td>\n      <td>2022-10-17T09:44:24.000Z</td>\n      <td>3.0</td>\n      <td>0.0</td>\n      <td>images.vivino.com/labels/IAiJm_X0RieFQjIiU-e31...</td>\n      <td>2920930</td>\n      <td>52</td>\n      <td>en</td>\n    </tr>\n    <tr>\n      <th>3976603</th>\n      <td>4115913</td>\n      <td>257724234</td>\n      <td>10915</td>\n      <td>3.7</td>\n      <td>Under rated wine here on Vivino, it’s young an...</td>\n      <td>2022-10-17T12:06:46.000Z</td>\n      <td>0.0</td>\n      <td>0.0</td>\n      <td>images.vivino.com/labels/K45Azy5GTWKHmrl4ZlFkv...</td>\n      <td>29118198</td>\n      <td>33</td>\n      <td>en</td>\n    </tr>\n  </tbody>\n</table>\n<p>9099 rows × 12 columns</p>\n</div>"
     },
     "execution_count": 4,
     "metadata": {},
     "output_type": "execute_result"
    }
   ],
   "source": [
    "df_rev_en[df_rev_en.note.str.contains('vivino', case=False)]"
   ],
   "metadata": {
    "collapsed": false
   }
  },
  {
   "cell_type": "code",
   "execution_count": 4,
   "outputs": [
    {
     "data": {
      "text/plain": "   note_length\n0            4\n1           39\n2           17\n3           22\n4           12",
      "text/html": "<div>\n<style scoped>\n    .dataframe tbody tr th:only-of-type {\n        vertical-align: middle;\n    }\n\n    .dataframe tbody tr th {\n        vertical-align: top;\n    }\n\n    .dataframe thead th {\n        text-align: right;\n    }\n</style>\n<table border=\"1\" class=\"dataframe\">\n  <thead>\n    <tr style=\"text-align: right;\">\n      <th></th>\n      <th>note_length</th>\n    </tr>\n  </thead>\n  <tbody>\n    <tr>\n      <th>0</th>\n      <td>4</td>\n    </tr>\n    <tr>\n      <th>1</th>\n      <td>39</td>\n    </tr>\n    <tr>\n      <th>2</th>\n      <td>17</td>\n    </tr>\n    <tr>\n      <th>3</th>\n      <td>22</td>\n    </tr>\n    <tr>\n      <th>4</th>\n      <td>12</td>\n    </tr>\n  </tbody>\n</table>\n</div>"
     },
     "execution_count": 4,
     "metadata": {},
     "output_type": "execute_result"
    }
   ],
   "source": [
    "con_rev = sqlite3.connect('../database/review_en.db')\n",
    "df_rev = pd.read_sql_query(\"SELECT note_length FROM review_en\", con_rev)\n",
    "df_rev.head()"
   ],
   "metadata": {
    "collapsed": false
   }
  },
  {
   "cell_type": "code",
   "execution_count": 5,
   "outputs": [
    {
     "data": {
      "text/plain": "15.015858303487168"
     },
     "execution_count": 5,
     "metadata": {},
     "output_type": "execute_result"
    }
   ],
   "source": [
    "df_rev.note_length.mean()"
   ],
   "metadata": {
    "collapsed": false
   }
  },
  {
   "cell_type": "markdown",
   "source": [
    "### REVIEW_EN_SENTIMENT"
   ],
   "metadata": {
    "collapsed": false
   }
  },
  {
   "cell_type": "code",
   "execution_count": 2,
   "outputs": [
    {
     "name": "stderr",
     "output_type": "stream",
     "text": [
      "\n",
      "KeyboardInterrupt\n",
      "\n"
     ]
    }
   ],
   "source": [
    "con_rev_en_sent = sqlite3.connect('../database/review_en_sentiment.db')\n",
    "df_rev_en_sent = pd.read_sql_query(\"SELECT * FROM review_en_sentiment\", con_rev_en_sent)\n",
    "df_rev_en_sent.head()"
   ],
   "metadata": {
    "collapsed": false
   }
  }
 ],
 "metadata": {
  "kernelspec": {
   "display_name": "Python 3",
   "language": "python",
   "name": "python3"
  },
  "language_info": {
   "codemirror_mode": {
    "name": "ipython",
    "version": 2
   },
   "file_extension": ".py",
   "mimetype": "text/x-python",
   "name": "python",
   "nbconvert_exporter": "python",
   "pygments_lexer": "ipython2",
   "version": "2.7.6"
  }
 },
 "nbformat": 4,
 "nbformat_minor": 0
}
