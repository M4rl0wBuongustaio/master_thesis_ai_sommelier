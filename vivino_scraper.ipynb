{
 "cells": [
  {
   "cell_type": "markdown",
   "source": [
    "### Import Packages"
   ],
   "metadata": {
    "collapsed": false
   }
  },
  {
   "cell_type": "code",
   "execution_count": 1,
   "outputs": [],
   "source": [
    "import pandas as pd\n",
    "import requests\n",
    "import sqlite3\n",
    "import random\n",
    "import time\n",
    "import json"
   ],
   "metadata": {
    "collapsed": false
   }
  },
  {
   "cell_type": "code",
   "execution_count": 2,
   "outputs": [],
   "source": [
    "user_agents = open('user_agent_list.txt', 'r').read().split('\\n')"
   ],
   "metadata": {
    "collapsed": false
   }
  },
  {
   "cell_type": "code",
   "execution_count": 3,
   "outputs": [],
   "source": [
    "def get_request(request_url):\n",
    "    response = requests.get(\n",
    "        url=request_url,\n",
    "        headers={'user-agent':  random.choice(user_agents)}\n",
    "    )\n",
    "    try:\n",
    "        response.raise_for_status()\n",
    "    except requests.exceptions.HTTPError as e:\n",
    "        return \"Error: \" + str(e)\n",
    "    return response"
   ],
   "metadata": {
    "collapsed": false
   }
  },
  {
   "cell_type": "code",
   "execution_count": 4,
   "outputs": [],
   "source": [
    "# Define wine type ids as defined by vivino.com\n",
    "\n",
    "wine_type_ids = {\n",
    "    'red': 1,\n",
    "    'white': 2,\n",
    "    'sparkling_wine': 3,\n",
    "    'rose': 4,\n",
    "    'liqueur_wine': 24,\n",
    "    'dessert_wine': 7\n",
    "}"
   ],
   "metadata": {
    "collapsed": false
   }
  },
  {
   "cell_type": "markdown",
   "source": [
    "### Collecting the wines"
   ],
   "metadata": {
    "collapsed": false
   }
  },
  {
   "cell_type": "code",
   "execution_count": 46,
   "outputs": [
    {
     "data": {
      "text/plain": "<sqlite3.Cursor at 0x12b275a40>"
     },
     "execution_count": 46,
     "metadata": {},
     "output_type": "execute_result"
    }
   ],
   "source": [
    "con = sqlite3.connect('wine.db')\n",
    "cur = con.cursor()\n",
    "cur.execute('CREATE TABLE wine('\n",
    "            'id integer primary key , name, price, type_id, is_natural, winemaker, region, country, '\n",
    "            'grapes, average_rating, has_valid_ratings)')"
   ],
   "metadata": {
    "collapsed": false
   }
  },
  {
   "cell_type": "code",
   "execution_count": 41,
   "outputs": [],
   "source": [
    "def save_wine_data(wine_json):\n",
    "    wine_data = []\n",
    "    for i in range(len(wine_json['explore_vintage']['matches'])):\n",
    "        grapes = []\n",
    "        try:\n",
    "            for grape_index in range(len(wine_json['explore_vintage']['matches'][i]['vintage']['wine']['style']['grapes'])):\n",
    "                grapes.append(wine_json['explore_vintage']['matches'][i]['vintage']['wine']['style']['grapes'][grape_index]['name'])\n",
    "            grapes = ', '.join(grapes)\n",
    "        except:\n",
    "            grapes = None\n",
    "        wine_data.append(\n",
    "            (\n",
    "                wine_json['explore_vintage']['matches'][i]['vintage']['wine']['id'],\n",
    "                wine_json['explore_vintage']['matches'][i]['vintage']['wine']['name'],\n",
    "                wine_json['explore_vintage']['matches'][i]['price']['amount'],\n",
    "                wine_json['explore_vintage']['matches'][i]['vintage']['wine']['type_id'],\n",
    "                wine_json['explore_vintage']['matches'][i]['vintage']['wine']['is_natural'],\n",
    "                wine_json['explore_vintage']['matches'][i]['vintage']['wine']['winery']['name'],\n",
    "                wine_json['explore_vintage']['matches'][i]['vintage']['wine']['region']['name'],\n",
    "                wine_json['explore_vintage']['matches'][i]['vintage']['wine']['region']['country']['name'],\n",
    "                grapes,\n",
    "                wine_json['explore_vintage']['matches'][i]['vintage']['statistics']['wine_ratings_average'],\n",
    "                wine_json['explore_vintage']['matches'][i]['vintage']['has_valid_ratings']\n",
    "            )\n",
    "        )\n",
    "    cur.executemany('INSERT INTO wine VALUES(?, ?, ?, ?, ?, ?, ?, ?, ?, ?, ?)', wine_data)\n",
    "    con.commit()\n",
    "    con.close()"
   ],
   "metadata": {
    "collapsed": false
   }
  },
  {
   "cell_type": "code",
   "execution_count": 47,
   "outputs": [],
   "source": [
    "for wine_type in wine_type_ids.values():\n",
    "    for i in range(5):\n",
    "        url = 'https://www.vivino.com/api/explore/explore?wine_type_ids[]={}&page={}'.format(wine_type, i)\n",
    "        response = get_request(request_url=url)\n",
    "        save_wine_data(response.json())\n",
    "        time.sleep(random.randint(2, 10))"
   ],
   "metadata": {
    "collapsed": false
   }
  },
  {
   "cell_type": "code",
   "execution_count": 2,
   "outputs": [],
   "source": [
    "con = sqlite3.connect('wine.db')\n",
    "cur = con.cursor()"
   ],
   "metadata": {
    "collapsed": false
   }
  },
  {
   "cell_type": "code",
   "execution_count": 3,
   "outputs": [],
   "source": [
    "df = pd.read_sql_query(\"SELECT * from wine\", con)"
   ],
   "metadata": {
    "collapsed": false
   }
  },
  {
   "cell_type": "code",
   "execution_count": 56,
   "outputs": [],
   "source": [
    "df = df.groupby(by='id').agg({'name': 'first', 'price': 'mean', 'type_id': 'first', 'is_natural': 'first',\n",
    "                         'winemaker': 'first', 'region': 'first', 'country': 'first', 'grapes': 'first', 'average_rating': 'first',\n",
    "                         'has_valid_ratings': 'first'}).reset_index()"
   ],
   "metadata": {
    "collapsed": false
   }
  },
  {
   "cell_type": "code",
   "execution_count": 57,
   "outputs": [
    {
     "data": {
      "text/plain": "322"
     },
     "execution_count": 57,
     "metadata": {},
     "output_type": "execute_result"
    }
   ],
   "source": [
    "df.to_sql('wine',con=con, if_exists='replace')"
   ],
   "metadata": {
    "collapsed": false
   }
  }
 ],
 "metadata": {
  "kernelspec": {
   "display_name": "Python 3",
   "language": "python",
   "name": "python3"
  },
  "language_info": {
   "codemirror_mode": {
    "name": "ipython",
    "version": 2
   },
   "file_extension": ".py",
   "mimetype": "text/x-python",
   "name": "python",
   "nbconvert_exporter": "python",
   "pygments_lexer": "ipython2",
   "version": "2.7.6"
  }
 },
 "nbformat": 4,
 "nbformat_minor": 0
}
