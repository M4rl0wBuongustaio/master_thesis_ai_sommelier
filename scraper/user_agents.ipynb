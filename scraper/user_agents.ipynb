{
 "cells": [
  {
   "cell_type": "markdown",
   "source": [
    "# Acknowledgement\n",
    "\n",
    "In order to request vivino.com pages with different ``user_agents`` and thereby prevent banning this scraper, I collect different ``user_agents`` from <a href='https://useragentstring.com/pages/Browserlist/'>User Agent String.Com<a>."
   ],
   "metadata": {
    "collapsed": false
   }
  },
  {
   "cell_type": "code",
   "execution_count": null,
   "metadata": {
    "collapsed": true
   },
   "outputs": [],
   "source": [
    "from bs4 import BeautifulSoup\n",
    "import requests"
   ]
  },
  {
   "cell_type": "code",
   "execution_count": null,
   "outputs": [],
   "source": [
    "user_agents = requests.get(\n",
    "    url='https://useragentstring.com/pages/Browserlist/',\n",
    "    headers={'user-agent': 'Mozilla/5.0 (Macintosh; Intel Mac OS X 10_15_7) AppleWebKit/537.36 (KHTML, like Gecko) Chrome/106.0.0.0 Safari/537.36'}\n",
    ")\n",
    "user_agents.raise_for_status()"
   ],
   "metadata": {
    "collapsed": false
   }
  },
  {
   "cell_type": "code",
   "execution_count": null,
   "outputs": [],
   "source": [
    "soup = BeautifulSoup(user_agents.content, 'html.parser')\n",
    "agents = soup.find_all('a')\n",
    "agent_list = [agent.get_text() for agent in agents]\n",
    "agent_list = agent_list[5:]\n",
    "agent_list"
   ],
   "metadata": {
    "collapsed": false
   }
  },
  {
   "cell_type": "code",
   "execution_count": null,
   "outputs": [],
   "source": [
    "with open('user_agent_list.txt', 'w') as f:\n",
    "    for agent in agent_list:\n",
    "        f.write(f\"{agent}\\n\")"
   ],
   "metadata": {
    "collapsed": false
   }
  }
 ],
 "metadata": {
  "kernelspec": {
   "display_name": "Python 3",
   "language": "python",
   "name": "python3"
  },
  "language_info": {
   "codemirror_mode": {
    "name": "ipython",
    "version": 2
   },
   "file_extension": ".py",
   "mimetype": "text/x-python",
   "name": "python",
   "nbconvert_exporter": "python",
   "pygments_lexer": "ipython2",
   "version": "2.7.6"
  }
 },
 "nbformat": 4,
 "nbformat_minor": 0
}
