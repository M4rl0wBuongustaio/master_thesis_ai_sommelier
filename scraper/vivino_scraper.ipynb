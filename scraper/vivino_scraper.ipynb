{
 "cells": [
  {
   "cell_type": "markdown",
   "source": [
    "### Import Packages"
   ],
   "metadata": {
    "collapsed": false
   }
  },
  {
   "cell_type": "code",
   "execution_count": null,
   "outputs": [],
   "source": [
    "from sklearn.metrics.pairwise import cosine_similarity\n",
    "import pandas as pd\n",
    "import requests\n",
    "import sqlite3\n",
    "import random\n",
    "import time"
   ],
   "metadata": {
    "collapsed": false
   }
  },
  {
   "cell_type": "markdown",
   "source": [
    "### Setting up the requests"
   ],
   "metadata": {
    "collapsed": false
   }
  },
  {
   "cell_type": "code",
   "execution_count": null,
   "outputs": [],
   "source": [
    "user_agents = open('user_agent_list.txt', 'r').read().split('\\n')"
   ],
   "metadata": {
    "collapsed": false
   }
  },
  {
   "cell_type": "code",
   "execution_count": null,
   "outputs": [],
   "source": [
    "def cosine_sim_vectors(vec1, vec2):\n",
    "    vec1 = vec1.reshape(1, -1)\n",
    "    vec2 = vec2.reshape(1, -1)\n",
    "    return cosine_similarity(vec1, vec2)[0][0]"
   ],
   "metadata": {
    "collapsed": false
   }
  },
  {
   "cell_type": "code",
   "execution_count": null,
   "outputs": [],
   "source": [
    "def get_request(request_url):\n",
    "    try:\n",
    "        response = requests.get(\n",
    "            url=request_url,\n",
    "            headers={\n",
    "                'user-agent': random.choice(user_agents),\n",
    "                'Accept-Language': 'en-US,en;q=0.5'\n",
    "            }\n",
    "        )\n",
    "        response.raise_for_status()\n",
    "    except requests.exceptions.HTTPError as e:\n",
    "        return e\n",
    "    return response"
   ],
   "metadata": {
    "collapsed": false
   }
  },
  {
   "cell_type": "code",
   "execution_count": null,
   "outputs": [],
   "source": [
    "def get_wine_ids(json):\n",
    "    return {\n",
    "        wine_id['vintage']['wine'].get('id')\n",
    "        for wine_id\n",
    "        in json['explore_vintage']['matches']\n",
    "    }"
   ],
   "metadata": {
    "collapsed": false
   }
  },
  {
   "cell_type": "code",
   "execution_count": null,
   "outputs": [],
   "source": [
    "def get_review_ids(json):\n",
    "    return {\n",
    "        wine_id.get('id')\n",
    "        for wine_id\n",
    "        in json['reviews']\n",
    "    }"
   ],
   "metadata": {
    "collapsed": false
   }
  },
  {
   "cell_type": "code",
   "execution_count": null,
   "outputs": [],
   "source": [
    "def is_equal_to_previous(current_ids, previous_ids):\n",
    "    for current_id in current_ids:\n",
    "        if current_id not in previous_ids:\n",
    "            return False\n",
    "    return True"
   ],
   "metadata": {
    "collapsed": false
   }
  },
  {
   "cell_type": "code",
   "execution_count": null,
   "outputs": [],
   "source": [
    "# Define wine type ids as defined by vivino.com\n",
    "\n",
    "wine_type_ids = {\n",
    "    'red': 1,\n",
    "    'white': 2,\n",
    "    'sparkling_wine': 3,\n",
    "    'rose': 4,\n",
    "    'liqueur_wine': 24,\n",
    "    'dessert_wine': 7\n",
    "}"
   ],
   "metadata": {
    "collapsed": false
   }
  },
  {
   "cell_type": "markdown",
   "source": [
    "### Collecting WINES"
   ],
   "metadata": {
    "collapsed": false
   }
  },
  {
   "cell_type": "code",
   "execution_count": null,
   "outputs": [],
   "source": [
    "con_wine = sqlite3.connect('wine.db')\n",
    "cur_wine = con_wine.cursor()\n",
    "cur_wine.execute('CREATE TABLE IF NOT EXISTS wine('\n",
    "                 'id, name, price, type_id, is_natural, winemaker, region, country, grapes, average_rating, '\n",
    "                 ' has_valid_ratings, acidity, fizziness, intensity, sweetness, tannin, user_structure_count)')"
   ],
   "metadata": {
    "collapsed": false
   }
  },
  {
   "cell_type": "code",
   "execution_count": null,
   "outputs": [],
   "source": [
    "def save_wines(json, wine_type):\n",
    "    wine_data = []\n",
    "    for i in range(len(json['explore_vintage']['matches'])):\n",
    "        grapes = []\n",
    "        try:\n",
    "            for grape_index in range(\n",
    "                    len(json['explore_vintage']['matches'][i]['vintage']['wine']['style']['grapes'])):\n",
    "                grapes.append(\n",
    "                    json['explore_vintage']['matches'][i]['vintage']['wine']['style']['grapes'][grape_index][\n",
    "                        'name'])\n",
    "            grapes = ', '.join(grapes)\n",
    "        except:\n",
    "            grapes = None\n",
    "\n",
    "        # id\n",
    "        try:\n",
    "            var_id = json['explore_vintage']['matches'][i]['vintage']['wine']['id']\n",
    "        except:\n",
    "            var_id = None\n",
    "\n",
    "        # name\n",
    "        try:\n",
    "            name = json['explore_vintage']['matches'][i]['vintage']['wine']['name']\n",
    "        except:\n",
    "            name = None\n",
    "\n",
    "        # price\n",
    "        try:\n",
    "            price = json['explore_vintage']['matches'][i]['price']['amount']\n",
    "        except:\n",
    "            price = None\n",
    "\n",
    "        # is_natural\n",
    "        try:\n",
    "            is_natural = json['explore_vintage']['matches'][i]['vintage']['wine']['is_natural']\n",
    "        except:\n",
    "            is_natural = False\n",
    "\n",
    "        # winery\n",
    "        try:\n",
    "            winery = json['explore_vintage']['matches'][i]['vintage']['wine']['winery']['name']\n",
    "        except:\n",
    "            winery = None\n",
    "\n",
    "        # region\n",
    "        try:\n",
    "            region = json['explore_vintage']['matches'][i]['vintage']['wine']['region']['name']\n",
    "        except:\n",
    "            region = None\n",
    "\n",
    "        # country\n",
    "        try:\n",
    "            country = json['explore_vintage']['matches'][i]['vintage']['wine']['region']['country']['name']\n",
    "        except:\n",
    "            country = None\n",
    "\n",
    "        # wine_ratings_average\n",
    "        try:\n",
    "            wine_ratings_average = json['explore_vintage']['matches'][i]['vintage']['statistics'][\n",
    "                'wine_ratings_average']\n",
    "        except:\n",
    "            wine_ratings_average = None\n",
    "\n",
    "        # has_valid_ratings\n",
    "        try:\n",
    "            has_valid_ratings = json['explore_vintage']['matches'][i]['vintage']['has_valid_ratings']\n",
    "        except:\n",
    "            has_valid_ratings = False\n",
    "\n",
    "        # acidity\n",
    "        try:\n",
    "            acidity = json['explore_vintage']['matches'][i]['vintage']['wine']['taste']['structure']['acidity']\n",
    "        except:\n",
    "            acidity = None\n",
    "\n",
    "        # fizziness\n",
    "        try:\n",
    "            fizziness = json['explore_vintage']['matches'][i]['vintage']['wine']['taste']['structure']['fizziness']\n",
    "        except:\n",
    "            fizziness = None\n",
    "\n",
    "        # intensity\n",
    "        try:\n",
    "            intensity = json['explore_vintage']['matches'][i]['vintage']['wine']['taste']['structure']['intensity']\n",
    "        except:\n",
    "            intensity = None\n",
    "\n",
    "        # sweetness\n",
    "        try:\n",
    "            sweetness = json['explore_vintage']['matches'][i]['vintage']['wine']['taste']['structure']['sweetness']\n",
    "        except:\n",
    "            sweetness = None\n",
    "\n",
    "        # tannin\n",
    "        try:\n",
    "            tannin = json['explore_vintage']['matches'][i]['vintage']['wine']['taste']['structure']['tannin']\n",
    "        except:\n",
    "            tannin = None\n",
    "\n",
    "        # user_structure_count\n",
    "        try:\n",
    "            user_structure_count = json['explore_vintage']['matches'][i]['vintage']['wine']['taste']['structure'][\n",
    "                'user_structure_count']\n",
    "        except:\n",
    "            user_structure_count = None\n",
    "\n",
    "        wine_data.append(\n",
    "            (var_id, name, price, wine_type, is_natural, winery, region, country, grapes,\n",
    "             wine_ratings_average, has_valid_ratings, acidity, fizziness, intensity, sweetness, tannin,\n",
    "             user_structure_count)\n",
    "        )\n",
    "    cur_wine.executemany('INSERT INTO wine VALUES(?, ?, ?, ?, ?, ?, ?, ?, ?, ?, ?, ?, ?, ?, ?, ?, ?)', wine_data)\n",
    "    con_wine.commit()"
   ],
   "metadata": {
    "collapsed": false
   }
  },
  {
   "cell_type": "code",
   "execution_count": null,
   "outputs": [],
   "source": [
    "url_1 = 'https://www.vivino.com/api/explore/explore?min_rating=1&price_range_max=1000&price_range_min=0&wine_type_ids[]={}&page={}'\n",
    "url_2 = 'https://www.vivino.com/api/explore/explore?min_rating=1&price_range_max=1000&price_range_min=0&wine_type_ids[]={}&page={}&order_by=ratings_average&order=asc'\n",
    "\n",
    "request_errors = {}\n",
    "for wine_type in wine_type_ids.values():\n",
    "    page = 1\n",
    "    previous_json = set()\n",
    "    while True:\n",
    "        url = url_2.format(wine_type, page)\n",
    "        try:\n",
    "            response = get_request(request_url=url)\n",
    "            status_code = response.status_code\n",
    "        except:\n",
    "            if page in request_errors.keys():\n",
    "                page += 1\n",
    "                time.sleep(random.randint(0, 1))\n",
    "                continue\n",
    "            time.sleep(random.randint(0, 1))\n",
    "            request_errors[page] = status_code\n",
    "            continue\n",
    "        if page > 1:\n",
    "            current_wine_ids = get_wine_ids(response.json())\n",
    "            if len(response.json()['explore_vintage']['matches']) == 0 or is_equal_to_previous(\n",
    "                    current_ids=current_wine_ids, previous_ids=previous_wine_ids):\n",
    "                print('No more entries for wine type ' + str(wine_type) + ' at Page ' + str(page) + ' could be found.')\n",
    "                break\n",
    "        save_wines(response.json(), wine_type)\n",
    "        previous_wine_ids = get_wine_ids(response.json())\n",
    "        page += 1\n",
    "        time.sleep(random.randint(0, 1))\n",
    "con_wine.close()"
   ],
   "metadata": {
    "collapsed": false
   }
  },
  {
   "cell_type": "code",
   "execution_count": null,
   "outputs": [],
   "source": [
    "con_wine = sqlite3.connect('wine.db')\n",
    "cur_wine = con_wine.cursor()\n",
    "con_distinct = sqlite3.connect('wine_distinct.db')\n",
    "cur_distinct = con_distinct.cursor()\n",
    "\n",
    "cur_distinct.execute('CREATE TABLE IF NOT EXISTS wine_distinct('\n",
    "                     'id, name, price, type_id, is_natural, winemaker, region, country, '\n",
    "                     'grapes, average_rating, has_valid_ratings)')\n"
   ],
   "metadata": {
    "collapsed": false
   }
  },
  {
   "cell_type": "code",
   "execution_count": null,
   "outputs": [],
   "source": [
    "df = pd.read_sql_query(\"SELECT * from wine\", con_wine)"
   ],
   "metadata": {
    "collapsed": false
   }
  },
  {
   "cell_type": "code",
   "execution_count": null,
   "outputs": [],
   "source": [
    "df.columns"
   ],
   "metadata": {
    "collapsed": false
   }
  },
  {
   "cell_type": "code",
   "execution_count": null,
   "outputs": [],
   "source": [
    "df = df.groupby(by='id').agg({'name': 'first', 'price': 'mean', 'type_id': 'first', 'is_natural': 'first',\n",
    "                              'winemaker': 'first', 'region': 'first', 'country': 'first', 'grapes': 'first',\n",
    "                              'average_rating': 'first', 'acidity': 'first', 'fizziness': 'first', 'intensity': 'first',\n",
    "                              'sweetness': 'first', 'tannin': 'first', 'user_structure_count': 'first',\n",
    "                              'has_valid_ratings': 'first'}).reset_index()"
   ],
   "metadata": {
    "collapsed": false
   }
  },
  {
   "cell_type": "code",
   "execution_count": null,
   "outputs": [],
   "source": [
    "df['price'] = df['price'].round(decimals=2)"
   ],
   "metadata": {
    "collapsed": false
   }
  },
  {
   "cell_type": "code",
   "execution_count": null,
   "outputs": [],
   "source": [
    "df.to_sql('wine_distinct', con=con_distinct, if_exists='replace')\n",
    "con_distinct.close()\n",
    "con_wine.close()"
   ],
   "metadata": {
    "collapsed": false
   }
  },
  {
   "cell_type": "markdown",
   "source": [
    "### Collecting REVIEWS"
   ],
   "metadata": {
    "collapsed": false
   }
  },
  {
   "cell_type": "code",
   "execution_count": null,
   "outputs": [],
   "source": [
    "con_rev = sqlite3.connect('review.db')\n",
    "cur_rev = con_rev.cursor()\n",
    "cur_rev.execute('CREATE TABLE IF NOT EXISTS review('\n",
    "                'id, wine_id, rating, note, created_at, likes_count, comments_count, scan_image_path, lan_code, user_id)')\n",
    "\n",
    "con_user = sqlite3.connect('user.db')\n",
    "cur_user = con_user.cursor()\n",
    "con_user.execute('CREATE TABLE IF NOT EXISTS user('\n",
    "                 'id INTEGER NOT NULL PRIMARY KEY, seo_name, is_featured, followers_count, followings_count, ratings_count,'\n",
    "                 'reviews_count, purchase_order_count, language)')\n",
    "\n",
    "# con_wine_dis = sqlite3.connect('wine_distinct.db')\n",
    "# df = pd.read_sql_query('SELECT id from wine_distinct', con_wine_dis)"
   ],
   "metadata": {
    "collapsed": false
   }
  },
  {
   "cell_type": "code",
   "execution_count": null,
   "outputs": [],
   "source": [
    "def save_users(json):\n",
    "    for i in range(len(json['reviews'])):\n",
    "        user_data = set()\n",
    "        # user_id\n",
    "        try:\n",
    "            user_id = json['reviews'][i]['user']['id']\n",
    "        except:\n",
    "            continue\n",
    "\n",
    "        # seo_name\n",
    "        try:\n",
    "            seo_name = json['reviews'][i]['user']['seo_name']\n",
    "        except:\n",
    "            seo_name = None\n",
    "\n",
    "        # is_featured\n",
    "        try:\n",
    "            is_featured = json['reviews'][i]['user']['is_featured']\n",
    "        except:\n",
    "            is_featured = False\n",
    "\n",
    "        # followers_count\n",
    "        try:\n",
    "            followers_count = json['reviews'][i]['user']['statistics']['followers_count']\n",
    "        except:\n",
    "            followers_count = None\n",
    "\n",
    "        # followings_count\n",
    "        try:\n",
    "            followings_count = json['reviews'][i]['user']['statistics']['followings_count']\n",
    "        except:\n",
    "            followings_count = None\n",
    "\n",
    "        # ratings_count\n",
    "        try:\n",
    "            ratings_count = json['reviews'][i]['user']['statistics']['ratings_count']\n",
    "        except:\n",
    "            ratings_count = None\n",
    "\n",
    "        # reviews_count\n",
    "        try:\n",
    "            reviews_count = json['reviews'][i]['user']['statistics']['reviews_count']\n",
    "        except:\n",
    "            reviews_count = None\n",
    "\n",
    "        # purchase_order_count\n",
    "        try:\n",
    "            purchase_order_count = json['reviews'][i]['user']['statistics']['purchase_order_count']\n",
    "        except:\n",
    "            purchase_order_count = None\n",
    "\n",
    "        # language\n",
    "        try:\n",
    "            language = json['reviews'][i]['user']['language']\n",
    "        except:\n",
    "            language = None\n",
    "\n",
    "        user_data.add((user_id, seo_name, is_featured, followers_count, followings_count, ratings_count, reviews_count,\n",
    "                       purchase_order_count, language))\n",
    "        try:\n",
    "            cur_user.executemany('INSERT INTO user VALUES(?, ?, ?, ?, ?, ?, ?, ?, ?)', user_data)\n",
    "        except:\n",
    "            continue\n",
    "    con_user.commit()"
   ],
   "metadata": {
    "collapsed": false
   }
  },
  {
   "cell_type": "code",
   "execution_count": null,
   "outputs": [],
   "source": [
    "def save_reviews(json, wine_id):\n",
    "    review_data = set()\n",
    "    for i in range(len(json['reviews'])):\n",
    "\n",
    "        # id\n",
    "        try:\n",
    "            var_id = json['reviews'][i]['id']\n",
    "        except:\n",
    "            var_id = None\n",
    "\n",
    "        # rating\n",
    "        try:\n",
    "            rating = json['reviews'][i]['rating']\n",
    "        except:\n",
    "            rating = None\n",
    "\n",
    "        # note\n",
    "        try:\n",
    "            note = json['reviews'][i]['note']\n",
    "        except:\n",
    "            note = None\n",
    "\n",
    "        # created_at\n",
    "        try:\n",
    "            created_at = json['reviews'][i]['created_at']\n",
    "        except:\n",
    "            created_at = None\n",
    "\n",
    "        # likes_count\n",
    "        try:\n",
    "            likes_count = json['reviews'][i]['activity']['statistics']['likes_count']\n",
    "        except:\n",
    "            likes_count = None\n",
    "\n",
    "        # comments_count\n",
    "        try:\n",
    "            comments_count = json['reviews'][i]['activity']['statistics']['comments_count']\n",
    "        except:\n",
    "            comments_count = None\n",
    "\n",
    "        # scan_image_path\n",
    "        try:\n",
    "            scan_image_path = json['reviews'][i]['vintage']['image']['location'].strip(\"/\")\n",
    "        except:\n",
    "            scan_image_path = None\n",
    "\n",
    "        # lan_code\n",
    "        try:\n",
    "            lan_code = json['reviews'][i]['language']\n",
    "        except:\n",
    "            lan_code = None\n",
    "\n",
    "        # user_id\n",
    "        try:\n",
    "            user_id = json['reviews'][i]['user']['id']\n",
    "        except:\n",
    "            user_id = None\n",
    "\n",
    "        review_data.add(\n",
    "            (var_id, wine_id, rating, note, created_at, likes_count, comments_count, scan_image_path, lan_code, user_id)\n",
    "        )\n",
    "    cur_rev.executemany('INSERT INTO review VALUES(?, ?, ?, ?, ?, ?, ?, ?, ?, ?)', review_data)\n",
    "    con_rev.commit()"
   ],
   "metadata": {
    "collapsed": false
   }
  },
  {
   "cell_type": "code",
   "execution_count": null,
   "outputs": [],
   "source": [
    "request_errors = {}\n",
    "for wine_id in df[new_ids].id:\n",
    "    page = 1\n",
    "    previous_wine_ids = set()\n",
    "    while True:\n",
    "        url = 'https://www.vivino.com/api/wines/{}/reviews?per_page=50&page={}&language=en'.format(wine_id, page)\n",
    "        try:\n",
    "            response = get_request(request_url=url)\n",
    "            status_code = response.status_code\n",
    "\n",
    "        except Exception as e:\n",
    "            print('Exception: ' + str(e) + ' at page: ' + str(page) + ' for wine (id) ' + str(wine_id))\n",
    "            if page in request_errors.keys():\n",
    "                page += 1\n",
    "                time.sleep(random.randint(0, 1))\n",
    "                continue\n",
    "            time.sleep(random.randint(0, 1))\n",
    "            request_errors[page] = status_code\n",
    "            continue\n",
    "        if page > 1:\n",
    "            current_review_ids = get_review_ids(response.json())\n",
    "            if len(response.json()['reviews']) == 0 or is_equal_to_previous(\n",
    "                    current_ids=current_review_ids, previous_ids=previous_review_ids):\n",
    "                print('No more entries for wine id ' + str(wine_id) + ' at Page ' + str(page) + ' could be found.')\n",
    "                break\n",
    "        save_reviews(json=response.json(), wine_id=wine_id)\n",
    "        save_users(json=response.json())\n",
    "        previous_review_ids = get_review_ids(response.json())\n",
    "        page += 1\n",
    "        time.sleep(random.randint(0, 1))\n",
    "con_rev.close()"
   ],
   "metadata": {
    "collapsed": false
   }
  },
  {
   "cell_type": "code",
   "execution_count": null,
   "outputs": [],
   "source": [
    "con_rev = sqlite3.connect('review.db')\n",
    "df = pd.read_sql_query(\"SELECT * from review\", con_rev)\n",
    "df.head()"
   ],
   "metadata": {
    "collapsed": false
   }
  },
  {
   "cell_type": "code",
   "execution_count": null,
   "outputs": [],
   "source": [
    "df.drop_duplicates(subset='id', inplace=True)\n",
    "df.to_sql('review', con=con_rev, if_exists='replace')"
   ],
   "metadata": {
    "collapsed": false
   }
  },
  {
   "cell_type": "code",
   "execution_count": null,
   "outputs": [],
   "source": [
    "con_rev.close()"
   ],
   "metadata": {
    "collapsed": false
   }
  }
 ],
 "metadata": {
  "kernelspec": {
   "display_name": "Python 3",
   "language": "python",
   "name": "python3"
  },
  "language_info": {
   "codemirror_mode": {
    "name": "ipython",
    "version": 2
   },
   "file_extension": ".py",
   "mimetype": "text/x-python",
   "name": "python",
   "nbconvert_exporter": "python",
   "pygments_lexer": "ipython2",
   "version": "2.7.6"
  }
 },
 "nbformat": 4,
 "nbformat_minor": 0
}
