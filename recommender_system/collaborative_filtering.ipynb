{
 "cells": [
  {
   "cell_type": "markdown",
   "source": [
    "The following Collaborative Filtering approach is based on <a href=\"https://pub.towardsai.net/recommendation-system-in-depth-tutorial-with-python-for-netflix-using-collaborative-filtering-533ff8a0e444\">this</a> article."
   ],
   "metadata": {
    "collapsed": false
   }
  },
  {
   "cell_type": "code",
   "execution_count": null,
   "metadata": {
    "collapsed": true
   },
   "outputs": [],
   "source": [
    "import sqlite3\n",
    "import pandas as pd\n",
    "import numpy as np\n",
    "from scipy import sparse\n",
    "import cf_multiprocessing\n",
    "import concurrent.futures\n",
    "from sklearn.metrics.pairwise import cosine_similarity\n",
    "from sklearn.metrics import mean_squared_error\n",
    "from sklearn.model_selection import train_test_split"
   ]
  },
  {
   "cell_type": "code",
   "execution_count": null,
   "outputs": [],
   "source": [
    "con_rev = sqlite3.connect('../database/review.db')\n",
    "reviews_df = pd.read_sql_query(\"SELECT wine_id, rating, user_id from review\", con_rev)\n",
    "reviews_df.head()"
   ],
   "metadata": {
    "collapsed": false
   }
  },
  {
   "cell_type": "code",
   "execution_count": null,
   "outputs": [],
   "source": [
    "# user_50_revs = reviews_df.groupby(by='user_id').filter(lambda x: x['user_id'].count() >= 50)\n",
    "user_100_revs = reviews_df.groupby(by='user_id').filter(lambda x: x['user_id'].count() >= 100)\n",
    "# user_200_revs = reviews_df.groupby(by='user_id').filter(lambda x: x['user_id'].count() >= 200)\n",
    "# user_500_revs = reviews_df.groupby(by='user_id').filter(lambda x: x['user_id'].count() >= 500)"
   ],
   "metadata": {
    "collapsed": false
   }
  },
  {
   "cell_type": "code",
   "execution_count": null,
   "outputs": [],
   "source": [
    "wine_count_total = np.count_nonzero(np.unique(reviews_df.wine_id))\n",
    "# wine_count_50 = np.count_nonzero(np.unique(user_50_revs.wine_id))\n",
    "wine_count_100 = np.count_nonzero(np.unique(user_100_revs.wine_id))\n",
    "# wine_count_200 = np.count_nonzero(np.unique(user_200_revs.wine_id))\n",
    "# wine_count_500 = np.count_nonzero(np.unique(user_500_revs.wine_id))"
   ],
   "metadata": {
    "collapsed": false
   }
  },
  {
   "cell_type": "code",
   "execution_count": null,
   "outputs": [],
   "source": [
    "print(\n",
    "    'Set with users more than 50 reviews contains: ' + str(\n",
    "        np.round(wine_count_50 / wine_count_total, decimals=4) * 100) + '% of all wines' + '\\n' +\n",
    "    'Set with users more than 100 reviews contains: ' + str(\n",
    "        np.round(wine_count_100 / wine_count_total, decimals=4) * 100) + '% of all wines' + '\\n' +\n",
    "    'Set with users more than 200 reviews contains: ' + str(\n",
    "        np.round(wine_count_200 / wine_count_total, decimals=4) * 100) + '% of all wines' + '\\n' +\n",
    "    'Set with users more than 500 reviews contains: ' + str(\n",
    "        np.round(wine_count_500 / wine_count_total, decimals=2) * 100) + '% of all wines' + '\\n'\n",
    ")"
   ],
   "metadata": {
    "collapsed": false
   }
  },
  {
   "cell_type": "code",
   "execution_count": null,
   "outputs": [],
   "source": [
    "def get_sparse_wine_user_matrix(df: pd.DataFrame):\n",
    "    return sparse.csr_matrix(\n",
    "        (df.rating, (df.user_id, df.wine_id))\n",
    "    )"
   ],
   "metadata": {
    "collapsed": false
   }
  },
  {
   "cell_type": "code",
   "execution_count": null,
   "outputs": [],
   "source": [
    "def get_sim_matrix(matrix: sparse.csr_matrix):\n",
    "    return cosine_similarity(matrix, dense_output=False)"
   ],
   "metadata": {
    "collapsed": false
   }
  },
  {
   "cell_type": "code",
   "execution_count": null,
   "outputs": [],
   "source": [
    "def get_top_n_similar_users(n: int, sim_matrix: sparse.csr_matrix, input_user: int):\n",
    "    users = sim_matrix[input_user, :].nonzero()[1]\n",
    "    users = np.delete(users, np.where(users == input_user)[0])\n",
    "    similar_users = {\n",
    "        user: sim_matrix[input_user, user] for user in users\n",
    "    }\n",
    "    similar_users = {\n",
    "        k: v for k, v in sorted(similar_users.items(), key=lambda item: item[1])\n",
    "    }\n",
    "    return list(similar_users.keys())[-n:][::-1]"
   ],
   "metadata": {
    "collapsed": false
   }
  },
  {
   "cell_type": "code",
   "execution_count": null,
   "outputs": [],
   "source": [
    "def get_n_predictions(input_user: int, similar_users: list, reviews: pd.DataFrame, threshold: float,\n",
    "                      is_evaluation: bool):\n",
    "    input_user_avg_rating = np.round(reviews[reviews.user_id == input_user].rating.mean(), decimals=1)\n",
    "    input_user_rated_wines = np.unique(reviews[reviews.user_id == input_user].wine_id)\n",
    "    wine_prediction = {}\n",
    "    for sim_user in similar_users:\n",
    "        user_avg_rating = reviews[reviews.user_id == sim_user].rating.mean()\n",
    "        if is_evaluation:\n",
    "            unrated_wines: pd.DataFrame = reviews_df.loc[\n",
    "                (reviews_df.user_id == sim_user) & (~reviews_df.wine_id.isin(input_user_rated_wines)) & (\n",
    "                    reviews_df.wine_id.isin(test_rev_df.loc[test_rev_df.user_id == input_user].wine_id)),\n",
    "                ['user_id', 'wine_id', 'rating']\n",
    "            ]\n",
    "        else:\n",
    "            unrated_wines: pd.DataFrame = reviews_df.loc[\n",
    "                (reviews_df.user_id == sim_user) & (~reviews_df.wine_id.isin(input_user_rated_wines)), ['user_id',\n",
    "                                                                                                        'wine_id',\n",
    "                                                                                                        'rating']\n",
    "            ]\n",
    "        for wine in unrated_wines.wine_id:\n",
    "            if wine not in wine_prediction:\n",
    "                wine_prediction[wine] = round((input_user_avg_rating + (\n",
    "                        unrated_wines.loc[unrated_wines.wine_id == wine].rating.iloc[0] - user_avg_rating)) * 2) / 2\n",
    "    return {key: val for key, val in wine_prediction.items() if val >= threshold}"
   ],
   "metadata": {
    "collapsed": false
   }
  },
  {
   "cell_type": "code",
   "execution_count": null,
   "outputs": [],
   "source": [
    "def get_mse_for_predictions(predictions: dict, test_reviews: pd.DataFrame, input_user: int):\n",
    "    y_test = test_reviews[(test_reviews.user_id == input_user)]\n",
    "    y_pred = pd.DataFrame(predictions.items(), columns=['wine_id', 'predicted_rating'])\n",
    "    joined_df = y_test.merge(y_pred, how='left', on='wine_id').dropna()\n",
    "    return mean_squared_error(y_true=joined_df.rating, y_pred=joined_df.predicted_rating)"
   ],
   "metadata": {
    "collapsed": false
   }
  },
  {
   "cell_type": "code",
   "execution_count": null,
   "outputs": [],
   "source": [
    "train_rev_df, test_rev_df = train_test_split(reviews_df[reviews_df.user_id.isin(user_100_revs.user_id.unique())],\n",
    "                                             test_size=0.3, random_state=26)\n",
    "\n",
    "train_rev_matrix = get_sparse_wine_user_matrix(train_rev_df)\n",
    "test_rev_matrix = get_sparse_wine_user_matrix(test_rev_df)"
   ],
   "metadata": {
    "collapsed": false
   }
  },
  {
   "cell_type": "code",
   "execution_count": null,
   "outputs": [],
   "source": [
    "len(train_rev_df) + len(test_rev_df)"
   ],
   "metadata": {
    "collapsed": false
   }
  },
  {
   "cell_type": "code",
   "execution_count": null,
   "outputs": [],
   "source": [
    "def evaluate_collaborative_filtering(df_list: list):\n",
    "    df_test = df_list[0]\n",
    "    df_train = df_list[1]\n",
    "    input_users = df_train[df_train.user_id.isin(df_test.user_id)].user_id.unique()\n",
    "    sim_matrix = get_sim_matrix(train_rev_matrix)\n",
    "    unpredictable_users = []\n",
    "    df = pd.DataFrame(data={}.items(), columns=['wine_id', 'rating', 'rating_predicted'])\n",
    "\n",
    "    for user in input_users:\n",
    "        try:\n",
    "            sim_users = get_top_n_similar_users(n=10, sim_matrix=sim_matrix, input_user=user)\n",
    "            preds: dict = get_n_predictions(input_user=user, similar_users=sim_users, reviews=df_train,\n",
    "                                            threshold=3.0, is_evaluation=True)\n",
    "            df_temp = pd.DataFrame(preds.items(), columns=['wine_id', 'rating_predicted']).merge(\n",
    "                df_test.loc[df_test.user_id == user, ['wine_id', 'rating']], on='wine_id', how='left')\n",
    "            df = pd.concat([df, df_temp])\n",
    "        except Exception as err:\n",
    "            unpredictable_users.append(user)\n",
    "            print('No wines could be predicted for user: ' + str(user) + ' (' + str(err) + ')')\n",
    "            raise err\n",
    "    return df"
   ],
   "metadata": {
    "collapsed": false
   }
  },
  {
   "cell_type": "code",
   "execution_count": null,
   "outputs": [],
   "source": [
    "def run_multiprocessing():\n",
    "    df_results = pd.DataFrame(data={}.items(), columns=['wine_id', 'rating', 'rating_predicted'])\n",
    "    core_count = 9\n",
    "    len_df_train = int(len(train_rev_df)/core_count)\n",
    "    len_df_test = int(len(test_rev_df)/core_count)\n",
    "    test_frames = [ train_rev_df.iloc[i*len_df_train:(i+1)*len_df_train].copy() for i in range(core_count+1) ]\n",
    "    train_frames = [ test_rev_df.iloc[i*len_df_test:(i+1)*len_df_test].copy() for i in range(core_count+1) ]\n",
    "    with concurrent.futures.ProcessPoolExecutor() as executor:\n",
    "        results = [executor.submit(cf_multiprocessing.evaluate_collaborative_filtering, [test_frames[i], train_frames[i]]) for i in range(core_count)]\n",
    "\n",
    "        for result in concurrent.futures.as_completed(results):\n",
    "            df_results = pd.concat([df_results, result.result()])\n",
    "        print(df_results)\n",
    "        print(mean_squared_error(y_true=df_results.rating, y_pred=df_results.rating_predicted))\n",
    "\n",
    "if __name__ == '__main__':\n",
    "    run_multiprocessing()"
   ],
   "metadata": {
    "collapsed": false
   }
  },
  {
   "cell_type": "code",
   "execution_count": null,
   "outputs": [],
   "source": [
    "df_result = evaluate_collaborative_filtering([test_rev_df, train_rev_df])"
   ],
   "metadata": {
    "collapsed": false
   }
  },
  {
   "cell_type": "code",
   "execution_count": null,
   "outputs": [],
   "source": [
    "mean_squared_error(y_true=df_result.rating, y_pred=df_result.rating_predicted)"
   ],
   "metadata": {
    "collapsed": false
   }
  },
  {
   "cell_type": "markdown",
   "source": [],
   "metadata": {
    "collapsed": false
   }
  }
 ],
 "metadata": {
  "kernelspec": {
   "display_name": "Python 3",
   "language": "python",
   "name": "python3"
  },
  "language_info": {
   "codemirror_mode": {
    "name": "ipython",
    "version": 2
   },
   "file_extension": ".py",
   "mimetype": "text/x-python",
   "name": "python",
   "nbconvert_exporter": "python",
   "pygments_lexer": "ipython2",
   "version": "2.7.6"
  }
 },
 "nbformat": 4,
 "nbformat_minor": 0
}
