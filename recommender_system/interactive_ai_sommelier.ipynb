{
 "cells": [
  {
   "cell_type": "code",
   "execution_count": 1,
   "metadata": {
    "collapsed": true
   },
   "outputs": [],
   "source": [
    "from sentence_transformers import SentenceTransformer, util\n",
    "from bs4 import BeautifulSoup\n",
    "from datetime import datetime\n",
    "import pandas as pd\n",
    "import numpy as np\n",
    "import requests\n",
    "import sqlite3\n",
    "import torch\n",
    "import json"
   ]
  },
  {
   "cell_type": "code",
   "execution_count": 10,
   "outputs": [],
   "source": [
    "def load_from_database(\n",
    "        db: str,\n",
    "        table: str,\n",
    "        columns: str,\n",
    "):\n",
    "    connection = sqlite3.connect('../database/' + db + '.db')\n",
    "    df = pd.read_sql_query(\n",
    "        str('SELECT ' + columns + ' FROM ' + table), con=connection\n",
    "    )\n",
    "    connection.close()\n",
    "    return df\n",
    "\n",
    "\n",
    "def save_to_database(\n",
    "        db: str,\n",
    "        table: str,\n",
    "        df: pd.DataFrame\n",
    "):\n",
    "    connection = sqlite3.connect('../database/' + db + '.db')\n",
    "    try:\n",
    "        df.to_sql(name=table, con=connection, if_exists='replace')\n",
    "    except Exception as e:\n",
    "        raise e\n",
    "    print('DataFrame has been saved successfully to: ' + db)"
   ],
   "metadata": {
    "collapsed": false
   }
  },
  {
   "cell_type": "markdown",
   "source": [
    "### Embed review texts"
   ],
   "metadata": {
    "collapsed": false
   }
  },
  {
   "cell_type": "code",
   "execution_count": null,
   "outputs": [],
   "source": [
    "df_rev_en_sent = load_from_database(db='review_en_sentiment', table='review_en_sentiment',\n",
    "                                    columns='wine_id, note, likes_count')\n",
    "df_rev_en_sent.head()"
   ],
   "metadata": {
    "collapsed": false
   }
  },
  {
   "cell_type": "code",
   "execution_count": null,
   "outputs": [],
   "source": [
    "len(df_rev_en_sent[df_rev_en_sent['likes_count'] > 0]) / len(df_rev_en_sent)"
   ],
   "metadata": {
    "collapsed": false
   }
  },
  {
   "cell_type": "code",
   "execution_count": null,
   "outputs": [],
   "source": [
    "print(len(df_rev_en_sent))\n",
    "df_rev_en_sent = df_rev_en_sent[df_rev_en_sent['likes_count'] > 0]\n",
    "print(len(df_rev_en_sent))"
   ],
   "metadata": {
    "collapsed": false
   }
  },
  {
   "cell_type": "code",
   "execution_count": null,
   "outputs": [],
   "source": [
    "embedder = SentenceTransformer.load('../models/zero-shot').to('mps')"
   ],
   "metadata": {
    "collapsed": false
   }
  },
  {
   "cell_type": "code",
   "execution_count": null,
   "outputs": [],
   "source": [
    "test_embeddings = embedder.encode(\n",
    "    df_rev_en_sent['note'].tolist(),\n",
    "    convert_to_tensor=True,\n",
    "    show_progress_bar=True\n",
    ")"
   ],
   "metadata": {
    "collapsed": false
   }
  },
  {
   "cell_type": "code",
   "execution_count": null,
   "outputs": [],
   "source": [
    "df_rev_en_sent.reset_index(inplace=True)"
   ],
   "metadata": {
    "collapsed": false
   }
  },
  {
   "cell_type": "code",
   "execution_count": null,
   "outputs": [],
   "source": [
    "#\n",
    "embeddings_dict = {\n",
    "    index: [df_rev_en_sent.loc[index, 'wine_id'], test_embeddings[index]] for index in df_rev_en_sent.index\n",
    "}"
   ],
   "metadata": {
    "collapsed": false
   }
  },
  {
   "cell_type": "code",
   "execution_count": null,
   "outputs": [],
   "source": [
    "torch.save(embeddings_dict, '../database/test_embeddings_likes.pt')"
   ],
   "metadata": {
    "collapsed": false
   }
  },
  {
   "cell_type": "code",
   "execution_count": null,
   "outputs": [],
   "source": [
    "torch.save(test_embeddings, '../database/test_embeddings_likes_tensors.pt')"
   ],
   "metadata": {
    "collapsed": false
   }
  },
  {
   "cell_type": "markdown",
   "source": [
    "### Load pre-embedded reviews"
   ],
   "metadata": {
    "collapsed": false
   }
  },
  {
   "cell_type": "code",
   "execution_count": null,
   "outputs": [],
   "source": [
    "def get_wine_types():\n",
    "    return {\n",
    "        1: 'Red',\n",
    "        2: 'White',\n",
    "        3: 'Sparkling',\n",
    "        4: 'Rosé',\n",
    "        24: 'Liqueur',\n",
    "        7: 'Dessert'\n",
    "    }"
   ],
   "metadata": {
    "collapsed": false
   }
  },
  {
   "cell_type": "code",
   "execution_count": null,
   "outputs": [],
   "source": [
    "def get_wine_data(json: json, soup: BeautifulSoup) -> dict:\n",
    "    wine_types = get_wine_types()\n",
    "    try:\n",
    "        name = json['reviews'][0]['vintage']['wine']['name']\n",
    "        wine_type = wine_types[int(json['reviews'][0]['vintage']['wine']['type_id'])]\n",
    "        country = json['reviews'][0]['vintage']['wine']['region']['country']['name']\n",
    "        region = json['reviews'][0]['vintage']['wine']['region']['name']\n",
    "        winery = json['reviews'][0]['vintage']['wine']['winery']['name']\n",
    "        grape_list = []\n",
    "        img_path = soup.find_all('img', {'class': 'image'})[0]['src'].lstrip('/')\n",
    "        for grape in json['reviews'][0]['vintage']['wine']['region']['country']['most_used_grapes']:\n",
    "            grape_list.append(grape['name'])\n",
    "        wine_data = {\n",
    "            'Name': name,\n",
    "            'Wine Type': wine_type,\n",
    "            'Country': country,\n",
    "            'Region': region,\n",
    "            'Winery': winery,\n",
    "            'Main grapes': ', '.join(grape_list),\n",
    "            'Image path': img_path\n",
    "        }\n",
    "    except Exception as e:\n",
    "        raise e\n",
    "    return wine_data"
   ],
   "metadata": {
    "collapsed": false
   }
  },
  {
   "cell_type": "code",
   "execution_count": null,
   "outputs": [],
   "source": [
    "def request_vivino(wine_id: int) -> list:\n",
    "    headers={\n",
    "        'User-Agent': 'Mozilla/5.0 (Macintosh; Intel Mac OS X 10_15_7) AppleWebKit/605.1.15 (KHTML, like Gecko) Version/16.3 Safari/605.1.15'\n",
    "    }\n",
    "    api_response: requests = requests.get(\n",
    "        url='https://www.vivino.com/api/wines/{}/reviews?per_page=1'.format(wine_id),\n",
    "        headers=headers\n",
    "    )\n",
    "    api_response.raise_for_status()\n",
    "    html_response: requests = requests.get(\n",
    "        url='https://www.vivino.com/w/{}'.format(wine_id),\n",
    "        headers=headers\n",
    "    )\n",
    "    html_response.raise_for_status()\n",
    "    return [api_response, html_response]"
   ],
   "metadata": {
    "collapsed": false
   }
  },
  {
   "cell_type": "code",
   "execution_count": null,
   "outputs": [],
   "source": [
    "embeddings_dict: dict = torch.load('../database/test_embeddings_likes.pt')"
   ],
   "metadata": {
    "collapsed": false
   }
  },
  {
   "cell_type": "code",
   "execution_count": null,
   "outputs": [],
   "source": [
    "embeddings_list: torch.tensor = torch.stack([embeddings_dict[i][1] for i in range(len(embeddings_dict.values()))])\n",
    "wine_id_list: list = [embeddings_dict[i][0] for i in range(len(embeddings_dict.values()))]\n",
    "del embeddings_dict"
   ],
   "metadata": {
    "collapsed": false
   }
  },
  {
   "cell_type": "code",
   "execution_count": null,
   "outputs": [],
   "source": [
    "embedder = SentenceTransformer.load('../models/simcse_en').to('mps')"
   ],
   "metadata": {
    "collapsed": false
   }
  },
  {
   "cell_type": "code",
   "execution_count": null,
   "outputs": [],
   "source": [
    "def get_recommendations(query: str, top_n: int = 5) -> list:\n",
    "    query_embedding = embedder.encode(query, convert_to_tensor=True)\n",
    "    similarity_scores = util.cos_sim(query_embedding, embeddings_list)\n",
    "    top_results = torch.topk(similarity_scores, k=top_n)\n",
    "    top_similar_wines = [wine_id_list[i] for i in top_results[1][0]]\n",
    "    if len(set(top_similar_wines)) < top_n:\n",
    "        print('hey')\n",
    "        get_recommendations(query, top_n + 1)\n",
    "    recommendations_list: list = list()\n",
    "    for wine_id in top_similar_wines:\n",
    "        vivino_data: list = request_vivino(wine_id=wine_id)\n",
    "        json = vivino_data[0].json()\n",
    "        soup = BeautifulSoup(vivino_data[1].text, 'html.parser')\n",
    "        recommendations_list.append(\n",
    "            get_wine_data(json=json, soup=soup)\n",
    "        )\n",
    "    return recommendations_list"
   ],
   "metadata": {
    "collapsed": false
   }
  },
  {
   "cell_type": "code",
   "execution_count": null,
   "outputs": [],
   "source": [
    "query = 'sparkling dry wine fruity'\n",
    "embedded_query = embedder.encode(query, convert_to_tensor=True)"
   ],
   "metadata": {
    "collapsed": false
   }
  },
  {
   "cell_type": "code",
   "execution_count": null,
   "outputs": [],
   "source": [
    "similarity_scores = util.cos_sim(embedded_query, embeddings_list)\n",
    "top_results = torch.topk(similarity_scores, k=300)\n",
    "top_similar_wines = [wine_id_list[i] for i in top_results[1][0]]"
   ],
   "metadata": {
    "collapsed": false
   }
  },
  {
   "cell_type": "code",
   "execution_count": null,
   "outputs": [],
   "source": [
    "id_var = max(set(top_similar_wines), key=top_similar_wines.count)\n",
    "id_var"
   ],
   "metadata": {
    "collapsed": false
   }
  },
  {
   "cell_type": "code",
   "execution_count": null,
   "outputs": [],
   "source": [
    "indices = [i for i, j in enumerate(top_similar_wines) if j == id_var]\n",
    "indices"
   ],
   "metadata": {
    "collapsed": false
   }
  },
  {
   "cell_type": "code",
   "execution_count": null,
   "outputs": [],
   "source": [
    "probabilities =  [top_results[0][0][i] for i in indices]\n",
    "np.round(np.mean(probabilities), decimals=2)"
   ],
   "metadata": {
    "collapsed": false
   }
  },
  {
   "cell_type": "code",
   "execution_count": null,
   "outputs": [],
   "source": [
    "wine_ids = list()\n",
    "lower, upper = 0, 1000\n",
    "for i in range(3):\n",
    "    wines = top_similar_wines[lower:upper]\n",
    "    id_var = max(set(wines), key=wines.count)\n",
    "    while id_var in wine_ids:\n",
    "        wines = [i for i in wines if i != id_var]\n",
    "        id_var = max(set(wines), key=wines.count)\n",
    "    wine_ids.append(id_var)\n",
    "    lower += 1000\n",
    "    upper += 1000"
   ],
   "metadata": {
    "collapsed": false
   }
  },
  {
   "cell_type": "code",
   "execution_count": null,
   "outputs": [],
   "source": [
    "query = 'light white wine with creamy texture low acidity fruity'\n",
    "embedded_query = embedder.encode(query, convert_to_tensor=True)"
   ],
   "metadata": {
    "collapsed": false
   }
  },
  {
   "cell_type": "code",
   "execution_count": null,
   "outputs": [],
   "source": [
    "time_dict = dict()\n",
    "k = 100\n",
    "for n in [100000, 200000, 300000, 400000, 500000, 600000, 700000, 800000, 900000, 1000000]:\n",
    "    embeddings_list_test = embeddings_list[:n]\n",
    "    time_dict[n] = list()\n",
    "    for i in range(50):\n",
    "        start = datetime.now()\n",
    "        similarity_scores = util.cos_sim(a=embedded_query, b=embeddings_list_test)\n",
    "        top_similar_wines = torch.topk(k=k, input=similarity_scores)\n",
    "        duration = datetime.now() - start\n",
    "        time_dict[n].append(duration)"
   ],
   "metadata": {
    "collapsed": false
   }
  },
  {
   "cell_type": "code",
   "execution_count": null,
   "outputs": [],
   "source": [
    "time_dict"
   ],
   "metadata": {
    "collapsed": false
   }
  },
  {
   "cell_type": "code",
   "execution_count": null,
   "outputs": [],
   "source": [
    "df_dict = dict()\n",
    "for key in time_dict.keys():\n",
    "    df_dict[key] = np.median([i.microseconds for i in time_dict[key]])"
   ],
   "metadata": {
    "collapsed": false
   }
  },
  {
   "cell_type": "code",
   "execution_count": null,
   "outputs": [],
   "source": [
    "import matplotlib.pyplot as plt\n",
    "plt.rcParams['font.size'] = 13\n",
    "plt.rcParams['font.family'] = 'Palatino'\n",
    "fig_path = r'/Users/leonbecker/Library/CloudStorage/OneDrive-UniversitätWürzburg/Universität Würzburg/Master Information-Systems/Thesis/LaTex/graphics/'\n",
    "plt.rcParams['path.simplify'] = True\n",
    "# locale.setlocale(locale.LC_NUMERIC, \"de_DE\")\n",
    "plt.rcParams['axes.formatter.use_locale'] = True"
   ],
   "metadata": {
    "collapsed": false
   }
  },
  {
   "cell_type": "code",
   "execution_count": null,
   "outputs": [],
   "source": [
    "df = pd.DataFrame({'n': df_dict.keys(), 'duration': df_dict.values()})\n",
    "df.tail()"
   ],
   "metadata": {
    "collapsed": false
   }
  },
  {
   "cell_type": "code",
   "execution_count": null,
   "outputs": [],
   "source": [
    "fig, ax = plt.subplots()\n",
    "\n",
    "ax.plot(df['n'], df['duration']/1000000, c='black', marker='o')\n",
    "ax.spines['right'].set_visible(False)\n",
    "ax.spines['top'].set_visible(False)\n",
    "ax.set_ylabel('Dauer in Sekunden (Median)')\n",
    "ax.set_xlabel('Anzahl der Vergleiche')\n",
    "plt.tight_layout()\n",
    "fig.savefig(fig_path + 'duration_torch_topk.pdf')"
   ],
   "metadata": {
    "collapsed": false
   }
  },
  {
   "cell_type": "code",
   "execution_count": null,
   "outputs": [],
   "source": [
    "test_list = embedder.encode(['this is a review text of a beautiful wine' for i in range(10**5)], convert_to_tensor=True)\n",
    "torch.save(test_list, '../database/tensor100k_test')"
   ],
   "metadata": {
    "collapsed": false
   }
  },
  {
   "cell_type": "code",
   "execution_count": null,
   "outputs": [],
   "source": [
    "r = requests.get(\n",
    "    url='https://www.vivino.com/w/1299511',\n",
    "    headers={\n",
    "        'User-Agent': 'Mozilla/5.0 (Macintosh; Intel Mac OS X 10_15_7) AppleWebKit/605.1.15 (KHTML, like Gecko) Version/16.3 Safari/605.1.15'\n",
    "    }\n",
    ")"
   ],
   "metadata": {
    "collapsed": false
   }
  },
  {
   "cell_type": "code",
   "execution_count": null,
   "outputs": [],
   "source": [
    "from selenium.webdriver.chrome.options import Options\n",
    "from selenium import webdriver\n",
    "\n",
    "options = Options()\n",
    "options.add_argument('--headless')\n",
    "executable_path = '/Users/leonbecker/Library/CloudStorage/OneDrive-UniversitätWürzburg/Universität Würzburg/Master Information-Systems/Thesis/chromedriver_mac_arm64/chromedriver'\n",
    "driver = webdriver.Chrome(options=options, executable_path=executable_path)\n",
    "\n",
    "driver.get('https://www.vivino.com/w/1299511')\n",
    "\n",
    "html = driver.page_source\n",
    "\n",
    "soup = BeautifulSoup(html)\n",
    "\n",
    "span_var = soup.find_all('span', {'class': 'purchaseAvailabilityPPC__amount--2_4GT'})\n",
    "a_var = soup.find_all('a', {'class': 'anchor_anchor__m8Qi-'})\n",
    "\n"
   ],
   "metadata": {
    "collapsed": false
   }
  },
  {
   "cell_type": "code",
   "execution_count": 5,
   "outputs": [
    {
     "name": "stdout",
     "output_type": "stream",
     "text": [
      "0:00:02.892209\n"
     ]
    }
   ],
   "source": [
    "from selenium.webdriver.chrome.options import Options\n",
    "from selenium.webdriver.chrome.service import Service\n",
    "from webdriver_manager.chrome import ChromeDriverManager\n",
    "from selenium import webdriver\n",
    "\n",
    "start = datetime.now()\n",
    "\n",
    "options = Options()\n",
    "user_agent = 'Mozilla/5.0 (Macintosh; Intel Mac OS X 10_15_7) AppleWebKit/605.1.15 (KHTML, like Gecko) Version/16.3 Safari/605.1.15'\n",
    "options.add_argument('--headless')\n",
    "options.add_argument(f'user-agent={user_agent}')\n",
    "driver = webdriver.Chrome(service=Service(ChromeDriverManager().install()), options=options)\n",
    "driver.get('https://www.vivino.com/DE/de/antinori-tuscany-marchesi-antinori-tignanello/w/1652')\n",
    "html = driver.page_source\n",
    "soup = BeautifulSoup(html, features='html.parser')\n",
    "\n",
    "print(datetime.now() - start)"
   ],
   "metadata": {
    "collapsed": false
   }
  },
  {
   "cell_type": "code",
   "execution_count": 2,
   "outputs": [],
   "source": [
    "import ai_sommelier_backend"
   ],
   "metadata": {
    "collapsed": false
   }
  },
  {
   "cell_type": "code",
   "execution_count": null,
   "outputs": [],
   "source": [
    "wine_data = get_wine_data(soup, 86684, 0.95)"
   ],
   "metadata": {
    "collapsed": false
   }
  },
  {
   "cell_type": "code",
   "execution_count": 4,
   "outputs": [
    {
     "name": "stdout",
     "output_type": "stream",
     "text": [
      "0.41\n",
      "0.4\n",
      "0.41\n"
     ]
    },
    {
     "data": {
      "text/plain": "[{'Id': 86684,\n  'Probability': 0.41,\n  'Name': 'Brut Champagne',\n  'Wine Type': 'Schaumwein',\n  'Country': 'Frankreich',\n  'Winery': 'Dom Pérignon',\n  'Main grapes': 'Chardonnay, Pinot Noir',\n  'Image path': 'https://images.vivino.com/thumbs/s5aXYaQiTu-V_xEYI3KXRg_pb_x600.png',\n  'Price': 'N.A.',\n  'Match': 0},\n {'Id': 1652,\n  'Probability': 0.4,\n  'Name': 'Tignanello',\n  'Wine Type': 'Rotwein',\n  'Country': 'Italien',\n  'Winery': 'Antinori',\n  'Main grapes': 'Sangiovese, Cabernet Sauvignon, Cabernet Franc',\n  'Image path': 'https://images.vivino.com/thumbs/LtqnB-H2QFmN6ixL3FQcdw_pb_x600.png',\n  'Price': 'N.A.',\n  'Match': 0},\n {'Id': 1684223,\n  'Probability': 0.41,\n  'Name': 'Pauillac (Premier Grand Cru Classé)',\n  'Wine Type': 'Rotwein',\n  'Country': 'Frankreich',\n  'Winery': 'Château Mouton Rothschild',\n  'Main grapes': 'Merlot, Cabernet Sauvignon',\n  'Image path': 'https://images.vivino.com/thumbs/DNeQQKoHQCyq7BakiBm_zQ_pb_x600.png',\n  'Price': 'N.A.',\n  'Match': 0}]"
     },
     "execution_count": 4,
     "metadata": {},
     "output_type": "execute_result"
    }
   ],
   "source": [
    "ai_sommelier_backend.get_recommendations(query='extraordinary wine for special occasion', n=3)"
   ],
   "metadata": {
    "collapsed": false
   }
  },
  {
   "cell_type": "code",
   "execution_count": null,
   "outputs": [],
   "source": [
    "np.round(np.mean([0.49055444, 0.40551655]), decimals=2) * 100"
   ],
   "metadata": {
    "collapsed": false
   }
  },
  {
   "cell_type": "code",
   "execution_count": null,
   "outputs": [],
   "source": [
    "r = requests.get()"
   ],
   "metadata": {
    "collapsed": false
   }
  },
  {
   "cell_type": "code",
   "execution_count": null,
   "outputs": [],
   "source": [
    "wine_data['Wine Type']"
   ],
   "metadata": {
    "collapsed": false
   }
  },
  {
   "cell_type": "code",
   "execution_count": 7,
   "outputs": [
    {
     "data": {
      "text/plain": "[<a class=\"anchor_anchor__m8Qi- breadCrumbs__link--1TY6b\" data-cy=\"breadcrumb-country\" href=\"/wine-countries/france\">Frankreich</a>,\n <a class=\"anchor_anchor__m8Qi- breadCrumbs__link--1TY6b\" data-cy=\"breadcrumb-region\" href=\"/wine-regions/champagne\">Schaumwein</a>,\n <a class=\"anchor_anchor__m8Qi- breadCrumbs__link--1TY6b\" data-cartitemsource=\"winery-page-wine-page-header\" data-cy=\"breadcrumb-winery\" href=\"/wineries/dom-perignon\">Dom Pérignon</a>,\n <a class=\"anchor_anchor__m8Qi- breadCrumbs__link--1TY6b\" data-cartitemsource=\"breadcrumb-explore\" data-cy=\"breadcrumb-winetype\" href=\"/explore?page=1&amp;wine_type_ids[]=3\">Schaumwein</a>,\n <a class=\"anchor_anchor__m8Qi- breadCrumbs__link--1TY6b\" data-cartitemsource=\"breadcrumb-explore\" data-cy=\"breadcrumb-grape\" href=\"/explore?grape_ids[]=5&amp;grape_ids[]=14&amp;page=1\">Cuvée</a>,\n <a class=\"anchor_anchor__m8Qi- scroll\" href=\"#all_reviews\"><div class=\"vivinoRating_vivinoRating__RbvjH\"><div class=\"vivinoRating_averageValue__uDdPM\">4,6</div><div class=\"vivinoRating_starsAndCaption__uXvJB\"><div><div aria-label=\"Bewertet 4.6 Sterne\" class=\"rating_rating__2rmCt\" role=\"img\"><i class=\"rating_icon__KDdqj\" style='height: 16px; width: 16px; background-image: url(\"https://web-common.vivino.com/assets/rating/star_10.svg\");'></i><i class=\"rating_icon__KDdqj\" style='height: 16px; width: 16px; background-image: url(\"https://web-common.vivino.com/assets/rating/star_10.svg\");'></i><i class=\"rating_icon__KDdqj\" style='height: 16px; width: 16px; background-image: url(\"https://web-common.vivino.com/assets/rating/star_10.svg\");'></i><i class=\"rating_icon__KDdqj\" style='height: 16px; width: 16px; background-image: url(\"https://web-common.vivino.com/assets/rating/star_10.svg\");'></i><i class=\"rating_icon__KDdqj\" style='height: 16px; width: 16px; background-image: url(\"https://web-common.vivino.com/assets/rating/star_6.svg\");'></i></div></div><div class=\"vivinoRating_caption__xL84P\">144076 Bewertungen</div></div></div></a>,\n <a class=\"anchor_anchor__m8Qi- addToWishlist__addToWishList--fgl8o\" href=\"#\"><svg height=\"24\" viewbox=\"0 0 24 24\" width=\"24\" xmlns=\"http://www.w3.org/2000/svg\"><path d=\"M18.75,21V4.8931A1.8423,1.8423,0,0,0,16.9752,3h-9.95A1.8423,1.8423,0,0,0,5.25,4.8931V21L12,15.6Z\" fill=\"none\" fill-rule=\"evenodd\" stroke=\"#1e1e1e\" stroke-linecap=\"round\" stroke-linejoin=\"round\"></path></svg><span class=\"addToWishlist__text--3BIjr\">Auf die Wunschliste setzen</span></a>,\n <a class=\"anchor_anchor__m8Qi- downloadAppButtons_downloadAppCTA__O2suy\" href=\"/redirect/appstore\" rel=\"noopener noreferrer\" target=\"_blank\" title=\"Apple AppStore\"><svg height=\"40\" viewbox=\"0 0 120 40\" width=\"120\" xmlns=\"http://www.w3.org/2000/svg\"><g fill=\"none\" fill-rule=\"evenodd\"><path d=\"M110.443 0H9.562c-.368 0-.731 0-1.098.002-.307.002-.612.008-.922.013-.668.016-1.343.057-2.01.176A6.461 6.461 0 0 0 .821 3.618a6.612 6.612 0 0 0-.626 1.903c-.12.663-.163 1.333-.18 2.002-.009.307-.01.615-.015.921v23.115c.005.31.006.611.015.921.017.67.06 1.34.18 2.002.117.67.314 1.298.626 1.905a6.234 6.234 0 0 0 1.183 1.614 6.293 6.293 0 0 0 1.622 1.179 6.76 6.76 0 0 0 1.906.631c.667.119 1.342.158 2.01.176.31.007.615.011.922.011.367.002.73.002 1.098.002h100.881c.362 0 .727 0 1.087-.002.307 0 .62-.004.926-.011.672-.018 1.346-.057 2.005-.176a6.859 6.859 0 0 0 1.914-.631 6.327 6.327 0 0 0 1.622-1.179 6.428 6.428 0 0 0 1.184-1.614 6.552 6.552 0 0 0 .62-1.905c.125-.662.163-1.332.188-2.002.003-.31.003-.611.003-.921.008-.364.008-.725.008-1.094V9.536c0-.366 0-.729-.008-1.092 0-.306 0-.614-.003-.921-.025-.669-.063-1.339-.188-2.002a6.569 6.569 0 0 0-.62-1.903 6.482 6.482 0 0 0-2.806-2.8 6.85 6.85 0 0 0-1.914-.627c-.66-.119-1.333-.16-2.005-.176-.306-.005-.619-.011-.926-.013C111.17 0 110.805 0 110.443 0\" fill=\"#A9AAA9\"></path><path d=\"M8.403 39.198c-.306 0-.605-.004-.908-.011-.562-.015-1.228-.047-1.877-.164a5.89 5.89 0 0 1-1.663-.55 5.395 5.395 0 0 1-1.403-1.02 5.35 5.35 0 0 1-1.025-1.402 5.773 5.773 0 0 1-.545-1.664c-.123-.675-.154-1.36-.167-1.882A76.584 76.584 0 0 1 .8 31.59V8.399s.009-.694.015-.898c.013-.526.044-1.21.166-1.88.107-.616.285-1.16.546-1.668a5.358 5.358 0 0 1 1.02-1.403A5.59 5.59 0 0 1 5.613.977C6.29.857 6.975.825 7.497.812L8.403.8H111.59l.917.013c.515.012 1.2.043 1.866.163a5.988 5.988 0 0 1 1.678.55 5.55 5.55 0 0 1 1.397 1.02c.413.407.755.881 1.028 1.41.26.512.435 1.056.538 1.655.116.633.152 1.283.174 1.894.003.284.003.59.003.893.009.377.009.735.009 1.097v21.01c0 .364 0 .72-.009 1.079 0 .326 0 .625-.004.933-.021.592-.057 1.241-.172 1.86a5.772 5.772 0 0 1-.542 1.677c-.27.522-.614.993-1.02 1.391-.415.42-.886.762-1.404 1.026a5.884 5.884 0 0 1-1.676.552c-.642.117-1.308.149-1.876.164-.293.007-.603.011-.902.011l-1.088.002-102.104-.002\" fill=\"#000\"></path><path d=\"M38.059 25.591h3.752l-1.85-5.447h-.051l-1.851 5.447zm4.243 1.549h-4.733l-1.137 3.356h-2.005l4.484-12.418h2.083l4.483 12.418h-2.039l-1.136-3.356zm10.948-1.17c0-1.833-.948-3.038-2.393-3.038-1.42 0-2.375 1.23-2.375 3.038 0 1.824.955 3.046 2.375 3.046 1.445 0 2.393-1.197 2.393-3.046zm1.91 0c0 2.813-1.506 4.621-3.779 4.621-1.29 0-2.314-.577-2.848-1.584h-.043v4.484h-1.859V21.442h1.799v1.506h.034c.517-.971 1.619-1.6 2.883-1.6 2.298 0 3.813 1.816 3.813 4.622zm8.054 0c0-1.833-.947-3.038-2.392-3.038-1.42 0-2.375 1.23-2.375 3.038 0 1.824.955 3.046 2.375 3.046 1.445 0 2.392-1.197 2.392-3.046zm1.91 0c0 2.813-1.505 4.621-3.778 4.621-1.29 0-2.314-.577-2.848-1.584h-.043v4.484h-1.859V21.442h1.799v1.506h.034c.517-.971 1.618-1.6 2.883-1.6 2.298 0 3.812 1.816 3.812 4.622zm6.587 1.066c.137 1.232 1.334 2.04 2.968 2.04 1.567 0 2.694-.808 2.694-1.919 0-.964-.68-1.541-2.289-1.936l-1.61-.388c-2.28-.551-3.339-1.617-3.339-3.348 0-2.142 1.868-3.614 4.519-3.614 2.624 0 4.423 1.472 4.483 3.614h-1.876c-.112-1.239-1.137-1.987-2.633-1.987-1.498 0-2.522.757-2.522 1.858 0 .878.654 1.395 2.255 1.791l1.368.335c2.548.603 3.607 1.626 3.607 3.443 0 2.323-1.851 3.778-4.794 3.778-2.754 0-4.614-1.421-4.734-3.667h1.903zM83.346 19.3v2.142h1.722v1.472h-1.722v4.991c0 .776.345 1.137 1.102 1.137a5.7 5.7 0 0 0 .611-.043v1.463c-.206.052-.619.086-1.032.086-1.833 0-2.548-.689-2.548-2.444v-5.19h-1.316v-1.472h1.316V19.3h1.867zm9.414 6.67c0-1.954-.895-3.108-2.401-3.108-1.506 0-2.4 1.162-2.4 3.108 0 1.962.894 3.106 2.4 3.106 1.506 0 2.401-1.144 2.401-3.106zm-6.695 0c0-2.849 1.678-4.639 4.294-4.639 2.625 0 4.295 1.79 4.295 4.639 0 2.856-1.661 4.638-4.295 4.638-2.633 0-4.294-1.782-4.294-4.638zm10.121-4.528h1.773v1.541h.043c.284-1.024 1.11-1.635 2.177-1.635.267 0 .49.035.637.069v1.738c-.147-.06-.474-.112-.835-.112-1.196 0-1.936.81-1.936 2.083v5.37h-1.859v-9.054zm6.916 3.693h4.526c-.043-1.386-.929-2.298-2.22-2.298-1.282 0-2.211.93-2.306 2.298zm6.282 2.702c-.25 1.644-1.85 2.771-3.898 2.771-2.634 0-4.269-1.764-4.269-4.595 0-2.84 1.644-4.682 4.191-4.682 2.505 0 4.08 1.721 4.08 4.466v.637h-6.395v.112c0 1.549.973 2.564 2.436 2.564 1.032 0 1.842-.49 2.091-1.273h1.764zM36.598 13.854h1.125c1.248 0 1.967-.777 1.967-2.146 0-1.348-.731-2.134-1.967-2.134h-1.125v4.28zm1.228-5.123c1.77 0 2.808 1.087 2.808 2.965 0 1.906-1.03 3.002-2.808 3.002h-2.155V8.731h2.155zm7.188 3.713c0-.976-.439-1.546-1.208-1.546-.773 0-1.207.57-1.207 1.546 0 .984.434 1.551 1.207 1.551.769 0 1.208-.571 1.208-1.551zm-3.333 0c0-1.451.81-2.336 2.125-2.336 1.311 0 2.122.885 2.122 2.336 0 1.46-.807 2.341-2.122 2.341-1.319 0-2.125-.881-2.125-2.341zm9.892 2.254h-.922l-.93-3.317h-.071l-.926 3.317h-.913l-1.242-4.503h.902l.806 3.436h.067l.926-3.436h.852l.926 3.436h.07l.803-3.436h.889l-1.237 4.503zm2.281-4.503h.855v.715h.066c.219-.5.666-.802 1.344-.802 1.005 0 1.559.603 1.559 1.675v2.915h-.889v-2.692c0-.724-.314-1.084-.972-1.084-.657 0-1.075.439-1.075 1.141v2.635h-.888v-4.503zm5.24 4.503V8.437h.889v6.261h-.889zm5.457-2.254c0-.976-.439-1.546-1.208-1.546-.773 0-1.207.57-1.207 1.546 0 .984.434 1.551 1.207 1.551.769 0 1.208-.571 1.208-1.551zm-3.333 0c0-1.451.81-2.336 2.125-2.336 1.311 0 2.122.885 2.122 2.336 0 1.46-.807 2.341-2.122 2.341-1.319 0-2.125-.881-2.125-2.341zm8.077.596v-.377l-1.099.07c-.62.042-.901.253-.901.65 0 .405.351.641.834.641.67 0 1.166-.426 1.166-.984zm-2.894.384c0-.81.603-1.278 1.675-1.344l1.219-.07v-.389c0-.475-.314-.744-.921-.744-.496 0-.84.182-.939.5h-.86c.091-.773.818-1.269 1.84-1.269 1.129 0 1.765.562 1.765 1.513v3.077h-.855v-.633h-.071c-.268.451-.76.707-1.352.707-.868 0-1.501-.525-1.501-1.348zm5.865-.98c0 .955.45 1.53 1.203 1.53.749 0 1.212-.583 1.212-1.526 0-.938-.468-1.53-1.212-1.53-.748 0-1.203.579-1.203 1.526zm-.918 0c0-1.423.732-2.324 1.869-2.324.617 0 1.137.294 1.381.79h.067V8.437h.888v6.261h-.851v-.712h-.071c-.268.493-.794.786-1.414.786-1.145 0-1.869-.901-1.869-2.328zm11.215 0c0-.976-.439-1.546-1.208-1.546-.773 0-1.207.57-1.207 1.546 0 .984.434 1.551 1.207 1.551.769 0 1.208-.571 1.208-1.551zm-3.333 0c0-1.451.811-2.336 2.125-2.336 1.311 0 2.122.885 2.122 2.336 0 1.46-.807 2.341-2.122 2.341-1.318 0-2.125-.881-2.125-2.341zm5.44-2.249h.855v.715h.066c.219-.5.666-.802 1.344-.802 1.005 0 1.559.603 1.559 1.675v2.915h-.889v-2.692c0-.724-.314-1.084-.972-1.084-.657 0-1.075.439-1.075 1.141v2.635h-.888v-4.503zm8.845-1.121v1.141h.976v.749h-.976v2.315c0 .472.195.679.637.679.137 0 .215-.009.339-.021v.74a2.862 2.862 0 0 1-.484.046c-.988 0-1.381-.348-1.381-1.216v-2.543h-.715v-.749h.715V9.074h.889zm2.19-.637h.881v2.481h.07c.218-.504.694-.806 1.373-.806.959 0 1.551.608 1.551 1.679v2.907h-.89V12.01c0-.719-.335-1.084-.963-1.084-.728 0-1.134.46-1.134 1.142v2.63h-.888V8.437zm5.93 3.594h2.275c-.021-.707-.451-1.167-1.109-1.167-.657 0-1.116.464-1.166 1.167zm3.126 1.451c-.202.807-.922 1.303-1.951 1.303-1.29 0-2.08-.885-2.08-2.325 0-1.439.807-2.352 2.076-2.352 1.253 0 2.009.856 2.009 2.27v.31h-3.18v.05c.03.789.489 1.29 1.199 1.29.539 0 .907-.195 1.072-.546h.855zM24.769 20.301c.028 3.298 2.884 4.387 2.919 4.399-.017.076-.447 1.573-1.518 3.092-.895 1.338-1.833 2.646-3.321 2.67-1.446.033-1.932-.852-3.591-.852-1.674 0-2.192.828-3.579.885-1.418.053-2.501-1.428-3.428-2.754-1.852-2.706-3.295-7.627-1.361-10.975.937-1.642 2.647-2.7 4.473-2.728 1.419-.03 2.736.958 3.608.958.856 0 2.484-1.182 4.163-1.005.702.02 2.702.277 3.992 2.157-.105.063-2.382 1.402-2.357 4.153zm-2.732-8.09c-.778.918-2.024 1.621-3.237 1.53-.158-1.239.456-2.557 1.144-3.361.778-.913 2.128-1.612 3.208-1.66.141 1.289-.369 2.558-1.115 3.491z\" fill=\"#FFFFFE\"></path></g></svg></a>,\n <a class=\"anchor_anchor__m8Qi- downloadAppButtons_downloadAppCTA__O2suy\" href=\"/redirect/play\" rel=\"noopener noreferrer\" target=\"_blank\" title=\"Google Play\"><svg height=\"40\" viewbox=\"0 0 135 40\" width=\"135\" xmlns=\"http://www.w3.org/2000/svg\"><defs><lineargradient id=\"downloadGooglePlayIdA\" x1=\"59.881%\" x2=\"26.733%\" y1=\"18.253%\" y2=\"67.86%\"><stop offset=\"0%\" stop-color=\"#00A1FF\"></stop><stop offset=\"48.208%\" stop-color=\"#00D2FF\"></stop><stop offset=\"75.058%\" stop-color=\"#00BEFF\"></stop><stop offset=\"100%\" stop-color=\"#00E3FF\"></stop></lineargradient><lineargradient id=\"downloadGooglePlayIdB\" x1=\"87.171%\" x2=\"-50.137%\" y1=\"31.144%\" y2=\"136.01%\"><stop offset=\"0%\" stop-color=\"#FF3A44\"></stop><stop offset=\"100%\" stop-color=\"#C31162\"></stop></lineargradient><lineargradient id=\"downloadGooglePlayIdC\" x1=\"87.171%\" x2=\"-50.137%\" y1=\"27.513%\" y2=\"152.573%\"><stop offset=\"0%\" stop-color=\"#FFE000\"></stop><stop offset=\"38.87%\" stop-color=\"#FFA500\"></stop><stop offset=\"100%\" stop-color=\"#FF9C00\"></stop></lineargradient><lineargradient id=\"downloadGooglePlayIdD\" x1=\"87.171%\" x2=\"-50.137%\" y1=\"31.142%\" y2=\"136.019%\"><stop offset=\"0%\" stop-color=\"#00F076\"></stop><stop offset=\"47.54%\" stop-color=\"#15CF74\"></stop><stop offset=\"100%\" stop-color=\"#32A071\"></stop></lineargradient></defs><g fill=\"none\" fill-rule=\"evenodd\"><path d=\"M130 40H5c-2.75 0-5-2.25-5-5V5c0-2.75 2.25-5 5-5h125c2.75 0 5 2.25 5 5v30c0 2.75-2.25 5-5 5\" fill=\"#000\"></path><path d=\"M130 0H5C2.25 0 0 2.25 0 5v30c0 2.75 2.25 5 5 5h125c2.75 0 5-2.25 5-5V5c0-2.75-2.25-5-5-5m0 .8c2.316 0 4.2 1.884 4.2 4.2v30c0 2.316-1.884 4.2-4.2 4.2H5A4.205 4.205 0 0 1 .8 35V5C.8 2.684 2.684.8 5 .8h125\" fill=\"#A6A6A6\"></path><path d=\"M106.937 30h1.865V17.499h-1.865V30zm16.806-7.998l-2.139 5.42h-.064l-2.22-5.42h-2.009l3.329 7.575-1.899 4.214h1.946l5.131-11.789h-2.075zM113.16 28.58c-.61 0-1.463-.306-1.463-1.061 0-.965 1.062-1.335 1.979-1.335.819 0 1.206.177 1.704.418a2.262 2.262 0 0 1-2.22 1.978zm.226-6.851c-1.351 0-2.75.595-3.329 1.914l1.656.691c.354-.691 1.014-.917 1.705-.917.965 0 1.946.579 1.962 1.608v.129c-.338-.193-1.062-.482-1.946-.482-1.786 0-3.603.981-3.603 2.814 0 1.673 1.464 2.751 3.105 2.751 1.253 0 1.946-.563 2.379-1.223h.065v.965h1.802v-4.792c0-2.22-1.658-3.458-3.796-3.458zm-11.532 1.795H99.2v-4.285h2.654c1.395 0 2.187 1.155 2.187 2.142 0 .969-.792 2.143-2.187 2.143zm-.048-6.025h-4.471V30H99.2v-4.736h2.606c2.068 0 4.101-1.497 4.101-3.883 0-2.385-2.033-3.882-4.101-3.882zM77.425 28.583c-1.289 0-2.368-1.08-2.368-2.562 0-1.499 1.079-2.594 2.368-2.594 1.272 0 2.271 1.095 2.271 2.594 0 1.482-.999 2.562-2.271 2.562zm2.142-5.881h-.064c-.419-.499-1.225-.951-2.239-.951-2.127 0-4.076 1.87-4.076 4.27 0 2.384 1.949 4.237 4.076 4.237 1.014 0 1.82-.451 2.239-.966h.064v.611c0 1.628-.87 2.497-2.271 2.497-1.144 0-1.853-.821-2.143-1.514l-1.627.677c.467 1.127 1.707 2.513 3.77 2.513 2.191 0 4.044-1.289 4.044-4.43v-7.637h-1.773v.693zM82.629 30h1.868V17.499h-1.868V30zm4.623-4.124c-.048-1.644 1.273-2.481 2.224-2.481.741 0 1.369.371 1.579.902l-3.803 1.579zm5.8-1.418c-.355-.95-1.434-2.707-3.641-2.707-2.191 0-4.012 1.725-4.012 4.254 0 2.384 1.805 4.253 4.221 4.253 1.949 0 3.077-1.192 3.545-1.885l-1.45-.967c-.484.709-1.144 1.177-2.095 1.177-.95 0-1.627-.436-2.061-1.29l5.686-2.352-.193-.483zm-45.308-1.401v1.804h4.318c-.129 1.015-.468 1.756-.983 2.271-.629.629-1.612 1.322-3.335 1.322-2.659 0-4.737-2.143-4.737-4.801 0-2.658 2.078-4.801 4.737-4.801 1.434 0 2.481.564 3.254 1.289l1.273-1.273c-1.08-1.031-2.513-1.821-4.527-1.821-3.641 0-6.702 2.965-6.702 6.606 0 3.64 3.061 6.605 6.702 6.605 1.965 0 3.447-.645 4.607-1.853 1.192-1.192 1.563-2.867 1.563-4.221 0-.418-.032-.805-.097-1.127h-6.073zm11.078 5.526c-1.288 0-2.4-1.064-2.4-2.578 0-1.531 1.112-2.578 2.4-2.578 1.289 0 2.401 1.047 2.401 2.578 0 1.514-1.112 2.578-2.401 2.578zm0-6.832c-2.352 0-4.269 1.789-4.269 4.254 0 2.449 1.917 4.253 4.269 4.253 2.353 0 4.27-1.804 4.27-4.253 0-2.465-1.917-4.254-4.27-4.254zm9.314 6.832c-1.289 0-2.401-1.064-2.401-2.578 0-1.531 1.112-2.578 2.401-2.578 1.289 0 2.4 1.047 2.4 2.578 0 1.514-1.111 2.578-2.4 2.578zm0-6.832c-2.352 0-4.269 1.789-4.269 4.254 0 2.449 1.917 4.253 4.269 4.253 2.352 0 4.269-1.804 4.269-4.253 0-2.465-1.917-4.254-4.269-4.254zM44.47 10.611l-.1-.1v-.72l.1-.1h2.907l.098.082c.029.163.044.319.044.47 0 .864-.258 1.556-.773 2.072-.585.613-1.346.92-2.277.92-.892 0-1.655-.312-2.278-.93-.625-.619-.939-1.39-.939-2.305 0-.916.313-1.685.94-2.305.623-.618 1.385-.929 2.277-.929.443 0 .868.087 1.271.26.405.173.73.406.976.697l-.006.135-.528.528-.147-.007c-.378-.45-.897-.676-1.566-.676-.605 0-1.127.212-1.569.638-.441.426-.66.976-.66 1.66 0 .682.22 1.233.66 1.657.442.427.963.638 1.57.638.643 0 1.176-.213 1.605-.64.252-.254.407-.6.462-1.045h-2.068zm7.558 1.551l.1.1V13l-.1.1h-3.503l-.1-.1V7l.1-.1h3.503l.1.1v.737l-.1.1h-2.632V9.54h2.363l.1.1v.721l-.1.1h-2.363v1.702h2.632zm3.35.838l-.1.1h-.77l-.1-.1V7.837h-1.576l-.1-.1V7l.1-.1h4.123l.1.1v.737l-.1.1h-1.576V13zm4.56.1l-.1-.1V7l.1-.1h.771l.1.1v6l-.1.1h-.771zm4.29-.1l-.1.1h-.77l-.1-.1V7.837H61.68l-.1-.1V7l.1-.1h4.123l.1.1v.737l-.1.1h-1.576V13zm7.181-.704c.617 0 1.135-.214 1.56-.644.425-.431.637-.98.637-1.652 0-.672-.213-1.222-.638-1.652a2.103 2.103 0 0 0-1.559-.645c-.616 0-1.133.214-1.559.645-.424.43-.637.98-.637 1.652 0 .672.213 1.22.638 1.652a2.1 2.1 0 0 0 1.558.644zm0 .938c-.904 0-1.663-.314-2.27-.94-.608-.625-.913-1.39-.913-2.294 0-.903.305-1.67.913-2.294.608-.626 1.367-.94 2.27-.94.899 0 1.656.315 2.268.943.61.628.916 1.393.916 2.291 0 .903-.304 1.669-.912 2.294-.609.626-1.368.94-2.272.94zm5.037-3.971V13l-.1.1h-.77l-.1-.1V7l.1-.1 1.022.047 2.759 4.502-.028-.938V7l.1-.1h.772l.1.1v6l-.1.1-.89-.047-2.892-4.729.027.939z\" fill=\"#FFF\"></path><path d=\"M.694.398c-.29.308-.462.786-.462 1.405v22.116c0 .62.172 1.098.462 1.405l.074.072 12.39-12.389v-.292L.768.325.694.398z\" fill=\"url(#downloadGooglePlayIdA)\" transform=\"translate(9.741 7.14)\"></path><path d=\"M10.435 32.318c-.29-.308-.463-.786-.463-1.405v.146c0 .62.173 1.097.464 1.405l.073-.074-.074-.072z\" fill=\"#000\" fill-opacity=\".12\"></path><path d=\"M.694 25.324c.461.487 1.222.548 2.079.062l14.608-8.301-4.223-4.224L.694 25.324z\" fill=\"url(#downloadGooglePlayIdB)\" transform=\"translate(9.741 7.14)\"></path><path d=\"M27.029 24.132L12.514 32.38c-.812.46-1.538.43-2.004.01l-.074.075.073.072v-.001c.467.42 1.193.45 2.005-.01l14.608-8.301-.093-.093z\" fill=\"#000\" fill-opacity=\".2\"></path><path d=\"M13.158 12.715v.292l4.129 4.131.094-.052 4.893-2.78c1.397-.795 1.397-2.095 0-2.888l-4.893-2.781-.093-.053-4.13 4.131z\" fill=\"url(#downloadGooglePlayIdC)\" transform=\"translate(9.741 7.14)\"></path><path d=\"M32.015 21.299l-4.986 2.833.093.093 4.893-2.78c.699-.397 1.048-.92 1.048-1.443-.06.473-.414.937-1.048 1.297\" fill=\"#000\" fill-opacity=\".12\"></path><path d=\"M.694.398l12.464 12.463 4.223-4.224L2.773.337C2.371.108 1.99 0 1.652 0a1.28 1.28 0 0 0-.958.398\" fill=\"url(#downloadGooglePlayIdD)\" transform=\"translate(9.741 7.14)\"></path><path d=\"M12.514 7.623l19.5 11.08c.635.36.99.824 1.049 1.298 0-.523-.35-1.047-1.048-1.444L12.514 7.477c-1.398-.794-2.541-.134-2.541 1.466v.146c0-1.6 1.143-2.26 2.54-1.466\" fill=\"#FFF\" fill-opacity=\".25\"></path></g></svg></a>,\n <a class=\"anchor_anchor__m8Qi- socialMediaLinks_socialMediaLink__uz8GN\" href=\"https://instagram.com/vivino\" rel=\"noopener noreferrer\" target=\"_blank\" title=\"Instagram\"><svg height=\"24\" viewbox=\"0 0 24 24\" width=\"24\" xmlns=\"http://www.w3.org/2000/svg\"><path d=\"M21.067 15.946c-.04.87-.167 1.542-.414 2.178a4.246 4.246 0 0 1-.997 1.532 4.24 4.24 0 0 1-1.533.998c-.635.247-1.307.374-2.178.414-1.02.046-1.359.057-3.945.057s-2.926-.011-3.946-.057c-.87-.04-1.543-.167-2.178-.414a4.24 4.24 0 0 1-1.533-.998 4.246 4.246 0 0 1-.997-1.532c-.247-.636-.374-1.307-.414-2.178-.046-1.021-.057-1.36-.057-3.946 0-2.586.011-2.925.057-3.946.04-.87.167-1.542.414-2.177a4.25 4.25 0 0 1 .997-1.533 4.237 4.237 0 0 1 1.533-.997c.635-.247 1.307-.375 2.178-.414 1.02-.047 1.36-.058 3.946-.058 2.586 0 2.925.01 3.945.058.871.039 1.543.167 2.178.413a4.253 4.253 0 0 1 1.533.998c.454.455.762.928.997 1.533.247.635.374 1.307.414 2.178.046 1.02.058 1.359.058 3.945s-.012 2.925-.058 3.946m1-7.937c.046 1.039.058 1.383.058 3.99 0 2.609-.012 2.954-.059 3.992-.044.984-.193 1.754-.48 2.495a5.204 5.204 0 0 1-1.223 1.877 5.195 5.195 0 0 1-1.878 1.223c-.74.288-1.51.436-2.495.48-1.038.048-1.382.059-3.99.059-2.608 0-2.953-.011-3.992-.058-.983-.045-1.753-.193-2.494-.481a5.195 5.195 0 0 1-1.878-1.223 5.202 5.202 0 0 1-1.222-1.877c-.288-.741-.436-1.511-.48-2.495-.048-1.038-.059-1.383-.059-3.991s.011-2.952.058-3.991c.045-.984.193-1.753.481-2.495a5.21 5.21 0 0 1 1.222-1.877 5.18 5.18 0 0 1 1.878-1.222c.741-.288 1.511-.437 2.495-.481 1.038-.048 1.383-.06 3.991-.06s2.952.012 3.991.06c.984.044 1.753.193 2.494.48.741.288 1.32.665 1.878 1.223a5.197 5.197 0 0 1 1.222 1.877c.288.742.437 1.51.481 2.495zM12 16.125A4.13 4.13 0 0 1 7.875 12 4.13 4.13 0 0 1 12 7.875 4.13 4.13 0 0 1 16.125 12 4.13 4.13 0 0 1 12 16.125zm0-9.25A5.13 5.13 0 0 0 6.875 12 5.13 5.13 0 0 0 12 17.125 5.13 5.13 0 0 0 17.125 12 5.13 5.13 0 0 0 12 6.875zm5.363.437a.656.656 0 0 1 0-1.31.656.656 0 0 1 0 1.31zm0-2.31c-.913 0-1.655.742-1.655 1.655 0 .912.742 1.655 1.655 1.655s1.655-.743 1.655-1.655c0-.913-.742-1.655-1.655-1.655z\" fill=\"#1E1E1E\" fill-rule=\"evenodd\"></path></svg></a>,\n <a class=\"anchor_anchor__m8Qi- socialMediaLinks_socialMediaLink__uz8GN\" href=\"https://facebook.com/vivino\" rel=\"noopener noreferrer\" target=\"_blank\" title=\"Facebook\"><svg height=\"24\" viewbox=\"0 0 24 24\" width=\"24\" xmlns=\"http://www.w3.org/2000/svg\"><path d=\"M16.579 9.587l-.413 3.21H13.38V21h-3.29v-8.2H7.33V9.59h2.76V7.23C10.09 4.49 11.765 3 14.206 3h.052a23.4 23.4 0 0 1 2.412.124v2.862h-1.681c-1.331 0-1.59.63-1.59 1.558v2.043h3.18zm-2.12-2.527c.006 0 .132-.074.53-.074h1.68a1 1 0 0 0 1-1V3.124a1 1 0 0 0-.896-.995A24.556 24.556 0 0 0 14.258 2h-.054C11.099 2 9.09 4.052 9.09 7.23v1.36H7.33a1 1 0 0 0-1 1v3.21a1 1 0 0 0 1 1h1.76V21a1 1 0 0 0 1 1h3.29a1 1 0 0 0 1-1v-7.204h1.786a1 1 0 0 0 .992-.872l.404-3.139a.998.998 0 0 0-.978-1.198h-2.185V7.544c0-.376.056-.476.06-.484z\" fill=\"#1E1E1E\" fill-rule=\"evenodd\"></path></svg></a>,\n <a class=\"anchor_anchor__m8Qi- socialMediaLinks_socialMediaLink__uz8GN\" href=\"https://twitter.com/vivino\" rel=\"noopener noreferrer\" target=\"_blank\" title=\"Twitter\"><svg height=\"24\" viewbox=\"0 0 24 24\" width=\"24\" xmlns=\"http://www.w3.org/2000/svg\"><path d=\"M18.848 8.493c.007.151.007.303.007.455C18.855 13.612 15.3 19 8.803 19a10.05 10.05 0 0 1-5.41-1.578 7.083 7.083 0 0 0 5.229-1.468 3.532 3.532 0 0 1-3.3-2.452c.215.041.435.062.663.062.323 0 .634-.042.93-.124a3.541 3.541 0 0 1-2.832-3.466v-.048c.475.262 1.02.421 1.598.441a3.545 3.545 0 0 1-1.095-4.72 10.029 10.029 0 0 0 7.283 3.693A3.537 3.537 0 0 1 15.313 5c1.013 0 1.93.427 2.577 1.116a7.051 7.051 0 0 0 2.246-.854 3.56 3.56 0 0 1-1.557 1.957 7.16 7.16 0 0 0 2.033-.559 7.203 7.203 0 0 1-1.764 1.833m2.528-2.477a.984.984 0 0 0-.351-.266c.022-.059.043-.119.062-.179a1 1 0 0 0-1.463-1.168 6.005 6.005 0 0 1-1.446.618 4.551 4.551 0 0 0-2.865-1.02 4.54 4.54 0 0 0-4.523 4.213 9.08 9.08 0 0 1-5.43-3.199 1.004 1.004 0 0 0-.854-.364.998.998 0 0 0-.785.495 4.558 4.558 0 0 0-.27 4.005 1 1 0 0 0-.368.775c0 1.25.493 2.393 1.304 3.224a1 1 0 0 0-.017.655 4.52 4.52 0 0 0 1.765 2.366 6.136 6.136 0 0 1-2.617.26 1 1 0 0 0-.661 1.835A11.046 11.046 0 0 0 8.803 20c4.154 0 6.758-1.966 8.212-3.616 1.798-2.039 2.832-4.737 2.84-7.406a8.193 8.193 0 0 0 1.587-1.76 1 1 0 0 0-.066-1.202\" fill=\"#1E1E1E\" fill-rule=\"evenodd\"></path></svg></a>]"
     },
     "execution_count": 7,
     "metadata": {},
     "output_type": "execute_result"
    }
   ],
   "source": [
    "a_var = soup.find_all('a', {'class': 'anchor_anchor__m8Qi-'}) # anchor_anchor__m8Qi-\n",
    "a_var"
   ],
   "metadata": {
    "collapsed": false
   }
  },
  {
   "cell_type": "code",
   "execution_count": null,
   "outputs": [],
   "source": [
    "soup.find_all('a', {'class': 'anchor_anchor__m8Qi-'})[0].text"
   ],
   "metadata": {
    "collapsed": false
   }
  },
  {
   "cell_type": "code",
   "execution_count": null,
   "outputs": [],
   "source": [
    "soup.find_all('span', {'class': 'vintage'})[0].text.replace('\\n', '')"
   ],
   "metadata": {
    "collapsed": false
   }
  },
  {
   "cell_type": "code",
   "execution_count": 6,
   "outputs": [
    {
     "data": {
      "text/plain": "'€168'"
     },
     "execution_count": 6,
     "metadata": {},
     "output_type": "execute_result"
    }
   ],
   "source": [
    "soup.find_all('div', {'class': 'purchaseAvailability__row--S-DoM purchaseAvailability__prices--1WNrU'})[0].text #purchaseAvailability__currentPrice--3mO4u"
   ],
   "metadata": {
    "collapsed": false
   }
  },
  {
   "cell_type": "code",
   "execution_count": null,
   "outputs": [],
   "source": [
    "matching = [str(s) for s in a_var if 'grape' in str(s)][0]\n",
    "matching"
   ],
   "metadata": {
    "collapsed": false
   }
  },
  {
   "cell_type": "code",
   "execution_count": null,
   "outputs": [],
   "source": [
    "import re"
   ],
   "metadata": {
    "collapsed": false
   }
  },
  {
   "cell_type": "code",
   "execution_count": null,
   "outputs": [],
   "source": [
    "matches = re.findall('grape_ids\\[]=\\d+', matching)\n",
    "for match in matches:\n",
    "    print(re.findall('\\d+', match)[0])\n",
    "# string[len(string) - 1]"
   ],
   "metadata": {
    "collapsed": false
   }
  },
  {
   "cell_type": "code",
   "execution_count": 2,
   "outputs": [],
   "source": [
    "x = requests.get(\n",
    "    url='https://www.vivino.com/w/1652',\n",
    "    headers={\n",
    "        'User-Agent': 'Mozilla/5.0 (Macintosh; Intel Mac OS X 10_15_7) AppleWebKit/605.1.15 (KHTML, like Gecko) Version/16.3 Safari/605.1.15',\n",
    "        'Accept-Language': 'de-DE'\n",
    "    }\n",
    ")"
   ],
   "metadata": {
    "collapsed": false
   }
  },
  {
   "cell_type": "code",
   "execution_count": 3,
   "outputs": [
    {
     "data": {
      "text/plain": "'https://www.vivino.com/DE/de/antinori-tuscany-marchesi-antinori-tignanello/w/1652'"
     },
     "execution_count": 3,
     "metadata": {},
     "output_type": "execute_result"
    }
   ],
   "source": [
    "x.url"
   ],
   "metadata": {
    "collapsed": false
   }
  },
  {
   "cell_type": "code",
   "execution_count": 6,
   "outputs": [
    {
     "name": "stdout",
     "output_type": "stream",
     "text": [
      "We have data!\n"
     ]
    }
   ],
   "source": [
    "if not soup.find_all('div', {'class': 'purchaseAvailability__row--S-DoM purchaseAvailability__prices--1WNrU'}):\n",
    "    print('Empty!')\n",
    "else:\n",
    "    print('We have data!')"
   ],
   "metadata": {
    "collapsed": false
   }
  },
  {
   "cell_type": "code",
   "execution_count": null,
   "outputs": [],
   "source": [
    "BeautifulSoup(x.text).find_all('link')[1]"
   ],
   "metadata": {
    "collapsed": false
   }
  },
  {
   "cell_type": "code",
   "execution_count": 139,
   "outputs": [],
   "source": [
    "y = requests.get(\n",
    "    url='https://www.vivino.com/api/wines/7657778/reviews?per_page=1',\n",
    "    headers={\n",
    "        'User-Agent': 'Mozilla/5.0 (Macintosh; Intel Mac OS X 10_15_7) AppleWebKit/605.1.15 (KHTML, like Gecko) Version/16.3 Safari/605.1.15'\n",
    "    }\n",
    ")"
   ],
   "metadata": {
    "collapsed": false
   }
  },
  {
   "cell_type": "code",
   "execution_count": 141,
   "outputs": [
    {
     "data": {
      "text/plain": "{'id': 7657778,\n 'name': 'Kingpin',\n 'seo_name': 'kingpin',\n 'type_id': 1,\n 'vintage_type': 1,\n 'is_natural': False,\n 'region': {'id': 839,\n  'name': 'Vino de España',\n  'name_en': 'Vino de Mesa',\n  'seo_name': 'vino-de-mesa',\n  'country': {'code': 'es',\n   'name': 'Spanien',\n   'native_name': 'España',\n   'seo_name': 'spain',\n   'currency': {'code': 'EUR', 'name': 'Euro', 'prefix': '€', 'suffix': None},\n   'regions_count': 152,\n   'users_count': 2236620,\n   'wines_count': 141671,\n   'wineries_count': 18046,\n   'most_used_grapes': [{'id': 19,\n     'name': 'Tempranillo',\n     'seo_name': 'tempranillo',\n     'has_detailed_info': True,\n     'wines_count': 172842},\n    {'id': 142,\n     'name': 'Garnacha',\n     'seo_name': 'garnacha',\n     'has_detailed_info': True,\n     'wines_count': 58111},\n    {'id': 2,\n     'name': 'Cabernet Sauvignon',\n     'seo_name': 'cabernet-sauvignon',\n     'has_detailed_info': True,\n     'wines_count': 801751}]},\n  'parent_id': None,\n  'background_image': None,\n  'class': {'typecast_map': {'background_image': {}, 'class': {}}},\n  'statistics': {'wineries_count': 1171,\n   'wines_count': 7870,\n   'sub_regions_count': 0,\n   'parent_regions_count': 0}},\n 'vintage_mask': ['>0'],\n 'review_status': 2,\n 'winery': {'id': 19731,\n  'name': 'Félix Solís',\n  'seo_name': 'felix-solis',\n  'status': 3,\n  'review_status': 'Completed',\n  'dashboard_url': 'https://analytics-pbl.vivino.com/dashboards-next/40',\n  'background_image': {'location': '//images.vivino.com/wineries/backgrounds/UdeiR_s3RzKTLB_GyvOSRw.jpeg',\n   'variations': {'large': '//thumbs.vivino.com/winery_backgrounds/UdeiR_s3RzKTLB_GyvOSRw_2560x1520.jpeg',\n    'medium': '//thumbs.vivino.com/winery_backgrounds/UdeiR_s3RzKTLB_GyvOSRw_1280x760.jpeg',\n    'small': '//thumbs.vivino.com/winery_backgrounds/UdeiR_s3RzKTLB_GyvOSRw_600x356.jpeg'}},\n  'statistics': {'ratings_count': 311096,\n   'ratings_average': 3.6,\n   'labels_count': 3341899,\n   'wines_count': 287}},\n 'style': None,\n 'has_valid_ratings': False}"
     },
     "execution_count": 141,
     "metadata": {},
     "output_type": "execute_result"
    }
   ],
   "source": [
    "y.json()['reviews'][0]['vintage']['wine']"
   ],
   "metadata": {
    "collapsed": false
   }
  },
  {
   "cell_type": "code",
   "execution_count": 149,
   "outputs": [],
   "source": [
    "z = requests.get(\n",
    "    url='https://www.vivino.com/api/wines/79852/highlights?per_page=1',\n",
    "    headers={\n",
    "        'User-Agent': 'Mozilla/5.0 (Macintosh; Intel Mac OS X 10_15_7) AppleWebKit/605.1.15 (KHTML, like Gecko) Version/16.3 Safari/605.1.15'\n",
    "    }\n",
    ")\n",
    "# https://www.vivino.com/api/wines/1143613/tastes?language=de"
   ],
   "metadata": {
    "collapsed": false
   }
  },
  {
   "cell_type": "code",
   "execution_count": 150,
   "outputs": [
    {
     "data": {
      "text/plain": "'Champagne Frankreich'"
     },
     "execution_count": 150,
     "metadata": {},
     "output_type": "execute_result"
    }
   ],
   "source": [
    "z.json()['highlights'][0]['metadata']['style']['name']"
   ],
   "metadata": {
    "collapsed": false
   }
  },
  {
   "cell_type": "code",
   "execution_count": null,
   "outputs": [],
   "source": [
    "name = reviews.json()['reviews'][0]['vintage']['wine']['name']\n",
    "style = highlights.json()['highlights'][0]['metadata']['style']['name']\n",
    "price = highlights.json()['highlights'][0]['metadata']['price']['amount']\n",
    "country = highlights.json()['highlights'][0]['metadata']['style']['country']['name']\n",
    "grape_list = list()\n",
    "for i in range(len(highlights.json()['highlights'][0]['metadata']['style']['grapes'])):\n",
    "    grape_list.append(highlights.json()['highlights'][0]['metadata']['style']['grapes'][i]['name'])\n",
    "grapes = ', '.join(grape_list)\n",
    "region = reviews.json()['reviews'][0]['vintage']['wine']['region']['name']\n",
    "winery = reviews.json()['reviews'][0]['vintage']['wine']['winery']['name']"
   ],
   "metadata": {
    "collapsed": false
   }
  },
  {
   "cell_type": "code",
   "execution_count": null,
   "outputs": [],
   "source": [
    "grapes_dict = y.json()['grapes']"
   ],
   "metadata": {
    "collapsed": false
   }
  },
  {
   "cell_type": "code",
   "execution_count": null,
   "outputs": [],
   "source": [
    "{item['id'] : item for item in grapes_dict}[5]"
   ],
   "metadata": {
    "collapsed": false
   }
  },
  {
   "cell_type": "code",
   "execution_count": null,
   "outputs": [],
   "source": [
    "matches = re.findall('grape_ids\\[]=\\d+', matching)\n",
    "for match in matches:\n",
    "    print(re.findall('\\d+', match)[0])"
   ],
   "metadata": {
    "collapsed": false
   }
  },
  {
   "cell_type": "code",
   "execution_count": null,
   "outputs": [],
   "source": [
    "{item['id'] : item for item in grapes_dict}[int(re.findall('\\d+', matches[0])[0])]"
   ],
   "metadata": {
    "collapsed": false
   }
  },
  {
   "cell_type": "code",
   "execution_count": null,
   "outputs": [],
   "source": [
    "BeautifulSoup(y.text).find_all('a', {'class': 'anchor_anchor__m8Qi-'})"
   ],
   "metadata": {
    "collapsed": false
   }
  },
  {
   "cell_type": "code",
   "execution_count": null,
   "outputs": [],
   "source": [
    "soup.find_all('img', {'class': 'image'})[0]['src']"
   ],
   "metadata": {
    "collapsed": false
   }
  },
  {
   "cell_type": "code",
   "execution_count": null,
   "outputs": [],
   "source": [
    "np.round(0.958462, decimals=2) * 100"
   ],
   "metadata": {
    "collapsed": false
   }
  },
  {
   "cell_type": "code",
   "execution_count": 7,
   "outputs": [
    {
     "name": "stdout",
     "output_type": "stream",
     "text": [
      "Alles gut\n"
     ]
    }
   ],
   "source": [
    "if 'dd':\n",
    "    print('Alles gut')"
   ],
   "metadata": {
    "collapsed": false
   }
  }
 ],
 "metadata": {
  "kernelspec": {
   "display_name": "Python 3",
   "language": "python",
   "name": "python3"
  },
  "language_info": {
   "codemirror_mode": {
    "name": "ipython",
    "version": 2
   },
   "file_extension": ".py",
   "mimetype": "text/x-python",
   "name": "python",
   "nbconvert_exporter": "python",
   "pygments_lexer": "ipython2",
   "version": "2.7.6"
  }
 },
 "nbformat": 4,
 "nbformat_minor": 0
}
