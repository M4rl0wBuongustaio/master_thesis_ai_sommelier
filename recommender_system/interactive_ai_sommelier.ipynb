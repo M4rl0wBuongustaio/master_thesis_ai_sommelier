{
 "cells": [
  {
   "cell_type": "code",
   "execution_count": 1,
   "metadata": {
    "collapsed": true
   },
   "outputs": [],
   "source": [
    "from sentence_transformers import SentenceTransformer, util\n",
    "import matplotlib.pyplot as plt\n",
    "from datetime import datetime\n",
    "import pandas as pd\n",
    "import numpy as np\n",
    "import requests\n",
    "import sqlite3\n",
    "import random\n",
    "import torch"
   ]
  },
  {
   "cell_type": "code",
   "execution_count": 10,
   "outputs": [],
   "source": [
    "def load_from_database(\n",
    "        db: str,\n",
    "        table: str,\n",
    "        columns: str,\n",
    "):\n",
    "    connection = sqlite3.connect('../database/' + db + '.db')\n",
    "    df = pd.read_sql_query(\n",
    "        str('SELECT ' + columns + ' FROM ' + table), con=connection\n",
    "    )\n",
    "    connection.close()\n",
    "    return df\n",
    "\n",
    "\n",
    "def save_to_database(\n",
    "        db: str,\n",
    "        table: str,\n",
    "        df: pd.DataFrame\n",
    "):\n",
    "    connection = sqlite3.connect('../database/' + db + '.db')\n",
    "    try:\n",
    "        df.to_sql(name=table, con=connection, if_exists='replace')\n",
    "    except Exception as e:\n",
    "        raise e\n",
    "    print('DataFrame has been saved successfully to: ' + db)"
   ],
   "metadata": {
    "collapsed": false
   }
  },
  {
   "cell_type": "markdown",
   "source": [
    "### Embed review texts"
   ],
   "metadata": {
    "collapsed": false
   }
  },
  {
   "cell_type": "code",
   "execution_count": null,
   "outputs": [],
   "source": [
    "df_rev_en_sent = load_from_database(db='review_en_sentiment', table='review_en_sentiment',\n",
    "                                    columns='wine_id, note, likes_count')\n",
    "df_rev_en_sent.head()"
   ],
   "metadata": {
    "collapsed": false
   }
  },
  {
   "cell_type": "code",
   "execution_count": null,
   "outputs": [],
   "source": [
    "len(df_rev_en_sent[df_rev_en_sent['likes_count'] > 0]) / len(df_rev_en_sent)"
   ],
   "metadata": {
    "collapsed": false
   }
  },
  {
   "cell_type": "code",
   "execution_count": null,
   "outputs": [],
   "source": [
    "print(len(df_rev_en_sent))\n",
    "df_rev_en_sent = df_rev_en_sent[df_rev_en_sent['likes_count'] > 0]\n",
    "print(len(df_rev_en_sent))"
   ],
   "metadata": {
    "collapsed": false
   }
  },
  {
   "cell_type": "code",
   "execution_count": null,
   "outputs": [],
   "source": [
    "embedder = SentenceTransformer.load('../models/zero-shot').to('mps')"
   ],
   "metadata": {
    "collapsed": false
   }
  },
  {
   "cell_type": "code",
   "execution_count": null,
   "outputs": [],
   "source": [
    "test_embeddings = embedder.encode(\n",
    "    df_rev_en_sent['note'].tolist(),\n",
    "    convert_to_tensor=True,\n",
    "    show_progress_bar=True\n",
    ")"
   ],
   "metadata": {
    "collapsed": false
   }
  },
  {
   "cell_type": "code",
   "execution_count": null,
   "outputs": [],
   "source": [
    "df_rev_en_sent.reset_index(inplace=True)"
   ],
   "metadata": {
    "collapsed": false
   }
  },
  {
   "cell_type": "code",
   "execution_count": null,
   "outputs": [],
   "source": [
    "#\n",
    "embeddings_dict = {\n",
    "    index: [df_rev_en_sent.loc[index, 'wine_id'], test_embeddings[index]] for index in df_rev_en_sent.index\n",
    "}"
   ],
   "metadata": {
    "collapsed": false
   }
  },
  {
   "cell_type": "code",
   "execution_count": null,
   "outputs": [],
   "source": [
    "torch.save(embeddings_dict, '../database/test_embeddings_likes.pt')"
   ],
   "metadata": {
    "collapsed": false
   }
  },
  {
   "cell_type": "code",
   "execution_count": null,
   "outputs": [],
   "source": [
    "torch.save(test_embeddings, '../database/test_embeddings_likes_tensors.pt')"
   ],
   "metadata": {
    "collapsed": false
   }
  },
  {
   "cell_type": "markdown",
   "source": [
    "### Load pre-embedded reviews"
   ],
   "metadata": {
    "collapsed": false
   }
  },
  {
   "cell_type": "code",
   "execution_count": 2,
   "outputs": [],
   "source": [
    "embeddings_dict: dict = torch.load('../database/test_embeddings_likes.pt')"
   ],
   "metadata": {
    "collapsed": false
   }
  },
  {
   "cell_type": "code",
   "execution_count": 3,
   "outputs": [],
   "source": [
    "embeddings_list: torch.tensor = torch.stack([embeddings_dict[i][1] for i in range(len(embeddings_dict.values()))])\n",
    "wine_id_list: list = [embeddings_dict[i][0] for i in range(len(embeddings_dict.values()))]\n",
    "del embeddings_dict"
   ],
   "metadata": {
    "collapsed": false
   }
  },
  {
   "cell_type": "code",
   "execution_count": 4,
   "outputs": [],
   "source": [
    "embedder = SentenceTransformer.load('../models/simcse_en').to('mps')"
   ],
   "metadata": {
    "collapsed": false
   }
  },
  {
   "cell_type": "code",
   "execution_count": 5,
   "outputs": [],
   "source": [
    "random_indices_list = list()\n",
    "for i in range(200):\n",
    "    random_index = random.randint(0, len(embeddings_list) - 1)\n",
    "    random_indices_list.append(random_index)\n",
    "random_queries = embeddings_list[random_indices_list]"
   ],
   "metadata": {
    "collapsed": false
   }
  },
  {
   "cell_type": "code",
   "execution_count": 6,
   "outputs": [],
   "source": [
    "plt.rcParams['font.size'] = 13\n",
    "plt.rcParams['font.family'] = 'Palatino'\n",
    "fig_path = r'/Users/leonbecker/Library/CloudStorage/OneDrive-UniversitätWürzburg/Universität Würzburg/Master Information-Systems/Thesis/LaTex/graphics/'\n",
    "plt.rcParams['path.simplify'] = True\n",
    "# locale.setlocale(locale.LC_NUMERIC, \"de_DE\")\n",
    "plt.rcParams['axes.formatter.use_locale'] = True"
   ],
   "metadata": {
    "collapsed": false
   }
  },
  {
   "cell_type": "code",
   "execution_count": 7,
   "outputs": [
    {
     "name": "stdout",
     "output_type": "stream",
     "text": [
      "200\n",
      "400\n",
      "600\n",
      "800\n",
      "1000\n",
      "1200\n",
      "1400\n",
      "1600\n",
      "1800\n",
      "2000\n",
      "2200\n",
      "2400\n",
      "2600\n",
      "2800\n",
      "3000\n",
      "3200\n",
      "3400\n",
      "3600\n",
      "3800\n",
      "4000\n"
     ]
    },
    {
     "data": {
      "text/plain": "      k   mean1   mean2   mean3  median1  median2  median3  total_mean\n0   200   6.260   4.495   3.790      4.0      3.0      3.0    3.333333\n0   400   9.945   7.425   6.180      6.0      5.0      4.0    5.000000\n0   600  13.370  10.020   8.375      8.0      7.0      6.0    7.000000\n0   800  16.570  12.770  10.405     10.0      8.0      7.0    8.333333\n0  1000  19.850  15.175  12.435     12.0     10.0      8.0   10.000000\n0  1200  22.630  17.545  14.335     14.0     11.0     10.0   11.666667\n0  1400  25.340  19.620  16.150     15.0     13.0     11.0   13.000000\n0  1600  28.360  21.745  18.020     17.0     14.0     12.0   14.333333\n0  1800  30.950  24.080  19.920     18.0     15.0     14.0   15.666667\n0  2000  33.650  26.250  21.775     20.0     16.5     15.0   17.166667\n0  2200  36.180  28.400  23.565     21.5     17.0     16.0   18.166667\n0  2400  38.645  30.315  25.350     23.0     19.0     17.0   19.666667\n0  2600  41.085  32.335  27.105     24.0     20.0     18.0   20.666667\n0  2800  43.615  34.265  28.600     25.0     21.0     19.0   21.666667\n0  3000  46.165  36.305  30.260     26.0     22.5     20.0   22.833333\n0  3200  48.620  38.190  31.830     28.0     23.5     22.0   24.500000\n0  3400  51.125  40.220  33.560     29.0     25.0     22.5   25.500000\n0  3600  53.730  41.880  35.160     30.0     26.0     23.0   26.333333\n0  3800  56.010  43.690  36.760     32.0     27.0     24.0   27.666667\n0  4000  58.430  45.475  38.435     33.0     28.0     25.0   28.666667",
      "text/html": "<div>\n<style scoped>\n    .dataframe tbody tr th:only-of-type {\n        vertical-align: middle;\n    }\n\n    .dataframe tbody tr th {\n        vertical-align: top;\n    }\n\n    .dataframe thead th {\n        text-align: right;\n    }\n</style>\n<table border=\"1\" class=\"dataframe\">\n  <thead>\n    <tr style=\"text-align: right;\">\n      <th></th>\n      <th>k</th>\n      <th>mean1</th>\n      <th>mean2</th>\n      <th>mean3</th>\n      <th>median1</th>\n      <th>median2</th>\n      <th>median3</th>\n      <th>total_mean</th>\n    </tr>\n  </thead>\n  <tbody>\n    <tr>\n      <th>0</th>\n      <td>200</td>\n      <td>6.260</td>\n      <td>4.495</td>\n      <td>3.790</td>\n      <td>4.0</td>\n      <td>3.0</td>\n      <td>3.0</td>\n      <td>3.333333</td>\n    </tr>\n    <tr>\n      <th>0</th>\n      <td>400</td>\n      <td>9.945</td>\n      <td>7.425</td>\n      <td>6.180</td>\n      <td>6.0</td>\n      <td>5.0</td>\n      <td>4.0</td>\n      <td>5.000000</td>\n    </tr>\n    <tr>\n      <th>0</th>\n      <td>600</td>\n      <td>13.370</td>\n      <td>10.020</td>\n      <td>8.375</td>\n      <td>8.0</td>\n      <td>7.0</td>\n      <td>6.0</td>\n      <td>7.000000</td>\n    </tr>\n    <tr>\n      <th>0</th>\n      <td>800</td>\n      <td>16.570</td>\n      <td>12.770</td>\n      <td>10.405</td>\n      <td>10.0</td>\n      <td>8.0</td>\n      <td>7.0</td>\n      <td>8.333333</td>\n    </tr>\n    <tr>\n      <th>0</th>\n      <td>1000</td>\n      <td>19.850</td>\n      <td>15.175</td>\n      <td>12.435</td>\n      <td>12.0</td>\n      <td>10.0</td>\n      <td>8.0</td>\n      <td>10.000000</td>\n    </tr>\n    <tr>\n      <th>0</th>\n      <td>1200</td>\n      <td>22.630</td>\n      <td>17.545</td>\n      <td>14.335</td>\n      <td>14.0</td>\n      <td>11.0</td>\n      <td>10.0</td>\n      <td>11.666667</td>\n    </tr>\n    <tr>\n      <th>0</th>\n      <td>1400</td>\n      <td>25.340</td>\n      <td>19.620</td>\n      <td>16.150</td>\n      <td>15.0</td>\n      <td>13.0</td>\n      <td>11.0</td>\n      <td>13.000000</td>\n    </tr>\n    <tr>\n      <th>0</th>\n      <td>1600</td>\n      <td>28.360</td>\n      <td>21.745</td>\n      <td>18.020</td>\n      <td>17.0</td>\n      <td>14.0</td>\n      <td>12.0</td>\n      <td>14.333333</td>\n    </tr>\n    <tr>\n      <th>0</th>\n      <td>1800</td>\n      <td>30.950</td>\n      <td>24.080</td>\n      <td>19.920</td>\n      <td>18.0</td>\n      <td>15.0</td>\n      <td>14.0</td>\n      <td>15.666667</td>\n    </tr>\n    <tr>\n      <th>0</th>\n      <td>2000</td>\n      <td>33.650</td>\n      <td>26.250</td>\n      <td>21.775</td>\n      <td>20.0</td>\n      <td>16.5</td>\n      <td>15.0</td>\n      <td>17.166667</td>\n    </tr>\n    <tr>\n      <th>0</th>\n      <td>2200</td>\n      <td>36.180</td>\n      <td>28.400</td>\n      <td>23.565</td>\n      <td>21.5</td>\n      <td>17.0</td>\n      <td>16.0</td>\n      <td>18.166667</td>\n    </tr>\n    <tr>\n      <th>0</th>\n      <td>2400</td>\n      <td>38.645</td>\n      <td>30.315</td>\n      <td>25.350</td>\n      <td>23.0</td>\n      <td>19.0</td>\n      <td>17.0</td>\n      <td>19.666667</td>\n    </tr>\n    <tr>\n      <th>0</th>\n      <td>2600</td>\n      <td>41.085</td>\n      <td>32.335</td>\n      <td>27.105</td>\n      <td>24.0</td>\n      <td>20.0</td>\n      <td>18.0</td>\n      <td>20.666667</td>\n    </tr>\n    <tr>\n      <th>0</th>\n      <td>2800</td>\n      <td>43.615</td>\n      <td>34.265</td>\n      <td>28.600</td>\n      <td>25.0</td>\n      <td>21.0</td>\n      <td>19.0</td>\n      <td>21.666667</td>\n    </tr>\n    <tr>\n      <th>0</th>\n      <td>3000</td>\n      <td>46.165</td>\n      <td>36.305</td>\n      <td>30.260</td>\n      <td>26.0</td>\n      <td>22.5</td>\n      <td>20.0</td>\n      <td>22.833333</td>\n    </tr>\n    <tr>\n      <th>0</th>\n      <td>3200</td>\n      <td>48.620</td>\n      <td>38.190</td>\n      <td>31.830</td>\n      <td>28.0</td>\n      <td>23.5</td>\n      <td>22.0</td>\n      <td>24.500000</td>\n    </tr>\n    <tr>\n      <th>0</th>\n      <td>3400</td>\n      <td>51.125</td>\n      <td>40.220</td>\n      <td>33.560</td>\n      <td>29.0</td>\n      <td>25.0</td>\n      <td>22.5</td>\n      <td>25.500000</td>\n    </tr>\n    <tr>\n      <th>0</th>\n      <td>3600</td>\n      <td>53.730</td>\n      <td>41.880</td>\n      <td>35.160</td>\n      <td>30.0</td>\n      <td>26.0</td>\n      <td>23.0</td>\n      <td>26.333333</td>\n    </tr>\n    <tr>\n      <th>0</th>\n      <td>3800</td>\n      <td>56.010</td>\n      <td>43.690</td>\n      <td>36.760</td>\n      <td>32.0</td>\n      <td>27.0</td>\n      <td>24.0</td>\n      <td>27.666667</td>\n    </tr>\n    <tr>\n      <th>0</th>\n      <td>4000</td>\n      <td>58.430</td>\n      <td>45.475</td>\n      <td>38.435</td>\n      <td>33.0</td>\n      <td>28.0</td>\n      <td>25.0</td>\n      <td>28.666667</td>\n    </tr>\n  </tbody>\n</table>\n</div>"
     },
     "execution_count": 7,
     "metadata": {},
     "output_type": "execute_result"
    }
   ],
   "source": [
    "wine_id_count = pd.DataFrame()\n",
    "for k in [200, 400, 600, 800, 1000, 1200, 1400, 1600, 1800, 2000, 2200, 2400, 2600, 2800, 3000, 3200, 3400, 3600, 3800, 4000]:\n",
    "    print(k)\n",
    "    oc1 = list()\n",
    "    oc2 = list()\n",
    "    oc3 = list()\n",
    "    for query in random_queries:\n",
    "        similarity_scores = util.cos_sim(query, embeddings_list)\n",
    "        top_results = torch.topk(similarity_scores, k=k)\n",
    "        top_similar_wines = [wine_id_list[i] for i in top_results[1][0]]\n",
    "\n",
    "        id_var = max(set(top_similar_wines), key=top_similar_wines.count)\n",
    "        id_count = top_similar_wines.count(id_var)\n",
    "        oc1.append(id_count)\n",
    "        top_similar_wines = [i for i in top_similar_wines if i != id_var]\n",
    "\n",
    "        id_var = max(set(top_similar_wines), key=top_similar_wines.count)\n",
    "        id_count = top_similar_wines.count(id_var)\n",
    "        oc2.append(id_count)\n",
    "        top_similar_wines = [i for i in top_similar_wines if i != id_var]\n",
    "\n",
    "        id_var = max(set(top_similar_wines), key=top_similar_wines.count)\n",
    "        id_count = top_similar_wines.count(id_var)\n",
    "        oc3.append(id_count)\n",
    "        top_similar_wines = [i for i in top_similar_wines if i != id_var]\n",
    "\n",
    "    df_temp = pd.DataFrame(\n",
    "        {\n",
    "            'k': [k],\n",
    "            'mean1': [np.mean(oc1)],\n",
    "            'mean2': [np.mean(oc2)],\n",
    "            'mean3': [np.mean(oc3)],\n",
    "            'median1': [np.median(oc1)],\n",
    "            'median2': [np.median(oc2)],\n",
    "            'median3': [np.median(oc3)],\n",
    "            'total_mean': [np.mean([np.median(oc1), np.median(oc2), np.median(oc3)])]\n",
    "        }\n",
    "    )\n",
    "    wine_id_count = pd.concat([wine_id_count, df_temp])\n",
    "wine_id_count"
   ],
   "metadata": {
    "collapsed": false
   }
  },
  {
   "cell_type": "code",
   "execution_count": 28,
   "outputs": [
    {
     "data": {
      "text/plain": "<Figure size 1280x480 with 1 Axes>",
      "image/png": "[encoded data removed]"
     },
     "metadata": {},
     "output_type": "display_data"
    }
   ],
   "source": [
    "fig, ax = plt.subplots(figsize=(12.8,4.8))\n",
    "width = 45\n",
    "ax.bar(\n",
    "    x=wine_id_count['k']-45,\n",
    "    height=wine_id_count['median1'] ,\n",
    "    align='center',\n",
    "    width=width,\n",
    "    zorder=3,\n",
    "    edgecolor='black',\n",
    "    label='#1',\n",
    "    color='white'\n",
    ")\n",
    "ax.bar(\n",
    "    x=wine_id_count['k'],\n",
    "    height=wine_id_count['median2'] ,\n",
    "    align='center',\n",
    "    zorder=3,\n",
    "    width=width,\n",
    "    edgecolor='black',\n",
    "    label='#2',\n",
    "    color='lightgrey'\n",
    ")\n",
    "ax.bar(\n",
    "    x=wine_id_count['k']+45,\n",
    "    height=wine_id_count['median3'] ,\n",
    "    align='center',\n",
    "    width=width,\n",
    "    zorder=3,\n",
    "    edgecolor='black',\n",
    "    label='#3',\n",
    "    color='grey'\n",
    ")\n",
    "ax.plot(\n",
    "    wine_id_count['k']-45,\n",
    "    wine_id_count['median1'],\n",
    "    linestyle='-',\n",
    "    c='black',\n",
    "    label='#1'\n",
    ")\n",
    "ax.plot(\n",
    "    wine_id_count['k'],\n",
    "    wine_id_count['median2'] ,\n",
    "    linestyle='--',\n",
    "    c='black',\n",
    "    label='#2'\n",
    ")\n",
    "ax.plot(\n",
    "    wine_id_count['k']+45,\n",
    "    wine_id_count['median3'] ,\n",
    "    linestyle='dashdot',\n",
    "    c='black',\n",
    "    label='#3'\n",
    ")\n",
    "ax.annotate('1. Rückgang der Steigung', (1350, 15.5),\n",
    "            xytext=(0.327, 0.65), textcoords='axes fraction',\n",
    "            arrowprops=dict(facecolor='black', shrink=0.05),\n",
    "            fontsize=13,\n",
    "            horizontalalignment='right', verticalalignment='top')\n",
    "ax.legend(loc='upper left')\n",
    "ax.set_ylabel('Median-Anzahl Wein-Id')\n",
    "ax.set_xlabel('Anzahl ähnlichste Weine')\n",
    "ax.grid(axis='y')\n",
    "ax.spines[['right', 'top']].set_visible(False)\n",
    "ax.set_xticks([200, 400, 600, 800, 1000, 1200, 1400, 1600, 1800, 2000, 2200, 2400, 2600, 2800, 3000, 3200, 3400, 3600, 3800, 4000])\n",
    "fig.tight_layout()\n",
    "fig.savefig(fig_path + 'top_k.pdf')"
   ],
   "metadata": {
    "collapsed": false
   }
  },
  {
   "cell_type": "code",
   "execution_count": 61,
   "outputs": [
    {
     "data": {
      "text/plain": "'{\"level_0\":{\"0\":0,\"1\":1,\"2\":2,\"3\":3,\"4\":4,\"5\":5,\"6\":6,\"7\":7,\"8\":8,\"9\":9},\"index\":{\"0\":0,\"1\":0,\"2\":0,\"3\":0,\"4\":0,\"5\":0,\"6\":0,\"7\":0,\"8\":0,\"9\":0},\"k\":{\"0\":200,\"1\":400,\"2\":600,\"3\":800,\"4\":1000,\"5\":1200,\"6\":1400,\"7\":1600,\"8\":1800,\"9\":2000},\"mean\":{\"0\":5.55,\"1\":8.7,\"2\":11.3,\"3\":14.45,\"4\":17.35,\"5\":20.9,\"6\":23.5,\"7\":26.45,\"8\":29.2,\"9\":32.15},\"median\":{\"0\":4.5,\"1\":6.5,\"2\":7.5,\"3\":9.0,\"4\":10.5,\"5\":12.5,\"6\":14.0,\"7\":16.0,\"8\":17.0,\"9\":17.5}}'"
     },
     "execution_count": 61,
     "metadata": {},
     "output_type": "execute_result"
    }
   ],
   "source": [
    "wine_id_count.to_json(orient='columns')"
   ],
   "metadata": {
    "collapsed": false
   }
  },
  {
   "cell_type": "code",
   "execution_count": 50,
   "outputs": [
    {
     "data": {
      "text/plain": "dict_values([[5, 2, 3, 3, 2, 2, 3, 3, 3, 2, 3, 12, 3, 3, 4, 3, 3, 5, 10, 3], [7, 3, 4, 5, 2, 2, 4, 5, 3, 3, 5, 22, 5, 3, 6, 5, 3, 6, 14, 4], [11, 4, 5, 8, 3, 4, 4, 5, 4, 3, 6, 28, 5, 4, 8, 6, 4, 7, 17, 8], [15, 4, 7, 8, 4, 5, 5, 6, 4, 5, 6, 33, 9, 4, 11, 7, 5, 7, 20, 9], [15, 4, 7, 9, 5, 5, 5, 7, 6, 5, 7, 39, 10, 5, 16, 7, 6, 7, 21, 10], [17, 5, 7, 11, 6, 6, 6, 7, 7, 6, 8, 46, 11, 6, 21, 8, 7, 8, 23, 10], [19, 5, 7, 15, 7, 6, 6, 8, 7, 6, 8, 56, 14, 6, 24, 11, 8, 9, 25, 11], [22, 7, 7, 17, 7, 6, 7, 9, 7, 6, 11, 63, 19, 6, 30, 11, 8, 9, 25, 12], [24, 7, 7, 20, 7, 7, 8, 9, 7, 6, 13, 71, 23, 7, 31, 16, 10, 9, 26, 14], [26, 9, 7, 22, 8, 7, 8, 9, 7, 6, 17, 78, 24, 7, 33, 16, 11, 10, 28, 14]])"
     },
     "execution_count": 50,
     "metadata": {},
     "output_type": "execute_result"
    }
   ],
   "source": [
    "wine_id_count.values()"
   ],
   "metadata": {
    "collapsed": false
   }
  },
  {
   "cell_type": "code",
   "execution_count": null,
   "outputs": [],
   "source": [
    "probabilities =  [top_results[0][0][i] for i in indices]\n",
    "np.round(np.mean(probabilities), decimals=2)"
   ],
   "metadata": {
    "collapsed": false
   }
  },
  {
   "cell_type": "code",
   "execution_count": null,
   "outputs": [],
   "source": [
    "wine_ids = list()\n",
    "lower, upper = 0, 1000\n",
    "for i in range(3):\n",
    "    wines = top_similar_wines[lower:upper]\n",
    "    id_var = max(set(wines), key=wines.count)\n",
    "    while id_var in wine_ids:\n",
    "        wines = [i for i in wines if i != id_var]\n",
    "        id_var = max(set(wines), key=wines.count)\n",
    "    wine_ids.append(id_var)\n",
    "    lower += 1000\n",
    "    upper += 1000"
   ],
   "metadata": {
    "collapsed": false
   }
  },
  {
   "cell_type": "code",
   "execution_count": null,
   "outputs": [],
   "source": [
    "query = 'light white wine with creamy texture low acidity fruity'\n",
    "embedded_query = embedder.encode(query, convert_to_tensor=True)"
   ],
   "metadata": {
    "collapsed": false
   }
  },
  {
   "cell_type": "code",
   "execution_count": null,
   "outputs": [],
   "source": [
    "time_dict = dict()\n",
    "k = 100\n",
    "for n in [100000, 200000, 300000, 400000, 500000, 600000, 700000, 800000, 900000, 1000000]:\n",
    "    embeddings_list_test = embeddings_list[:n]\n",
    "    time_dict[n] = list()\n",
    "    for i in range(50):\n",
    "        start = datetime.now()\n",
    "        similarity_scores = util.cos_sim(a=embedded_query, b=embeddings_list_test)\n",
    "        top_similar_wines = torch.topk(k=k, input=similarity_scores)\n",
    "        duration = datetime.now() - start\n",
    "        time_dict[n].append(duration)"
   ],
   "metadata": {
    "collapsed": false
   }
  },
  {
   "cell_type": "code",
   "execution_count": null,
   "outputs": [],
   "source": [
    "time_dict"
   ],
   "metadata": {
    "collapsed": false
   }
  },
  {
   "cell_type": "code",
   "execution_count": null,
   "outputs": [],
   "source": [
    "df_dict = dict()\n",
    "for key in time_dict.keys():\n",
    "    df_dict[key] = np.median([i.microseconds for i in time_dict[key]])"
   ],
   "metadata": {
    "collapsed": false
   }
  },
  {
   "cell_type": "code",
   "execution_count": 3,
   "outputs": [],
   "source": [
    "# 2620, 1667464\n",
    "USER_AGENT = 'Mozilla/5.0 (Macintosh; Intel Mac OS X 10_15_7) AppleWebKit/605.1.15 (KHTML, like Gecko) Version/16.3 Safari/605.1.15'\n",
    "prices = requests.get(\n",
    "    url='https://www.vivino.com/api/wines/{}/checkout_prices?language=de'.format(1667464),\n",
    "    headers={\n",
    "        'User-Agent': USER_AGENT\n",
    "    }\n",
    ").json()"
   ],
   "metadata": {
    "collapsed": false
   }
  },
  {
   "cell_type": "code",
   "execution_count": 48,
   "outputs": [
    {
     "data": {
      "text/plain": "'Vorhanden (median)!'"
     },
     "execution_count": 48,
     "metadata": {},
     "output_type": "execute_result"
    }
   ],
   "source": [
    "if prices.json()['checkout_prices'][0]['availability']['price']:\n",
    "    price = 'Vorhanden (price)!'\n",
    "elif prices.json()['checkout_prices'][0]['availability']['median']:\n",
    "    price = 'Vorhanden (median)!'\n",
    "else:\n",
    "    price = 'Fehlt!'\n",
    "price"
   ],
   "metadata": {
    "collapsed": false
   }
  },
  {
   "cell_type": "code",
   "execution_count": 10,
   "outputs": [],
   "source": [
    "highlights = requests.get(\n",
    "    url='https://www.vivino.com/api/wines/{}/highlights?per_page=1'.format(1667464),\n",
    "    headers={\n",
    "        'User-Agent': USER_AGENT\n",
    "    }\n",
    ").json()"
   ],
   "metadata": {
    "collapsed": false
   }
  },
  {
   "cell_type": "code",
   "execution_count": 9,
   "outputs": [
    {
     "data": {
      "text/plain": "'k.A.'"
     },
     "execution_count": 9,
     "metadata": {},
     "output_type": "execute_result"
    }
   ],
   "source": [
    "if highlights['highlights'][0]['metadata']['style']:\n",
    "    wine_type = highlights['highlights'][0]['metadata']['style']\n",
    "else:\n",
    "    wine_type = 'k.A.'\n",
    "wine_type"
   ],
   "metadata": {
    "collapsed": false
   }
  },
  {
   "cell_type": "code",
   "execution_count": 1,
   "outputs": [
    {
     "data": {
      "text/plain": "'2023-03-23 15:55:41'"
     },
     "execution_count": 1,
     "metadata": {},
     "output_type": "execute_result"
    }
   ],
   "source": [
    "from datetime import datetime\n",
    "\n",
    "datetime.now().isoformat(sep=\" \", timespec=\"seconds\")"
   ],
   "metadata": {
    "collapsed": false
   }
  }
 ],
 "metadata": {
  "kernelspec": {
   "display_name": "Python 3",
   "language": "python",
   "name": "python3"
  },
  "language_info": {
   "codemirror_mode": {
    "name": "ipython",
    "version": 2
   },
   "file_extension": ".py",
   "mimetype": "text/x-python",
   "name": "python",
   "nbconvert_exporter": "python",
   "pygments_lexer": "ipython2",
   "version": "2.7.6"
  }
 },
 "nbformat": 4,
 "nbformat_minor": 0
}
